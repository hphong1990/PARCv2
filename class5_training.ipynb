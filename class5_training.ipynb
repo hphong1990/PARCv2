{
 "cells": [
  {
   "cell_type": "code",
   "execution_count": 1,
   "id": "1564df3b-b576-441f-be02-edbd748d37a6",
   "metadata": {
    "tags": []
   },
   "outputs": [
    {
     "name": "stderr",
     "output_type": "stream",
     "text": [
      "2024-05-26 21:44:34.035657: I tensorflow/core/platform/cpu_feature_guard.cc:183] This TensorFlow binary is optimized to use available CPU instructions in performance-critical operations.\n",
      "To enable the following instructions: SSE3 SSE4.1 SSE4.2 AVX, in other operations, rebuild TensorFlow with the appropriate compiler flags.\n",
      "2024-05-26 21:44:38.681419: I tensorflow/core/common_runtime/gpu/gpu_device.cc:1636] Created device /job:localhost/replica:0/task:0/device:GPU:0 with 38080 MB memory:  -> device: 0, name: NVIDIA A100-SXM4-40GB, pci bus id: 0000:90:00.0, compute capability: 8.0\n"
     ]
    }
   ],
   "source": [
    "import time\n",
    "import skimage\n",
    "from skimage.measure import block_reduce\n",
    "\n",
    "import numpy as np\n",
    "import matplotlib.pyplot as plt\n",
    "import tensorflow as tf\n",
    "import os\n",
    "os.chdir(\".\")\n",
    "import parc.data.data_em as data\n",
    "#from parc import misc, metrics, visualization\n",
    "from parc.model import model_em as model"
   ]
  },
  {
   "cell_type": "markdown",
   "id": "47d6b563-d0ed-43c8-a433-49196afaa7d1",
   "metadata": {},
   "source": [
    "## Reshaping Data to fit PARCv2"
   ]
  },
  {
   "cell_type": "code",
   "execution_count": 2,
   "id": "b28a0d34-3552-4beb-84f3-9df02af0da8f",
   "metadata": {},
   "outputs": [
    {
     "data": {
      "text/plain": [
       "(680, 1000, 195)"
      ]
     },
     "execution_count": 2,
     "metadata": {},
     "output_type": "execute_result"
    }
   ],
   "source": [
    "path = '/scratch/pdy2bw/class5_complete/class5_16.npy'\n",
    "\n",
    "raw_data = np.float32(np.load(path))\n",
    "data_shape = raw_data.shape\n",
    "\n",
    "data_shape"
   ]
  },
  {
   "cell_type": "code",
   "execution_count": 2,
   "id": "ee354031-c509-4f59-9ef4-8e9cb2d28bdb",
   "metadata": {
    "tags": []
   },
   "outputs": [],
   "source": [
    "## idx range here is list of folders 1-23\n",
    "\n",
    "folders = [2, 3, 4, 5, 6, 8, 9, 10, 11, 13, 14, 15, 16, 19, 21, 22, 23] \n",
    "folders_test = [1, 12, 20, 7]\n",
    "\n",
    "\n",
    "def clip_raw_data(folders, sequence_length=2, n_state_var=3, purpose = \"diff_training\"):\n",
    "    state_seq_whole = []\n",
    "    vel_seq_whole = []\n",
    "\n",
    "    for i in folders:\n",
    "        file_path = os.path.join(os.sep,'scratch','pdy2bw','class5_complete', f'class5_{i}.npy')\n",
    "        if os.path.exists(file_path):\n",
    "            print(f'class5_{i}')\n",
    "            raw_data = np.float32(np.load(file_path))\n",
    "            data_shape = raw_data.shape\n",
    "            if data_shape[2] > sequence_length:\n",
    "                # npad = ((0, abs(data_shape[0] - 512)), (0, abs(data_shape[1] - 1024)), (0, 0))\n",
    "                # raw_data = np.pad(raw_data, pad_width=npad, mode='edge')\n",
    "                raw_data = np.expand_dims(raw_data, axis=0)\n",
    "                raw_data = skimage.measure.block_reduce(raw_data[:,:,:,:], (1,3,3,1),np.max)  # this controls resolution via downsampling (change middle two to 2,2 3,3 or 4,4)\n",
    "                \n",
    "                data_shape = raw_data.shape\n",
    "                num_time_steps = data_shape[-1] // (n_state_var + 2)\n",
    "                if purpose == \"diff_training\":\n",
    "                    j_range = num_time_steps - sequence_length\n",
    "                else:\n",
    "                    j_range = 1\n",
    "                \n",
    "                # for 128x192: 15:143, 10:202\n",
    "                \n",
    "                state_seq_case = [np.concatenate([raw_data[:, 15:207, 10:266, (j + k) * (n_state_var + 2):\\\n",
    "                                                        (j + k) * (n_state_var + 2) + n_state_var] \\\n",
    "                                                        for k in range(sequence_length)], axis=-1) \\\n",
    "                                                        for j in range  (j_range)] \n",
    "\n",
    "                vel_seq_case = [np.concatenate([raw_data[:, 15:207, 10:266, (j + k) * (n_state_var + 2) +  n_state_var :\\\n",
    "                                                        (j + k) * (n_state_var + 2) + n_state_var + 2] \\\n",
    "                                                        for k in range(sequence_length)], axis=-1) \\\n",
    "                                                        for j in range (j_range)] \n",
    "\n",
    "            \n",
    "                state_seq_whole.extend(state_seq_case)\n",
    "                vel_seq_whole.extend(vel_seq_case)\n",
    "\n",
    "    state_seq_whole = np.concatenate(state_seq_whole, axis=0)\n",
    "    vel_seq_whole = np.concatenate(vel_seq_whole, axis=0)\n",
    "    \n",
    "    return state_seq_whole, vel_seq_whole"
   ]
  },
  {
   "cell_type": "markdown",
   "id": "b8b9fa74-620c-456b-a7ec-ba7b2e580d39",
   "metadata": {},
   "source": [
    "## Data Pipeline"
   ]
  },
  {
   "cell_type": "code",
   "execution_count": 3,
   "id": "4cfa4349-64bd-42a9-a8d2-2d1acb0944b1",
   "metadata": {
    "tags": []
   },
   "outputs": [
    {
     "name": "stdout",
     "output_type": "stream",
     "text": [
      "class5_2\n",
      "class5_3\n",
      "class5_4\n",
      "class5_5\n",
      "class5_6\n",
      "class5_8\n",
      "class5_9\n",
      "class5_10\n",
      "class5_11\n",
      "class5_13\n",
      "class5_14\n",
      "class5_15\n",
      "class5_16\n",
      "class5_19\n",
      "class5_21\n",
      "class5_22\n",
      "class5_23\n"
     ]
    }
   ],
   "source": [
    "state_seq_whole, vel_seq_whole = clip_raw_data(folders)\n",
    "state_seq_norm = data.data_normalization(state_seq_whole,3)\n",
    "vel_seq_norm = data.data_normalization(vel_seq_whole,2)"
   ]
  },
  {
   "cell_type": "code",
   "execution_count": 6,
   "id": "32908294-57aa-426c-bf1b-6723eaf305d9",
   "metadata": {
    "tags": []
   },
   "outputs": [
    {
     "data": {
      "text/plain": [
       "(545, 192, 256, 6)"
      ]
     },
     "execution_count": 6,
     "metadata": {},
     "output_type": "execute_result"
    }
   ],
   "source": [
    "state_seq_whole.shape"
   ]
  },
  {
   "cell_type": "markdown",
   "id": "d3f5d856-08bb-4027-b389-912bdb6a4099",
   "metadata": {},
   "source": [
    "#### Visualize data"
   ]
  },
  {
   "cell_type": "code",
   "execution_count": null,
   "id": "b88eb83c-4176-4876-a91a-b3fa63a722f6",
   "metadata": {
    "tags": []
   },
   "outputs": [],
   "source": [
    "plt.imshow(state_seq_whole[0,:,:,2])"
   ]
  },
  {
   "cell_type": "code",
   "execution_count": null,
   "id": "304e5645-316f-4c04-99f4-1097be0b15e8",
   "metadata": {
    "scrolled": true,
    "tags": []
   },
   "outputs": [],
   "source": [
    "for i in range(50):\n",
    "    # plt.imshow(state_seq_whole[i*3,:,:,0]) # temperature\n",
    "    plt.imshow(state_seq_whole[i,:,:,2])  # microstructure\n",
    "    plt.show()"
   ]
  },
  {
   "cell_type": "markdown",
   "id": "ae54d3a9-9fc6-4d6c-91f5-d5fd446cdacb",
   "metadata": {},
   "source": [
    "## Training"
   ]
  },
  {
   "cell_type": "code",
   "execution_count": 4,
   "id": "ebc11b07-c649-4a7e-a73d-16f5a4c75b4c",
   "metadata": {
    "tags": []
   },
   "outputs": [],
   "source": [
    "# Create tf.dataset\n",
    "dataset_input = tf.data.Dataset.from_tensor_slices((state_seq_norm[0][:,:,:,:3],vel_seq_norm[0][:,:,:,:2]))\n",
    "dataset_label = tf.data.Dataset.from_tensor_slices((state_seq_norm[0][:,:,:,-3:],vel_seq_norm[0][:,:,:,-2:]))\n",
    "dataset = tf.data.Dataset.zip((dataset_input, dataset_label))\n",
    "dataset = dataset.shuffle(buffer_size = 2192) \n",
    "dataset = dataset.batch(4) # changed to 4 from 8 because data too big for 8"
   ]
  },
  {
   "cell_type": "code",
   "execution_count": null,
   "id": "3af82729-c558-4775-bf9a-5b22d45154db",
   "metadata": {
    "scrolled": true,
    "tags": []
   },
   "outputs": [
    {
     "name": "stdout",
     "output_type": "stream",
     "text": [
      "Epoch 1/200\n"
     ]
    }
   ],
   "source": [
    "tf.keras.backend.clear_session()\n",
    "parc = model.PARCv2(n_state_var = 3, n_time_step = 1, step_size= 1/15, solver = \"rk4\", mode = \"differentiator_training\")\n",
    "parc.differentiator.load_weights('class5_mse_1200epoch.h5')\n",
    "parc.compile(optimizer = tf.keras.optimizers.Adam(learning_rate = 0.00001, beta_1 = 0.9, beta_2 = 0.999))\n",
    "parc.fit(dataset, epochs = 200, shuffle = True)"
   ]
  },
  {
   "cell_type": "code",
   "execution_count": null,
   "id": "57563e62-f9b1-4064-b007-3fb8eb6f8db2",
   "metadata": {
    "tags": []
   },
   "outputs": [],
   "source": [
    "parc.differentiator.save_weights('class5_mse_1400epoch.h5')"
   ]
  },
  {
   "cell_type": "markdown",
   "id": "919606c7-e60c-4922-80de-a65fbc792440",
   "metadata": {},
   "source": [
    "## Validation"
   ]
  },
  {
   "cell_type": "code",
   "execution_count": 4,
   "id": "a6d3802e-9d08-4a23-86cc-bba576234b8f",
   "metadata": {},
   "outputs": [
    {
     "name": "stdout",
     "output_type": "stream",
     "text": [
      "class5_2\n",
      "class5_3\n",
      "class5_4\n",
      "class5_5\n",
      "class5_6\n",
      "class5_8\n",
      "class5_9\n",
      "class5_10\n",
      "class5_11\n",
      "class5_13\n",
      "class5_14\n",
      "class5_15\n",
      "class5_16\n",
      "class5_19\n",
      "class5_21\n",
      "class5_22\n",
      "class5_23\n"
     ]
    }
   ],
   "source": [
    "# change to folders_test for test data (but also need to change above? becuase below _test versions not used?)\n",
    "state_seq_whole, vel_seq_whole = clip_raw_data(folders)\n",
    "state_seq_norm_test = data.data_normalization_test(state_seq_whole, state_seq_norm[1], state_seq_norm[2], 3)\n",
    "vel_seq_norm_test = data.data_normalization_test(vel_seq_whole, vel_seq_norm[1], vel_seq_norm[2], 2)"
   ]
  },
  {
   "cell_type": "code",
   "execution_count": 135,
   "id": "225f9542-d915-4028-af09-b5e5b39b9481",
   "metadata": {
    "tags": []
   },
   "outputs": [
    {
     "data": {
      "text/plain": [
       "(545, 192, 256, 6)"
      ]
     },
     "execution_count": 135,
     "metadata": {},
     "output_type": "execute_result"
    }
   ],
   "source": [
    "state_seq_norm_test.shape"
   ]
  },
  {
   "cell_type": "code",
   "execution_count": 60,
   "id": "8ef8d3bf-7ebf-49e3-9b16-406ca0e1f9f8",
   "metadata": {
    "tags": []
   },
   "outputs": [
    {
     "data": {
      "text/plain": [
       "(125, 192, 256, 4)"
      ]
     },
     "execution_count": 60,
     "metadata": {},
     "output_type": "execute_result"
    }
   ],
   "source": [
    "vel_seq_norm_test.shape"
   ]
  },
  {
   "cell_type": "markdown",
   "id": "b32d5df7-2fdc-48b4-9252-4b70f15cb80c",
   "metadata": {},
   "source": [
    "#### Load Model"
   ]
  },
  {
   "cell_type": "code",
   "execution_count": 17,
   "id": "fc32fe4f-2cef-4dbc-a4ae-faf093d9c283",
   "metadata": {
    "tags": []
   },
   "outputs": [],
   "source": [
    "tf.keras.backend.clear_session()\n",
    "parc_rk = model.PARCv2(n_state_var = 3, n_time_step = 14, step_size= 1/15, solver = \"rk4\")\n",
    "parc_rk.compile()\n",
    "parc_rk.differentiator.load_weights('class5_mse_1200epoch.h5')\n",
    "# parc_rk.integrator.load_weights('parc2_int_rk4.h5')"
   ]
  },
  {
   "cell_type": "code",
   "execution_count": null,
   "id": "973ee8c3-eddb-4ed1-b3ba-a90b89f7bc9f",
   "metadata": {},
   "outputs": [],
   "source": [
    "# train new cases 0, 33, 70, ...\n",
    "# test new cases 0, 37, ...\n",
    "idx = 0\n",
    "state_var_init = tf.cast(state_seq_norm[0][idx:idx+1,:,:,:3], tf.float32)\n",
    "velocity_init = tf.cast(vel_seq_norm[0][idx:idx+1,:,:,:2], tf.float32)\n",
    "input_seq_current = tf.concat([state_var_init, velocity_init],axis = -1)\n",
    "# input_seq_current = state_var_init\n",
    "\n",
    "state_whole = []\n",
    "vel_whole = []\n",
    "for ts in range(30):\n",
    "    input_seq_current, update = parc_rk.explicit_update(input_seq_current)\n",
    "    state_whole.append(input_seq_current[:,:,:,:3])\n",
    "    vel_whole.append(input_seq_current[:,:,:,3:])\n",
    "state_pred = tf.concat(state_whole, axis = -1).numpy()\n",
    "vel_pred = tf.concat(vel_whole, axis = -1).numpy()"
   ]
  },
  {
   "cell_type": "code",
   "execution_count": 86,
   "id": "2cfeb450-6221-4eb1-823b-88ead3d243e6",
   "metadata": {
    "tags": []
   },
   "outputs": [
    {
     "data": {
      "text/plain": [
       "(1, 192, 256, 90)"
      ]
     },
     "execution_count": 86,
     "metadata": {},
     "output_type": "execute_result"
    }
   ],
   "source": [
    "state_pred.shape"
   ]
  },
  {
   "cell_type": "code",
   "execution_count": 63,
   "id": "ef5e4f48-5163-4dc0-9c35-096cd706e844",
   "metadata": {
    "tags": []
   },
   "outputs": [
    {
     "data": {
      "text/plain": [
       "(125, 192, 256, 6)"
      ]
     },
     "execution_count": 63,
     "metadata": {},
     "output_type": "execute_result"
    }
   ],
   "source": [
    "state_seq_whole.shape"
   ]
  },
  {
   "cell_type": "code",
   "execution_count": null,
   "id": "37c31faf-69f0-4b90-9b2c-2cbae99444c3",
   "metadata": {
    "tags": []
   },
   "outputs": [],
   "source": [
    "for i in range(30):\n",
    "    fig, ax = plt.subplots(1,2) # switch to (1,2) for horizontal\n",
    "    ax[0].imshow(state_seq_whole[i+idx, :, :, 3])\n",
    "    ax[1].imshow(state_pred[0, :, :, i * 3], vmin=0, vmax=1)\n",
    "    if i % 5 == 0 or i == 29:\n",
    "        # plt.savefig(f'train_class5_2_1400epoch{i}.png')\n",
    "        plt.show()\n",
    "    plt.close(fig)  # Close the figure after each iteration to free memory\n"
   ]
  },
  {
   "cell_type": "code",
   "execution_count": null,
   "id": "db2b244d-b440-43b6-aefc-c23fbb354a94",
   "metadata": {},
   "outputs": [],
   "source": []
  }
 ],
 "metadata": {
  "kernelspec": {
   "display_name": "Tensorflow 2.13.0",
   "language": "python",
   "name": "tensorflow-2.13.0"
  },
  "language_info": {
   "codemirror_mode": {
    "name": "ipython",
    "version": 3
   },
   "file_extension": ".py",
   "mimetype": "text/x-python",
   "name": "python",
   "nbconvert_exporter": "python",
   "pygments_lexer": "ipython3",
   "version": "3.10.12"
  }
 },
 "nbformat": 4,
 "nbformat_minor": 5
}
