{
 "cells": [
  {
   "cell_type": "code",
   "execution_count": 1,
   "metadata": {
    "tags": []
   },
   "outputs": [
    {
     "name": "stderr",
     "output_type": "stream",
     "text": [
      "2024-06-20 12:03:40.058564: I external/local_tsl/tsl/cuda/cudart_stub.cc:32] Could not find cuda drivers on your machine, GPU will not be used.\n",
      "2024-06-20 12:03:40.062047: I external/local_tsl/tsl/cuda/cudart_stub.cc:32] Could not find cuda drivers on your machine, GPU will not be used.\n",
      "2024-06-20 12:03:40.107912: I tensorflow/core/platform/cpu_feature_guard.cc:210] This TensorFlow binary is optimized to use available CPU instructions in performance-critical operations.\n",
      "To enable the following instructions: AVX2 FMA, in other operations, rebuild TensorFlow with the appropriate compiler flags.\n",
      "2024-06-20 12:03:41.500366: W tensorflow/compiler/tf2tensorrt/utils/py_utils.cc:38] TF-TRT Warning: Could not find TensorRT\n",
      "2024-06-20 12:03:43.671865: W tensorflow/core/common_runtime/gpu/gpu_device.cc:2251] Cannot dlopen some GPU libraries. Please make sure the missing libraries mentioned above are installed properly if you would like to use GPU. Follow the guide at https://www.tensorflow.org/install/gpu for how to download and setup the required libraries for your platform.\n",
      "Skipping registering GPU devices...\n"
     ]
    }
   ],
   "source": [
    "import numpy as np\n",
    "import matplotlib.pyplot as plt\n",
    "import tensorflow as tf\n",
    "import os\n",
    "os.chdir(\"./..\")\n",
    "import PARC.data.data_em as data\n",
    "#from parc import misc, metrics, visualization\n",
    "from PARC.model import model_em as model\n",
    "from PARC import misc"
   ]
  },
  {
   "cell_type": "markdown",
   "metadata": {},
   "source": [
    "# Data pipeline"
   ]
  },
  {
   "cell_type": "code",
   "execution_count": null,
   "metadata": {
    "scrolled": true
   },
   "outputs": [],
   "source": [
    "# Get data and normalization\n",
    "data_em = data.DataEnergeticMaterials()\n",
    "state_seq_whole, vel_seq_whole = data_em.clip_raw_data(dataset_range= (0,150), dir_dataset= \"../data/em/\") # Get void_0 - void_150 for training\n",
    "state_seq_norm = data_em.data_normalization(state_seq_whole,3) # Normalizing for state variables\n",
    "vel_seq_norm = data_em.data_normalization(vel_seq_whole,2) # Normalizing for velocity variables"
   ]
  },
  {
   "cell_type": "markdown",
   "metadata": {},
   "source": [
    "# Training\n"
   ]
  },
  {
   "cell_type": "markdown",
   "metadata": {},
   "source": [
    "### Stage 1: Differentiator training"
   ]
  },
  {
   "cell_type": "code",
   "execution_count": 3,
   "metadata": {},
   "outputs": [
    {
     "name": "stderr",
     "output_type": "stream",
     "text": [
      "2024-02-01 17:39:23.206071: I tensorflow/core/common_runtime/gpu/gpu_device.cc:1636] Created device /job:localhost/replica:0/task:0/device:GPU:0 with 46594 MB memory:  -> device: 0, name: NVIDIA RTX A6000, pci bus id: 0000:81:00.0, compute capability: 8.6\n"
     ]
    }
   ],
   "source": [
    "# Create tf.dataset\n",
    "dataset_input = tf.data.Dataset.from_tensor_slices((state_seq_norm[0][:,:,:,:3],vel_seq_norm[0][:,:,:,:2]))\n",
    "dataset_label = tf.data.Dataset.from_tensor_slices((state_seq_norm[0][:,:,:,-3:],vel_seq_norm[0][:,:,:,-2:]))\n",
    "dataset = tf.data.Dataset.zip((dataset_input, dataset_label))\n",
    "dataset = dataset.shuffle(buffer_size = 2192) \n",
    "dataset = dataset.batch(8)"
   ]
  },
  {
   "cell_type": "code",
   "execution_count": null,
   "metadata": {
    "scrolled": true
   },
   "outputs": [],
   "source": [
    "tf.keras.backend.clear_session()\n",
    "parc = model.PARCv2(n_state_var = 3, n_time_step = 1, step_size= 1/15, m_input_shape = (128,192), solver = \"rk4\", mode = \"differentiator_training\")\n",
    "# parc.differentiator.load_weights('parc2_diff_rk4.h5')\n",
    "parc.compile(optimizer = tf.keras.optimizers.Adam(learning_rate = 0.00001, beta_1 = 0.9, beta_2 = 0.999))\n",
    "parc.fit(dataset, epochs = 500, shuffle = True)"
   ]
  },
  {
   "cell_type": "code",
   "execution_count": null,
   "metadata": {},
   "outputs": [],
   "source": [
    "parc.differentiator.save_weights('PARC2_EM_diff_rk4.h5')"
   ]
  },
  {
   "cell_type": "markdown",
   "metadata": {},
   "source": [
    "### Stage 2: Data-driven integration training"
   ]
  },
  {
   "cell_type": "code",
   "execution_count": null,
   "metadata": {
    "scrolled": true
   },
   "outputs": [],
   "source": [
    "# Pretrain integrator\n",
    "tf.keras.backend.clear_session()\n",
    "parc = model.PARCv2(n_state_var = 3, n_time_step = 1, step_size= 1/15, m_input_shape = (128,192), solver = \"rk4\", mode = \"integrator_training\")\n",
    "parc.differentiator.load_weights('parc2_diff_rk4.h5')\n",
    "parc.compile(optimizer = tf.keras.optimizers.Adam(learning_rate = 0.00001, beta_1 = 0.9, beta_2 = 0.999))\n",
    "parc.fit(dataset, epochs = 500, shuffle = True)"
   ]
  },
  {
   "cell_type": "code",
   "execution_count": null,
   "metadata": {},
   "outputs": [],
   "source": [
    "parc.integrator.save_weights('PARC2_EM_int_rk4.h5')"
   ]
  },
  {
   "cell_type": "markdown",
   "metadata": {},
   "source": [
    "# Validation"
   ]
  },
  {
   "cell_type": "code",
   "execution_count": null,
   "metadata": {},
   "outputs": [],
   "source": [
    "state_seq_whole, vel_seq_whole = data.clip_raw_data(idx_range = (150,200), sequence_length = 15, n_state_var = 3, purpose = \"test\") # Get void_150 - void_200 for testing\n",
    "state_seq_norm_test = data.data_normalization_test(state_seq_whole, state_seq_norm[1], state_seq_norm[2],3) # Normalization for state based on training values\n",
    "vel_seq_norm_test = data.data_normalization_test(vel_seq_whole, vel_seq_norm[1], vel_seq_norm[2],2) # Normalization for velocity based on training values"
   ]
  },
  {
   "cell_type": "markdown",
   "metadata": {},
   "source": [
    "## Load model"
   ]
  },
  {
   "cell_type": "code",
   "execution_count": null,
   "metadata": {},
   "outputs": [],
   "source": [
    "# Load model for testing, set the number of time step to 15 (predict 15 steps)\n",
    "tf.keras.backend.clear_session()\n",
    "parc = model.PARCv2(n_state_var = 3, n_time_step = 15, step_size= 1/15, solver = \"rk4\")\n",
    "parc.compile()\n",
    "\n",
    "# Load pretrained weights\n",
    "misc.geturl(url=\"https://virginia.box.com/shared/static/ziwd2we3z4mvhkcw4k9uj675fe3k4i92\", title=\"PARC2_EM_diff_rk4.h5\")\n",
    "misc.geturl(url=\"https://virginia.box.com/shared/static/410wh4hy4gzuwwjlkrui628q28dsmqxn\", title=\"PARC2_EM_int_rk4.h5\")\n",
    "\n",
    "parc.differentiator.load_weights('PARC2_EM_diff_rk4.h5')\n",
    "parc.integrator.load_weights('PARC2_EM_int_rk4.h5')"
   ]
  },
  {
   "cell_type": "code",
   "execution_count": null,
   "metadata": {},
   "outputs": [],
   "source": [
    "# Make prediction for the whole 34 test data\n",
    "pred_whole = []\n",
    "# outlier = [0, 3, 30, 31, 32, 33, 18, 19, 11]\n",
    "# outlier = []\n",
    "for idx in range(34):\n",
    "    state_var_current = state_seq_norm_test[idx:idx+1,:,:,0:3]\n",
    "    velocity_current = vel_seq_norm_test[idx:idx+1,:,:,0:2]\n",
    "    pred_state = parc.predict([state_var_current,velocity_current])\n",
    "    pred_state_case = np.concatenate(pred_state, axis = -1)\n",
    "    pred_whole.append(pred_state_case)\n",
    "pred_whole = np.concatenate(pred_whole, axis = 0)\n",
    "print(pred_whole.shape)       "
   ]
  },
  {
   "cell_type": "code",
   "execution_count": null,
   "metadata": {
    "tags": []
   },
   "outputs": [],
   "source": [
    "# Denormalizing prediction data\n",
    "\n",
    "pred_out = data.data_denormalization(pred_whole,state_seq_norm[1] + vel_seq_norm[1],state_seq_norm[2] + vel_seq_norm[2], no_of_channel = 5)"
   ]
  },
  {
   "cell_type": "code",
   "execution_count": null,
   "metadata": {
    "tags": []
   },
   "outputs": [],
   "source": [
    "# Save results file for plotting\n",
    "np.save('./results/em/parcv2_em.npy',pred_out)"
   ]
  },
  {
   "cell_type": "markdown",
   "metadata": {},
   "source": [
    "## Visualizing result"
   ]
  },
  {
   "cell_type": "code",
   "execution_count": null,
   "metadata": {},
   "outputs": [],
   "source": [
    "# Load data\n",
    "gt = np.load('../result/em/gt.npy')\n",
    "# NeuralODE\n",
    "parc = np.load('../result/em/neuralode_em.npy')\n",
    "# NeuralODE\n",
    "parc_data_int = np.load('../result/em/neuralode_em_pure_data_driven.npy')\n",
    "# FNO\n",
    "fno = np.load('../result/em/fno_01.npy')\n",
    "# PARCv2\n",
    "parcv2 = np.load('../result/em/parcv2_em.npy')\n",
    "\n",
    "y_pred = [parcv2, parc, parc_data_int[:,:,:,:-5], fno]\n"
   ]
  },
  {
   "cell_type": "code",
   "execution_count": null,
   "metadata": {},
   "outputs": [],
   "source": [
    "# Plot field evolution for tempereature\n",
    "from PARC.visualization import visualization_em as viz\n",
    "\n",
    "viz.plot_field_evolution(y_pred, gt, 28, options = 'temperature')"
   ]
  },
  {
   "cell_type": "code",
   "execution_count": null,
   "metadata": {},
   "outputs": [],
   "source": [
    "# Plot field evolution for pressure\n",
    "viz.plot_field_evolution(y_pred, gt, 28, options = 'pressure')"
   ]
  }
 ],
 "metadata": {
  "kernelspec": {
   "display_name": "Python 3 (ipykernel)",
   "language": "python",
   "name": "python3"
  },
  "language_info": {
   "codemirror_mode": {
    "name": "ipython",
    "version": 3
   },
   "file_extension": ".py",
   "mimetype": "text/x-python",
   "name": "python",
   "nbconvert_exporter": "python",
   "pygments_lexer": "ipython3",
   "version": "3.11.4"
  }
 },
 "nbformat": 4,
 "nbformat_minor": 4
}
