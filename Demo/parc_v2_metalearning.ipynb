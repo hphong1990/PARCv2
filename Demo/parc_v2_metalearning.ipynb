{
 "cells": [
  {
   "cell_type": "code",
   "execution_count": 1,
   "metadata": {
    "tags": []
   },
   "outputs": [
    {
     "name": "stderr",
     "output_type": "stream",
     "text": [
      "2024-05-03 11:36:13.278056: I tensorflow/core/platform/cpu_feature_guard.cc:183] This TensorFlow binary is optimized to use available CPU instructions in performance-critical operations.\n",
      "To enable the following instructions: SSE3 SSE4.1 SSE4.2 AVX, in other operations, rebuild TensorFlow with the appropriate compiler flags.\n",
      "2024-05-03 11:36:18.298544: I tensorflow/core/common_runtime/gpu/gpu_device.cc:1636] Created device /job:localhost/replica:0/task:0/device:GPU:0 with 46594 MB memory:  -> device: 0, name: NVIDIA RTX A6000, pci bus id: 0000:23:00.0, compute capability: 8.6\n"
     ]
    }
   ],
   "source": [
    "import numpy as np\n",
    "import matplotlib.pyplot as plt\n",
    "import tensorflow as tf\n",
    "import os\n",
    "os.chdir(\"/sfs/qumulo/qhome/jtb3sud/PARCv2\")\n",
    "\n",
    "import PARC.data.data_meta_learning as data\n",
    "from PARC.model import model_meta_learning as model\n"
   ]
  },
  {
   "cell_type": "raw",
   "metadata": {
    "tags": []
   },
   "source": [
    "import os\n",
    "import shutil\n",
    "import random\n",
    "\n",
    "# Set the paths\n",
    "folder_path = '/scratch/jtb3sud/tatb_np'\n",
    "training_path = '/scratch/jtb3sud/meta_data/tatb/training'\n",
    "testing_path = '/scratch/jtb3sud/meta_data/tatb/testing'\n",
    "\n",
    "# Create the training and testing directories if they don't exist\n",
    "os.makedirs(training_path, exist_ok=True)\n",
    "os.makedirs(testing_path, exist_ok=True)\n",
    "\n",
    "# Get the list of files in the folder\n",
    "files = os.listdir(folder_path)\n",
    "\n",
    "# Define the ratio of data to be used for training and testing\n",
    "train_ratio = 0.8  # 80% for training, 20% for testing\n",
    "\n",
    "# Calculate the number of files for training and testing\n",
    "num_train = int(len(files) * train_ratio)\n",
    "num_test = len(files) - num_train\n",
    "\n",
    "# Shuffle the list of files to randomly select for training and testing\n",
    "random.shuffle(files)\n",
    "\n",
    "# Copy files to training directory\n",
    "for file_name in files[:num_train]:\n",
    "    src = os.path.join(folder_path, file_name)\n",
    "    dst = os.path.join(training_path, file_name)\n",
    "    shutil.copy(src, dst)\n",
    "\n",
    "# Copy files to testing directory\n",
    "for file_name in files[num_train:]:\n",
    "    src = os.path.join(folder_path, file_name)\n",
    "    dst = os.path.join(testing_path, file_name)\n",
    "    shutil.copy(src, dst)\n",
    "\n",
    "print(\"Data split into training and testing directories successfully!\")\n"
   ]
  },
  {
   "cell_type": "markdown",
   "metadata": {},
   "source": [
    "# Data pipeline"
   ]
  },
  {
   "cell_type": "code",
   "execution_count": 6,
   "metadata": {
    "tags": []
   },
   "outputs": [
    {
     "name": "stdout",
     "output_type": "stream",
     "text": [
      "Processing 5793837.npy\n",
      "Processing 5793840.npy\n",
      "Processing 5793832.npy\n",
      "Processing 5733384.npy\n",
      "Processing 5793836.npy\n",
      "Processing 5733394.npy\n",
      "Processing 5793834.npy\n",
      "Processing 5733387.npy\n",
      "Processing 5793825.npy\n",
      "Processing 5793838.npy\n",
      "Processing 5793827.npy\n",
      "Processing 5733388.npy\n",
      "Processing 5733398.npy\n",
      "Processing 5793826.npy\n",
      "Processing 5793830.npy\n",
      "Processing 5733385.npy\n",
      "Processing 5733392.npy\n",
      "Processing 5733400.npy\n",
      "Processing 5733396.npy\n",
      "Processing 5733391.npy\n",
      "Processing 5733397.npy\n",
      "Processing 5793831.npy\n",
      "Processing 5733402.npy\n",
      "Processing 5793839.npy\n"
     ]
    }
   ],
   "source": [
    "# Get data and normalization\n",
    "state_seq_whole, vel_seq_whole = data.clip_raw_data(sequence_length = 54, n_state_var = 3, purpose = \"diff_training\", folder_path = '/scratch/jtb3sud/meta_data/tatb/training', image_size = (128, 208))\n",
    "state_seq_norm = data.data_normalization(state_seq_whole,3)\n",
    "vel_seq_norm = data.data_normalization(vel_seq_whole,2)"
   ]
  },
  {
   "cell_type": "markdown",
   "metadata": {},
   "source": [
    "# Validation"
   ]
  },
  {
   "cell_type": "code",
   "execution_count": 7,
   "metadata": {},
   "outputs": [
    {
     "name": "stdout",
     "output_type": "stream",
     "text": [
      "Processing 5793833.npy\n",
      "Processing 5733390.npy\n",
      "Processing 5733386.npy\n",
      "Processing 5733401.npy\n",
      "Processing 5733389.npy\n",
      "Processing 5793829.npy\n",
      "Processing 5793835.npy\n"
     ]
    }
   ],
   "source": [
    "state_seq_whole, vel_seq_whole = data.clip_raw_data(sequence_length = 54, n_state_var = 3, purpose = \"test\", folder_path = '/scratch/jtb3sud/meta_data/tatb/testing', image_size = (128, 208))\n",
    "state_seq_norm_test = data.data_normalization_test(state_seq_whole, state_seq_norm[1], state_seq_norm[2],3)\n",
    "vel_seq_norm_test = data.data_normalization_test(vel_seq_whole, vel_seq_norm[1], vel_seq_norm[2],2)"
   ]
  },
  {
   "cell_type": "code",
   "execution_count": null,
   "metadata": {
    "tags": []
   },
   "outputs": [],
   "source": [
    "#print(state_seq_whole)\n",
    "#print(vel_seq_whole)\n",
    "#print(state_seq_norm_test)\n",
    "#print(vel_seq_norm_test)"
   ]
  },
  {
   "cell_type": "code",
   "execution_count": 8,
   "metadata": {
    "tags": []
   },
   "outputs": [
    {
     "data": {
      "text/plain": [
       "(7, 128, 208, 162)"
      ]
     },
     "execution_count": 8,
     "metadata": {},
     "output_type": "execute_result"
    }
   ],
   "source": [
    "state_seq_whole.shape"
   ]
  },
  {
   "cell_type": "code",
   "execution_count": 9,
   "metadata": {
    "tags": []
   },
   "outputs": [
    {
     "name": "stdout",
     "output_type": "stream",
     "text": [
      "Image size: (128, 208)\n"
     ]
    },
    {
     "data": {
      "image/png": "[encoded data removed]",
      "text/plain": [
       "<Figure size 640x480 with 1 Axes>"
      ]
     },
     "metadata": {},
     "output_type": "display_data"
    }
   ],
   "source": [
    "import matplotlib.pyplot as plt\n",
    "\n",
    "# Assuming state_seq_norm_test is a numpy array containing image data\n",
    "image = state_seq_norm_test[0, :, :, 0]\n",
    "\n",
    "plt.imshow(image)\n",
    "\n",
    "# Get the size of the image\n",
    "image_size = image.shape\n",
    "print(\"Image size:\", image_size)\n",
    "## 128 x 216 "
   ]
  },
  {
   "cell_type": "markdown",
   "metadata": {},
   "source": [
    "## Load model"
   ]
  },
  {
   "cell_type": "code",
   "execution_count": 10,
   "metadata": {
    "tags": []
   },
   "outputs": [],
   "source": [
    "tf.keras.backend.clear_session()\n",
    "parc_rk = model.PARCv2(n_state_var = 3, n_time_step = 59, step_size= 1/60, solver = \"rk4\", image_size = (128, 208))\n",
    "parc_rk.compile()\n",
    "parc_rk.differentiator.load_weights('/sfs/qumulo/qhome/jtb3sud/PARCv2/Pretrained_Weights/em/parc2_diff_rk4.h5')\n",
    "parc_rk.integrator.load_weights('/sfs/qumulo/qhome/jtb3sud/PARCv2/Pretrained_Weights/em/parc2_int_rk4.h5')"
   ]
  },
  {
   "cell_type": "code",
   "execution_count": 20,
   "metadata": {
    "tags": []
   },
   "outputs": [
    {
     "name": "stdout",
     "output_type": "stream",
     "text": [
      "(7, 128, 208, 162)\n",
      "(7, 128, 208, 108)\n"
     ]
    }
   ],
   "source": [
    "print(state_seq_norm_test.shape)\n",
    "print(vel_seq_norm_test.shape)"
   ]
  },
  {
   "cell_type": "code",
   "execution_count": 22,
   "metadata": {},
   "outputs": [
    {
     "name": "stdout",
     "output_type": "stream",
     "text": [
      "0\n",
      "State shape: (1, 128, 208, 3)\n",
      "Velocity shape: (1, 128, 208, 2)\n"
     ]
    },
    {
     "name": "stderr",
     "output_type": "stream",
     "text": [
      "2024-05-03 12:26:51.900554: I tensorflow/compiler/xla/stream_executor/cuda/cuda_dnn.cc:432] Loaded cuDNN version 8904\n",
      "2024-05-03 12:26:52.812018: I tensorflow/compiler/xla/stream_executor/cuda/cuda_blas.cc:625] TensorFloat-32 will be used for the matrix multiplication. This will only be logged once.\n"
     ]
    },
    {
     "name": "stdout",
     "output_type": "stream",
     "text": [
      "1/1 [==============================] - 418s 418s/step\n",
      "(1, 128, 208, 295)\n",
      "1\n",
      "State shape: (1, 128, 208, 3)\n",
      "Velocity shape: (1, 128, 208, 2)\n",
      "1/1 [==============================] - 5s 5s/step\n",
      "(1, 128, 208, 295)\n",
      "(2, 128, 208, 295)\n"
     ]
    }
   ],
   "source": [
    "state_rk = []\n",
    "outlier = []\n",
    "for idx in range(2):\n",
    "    if idx not in outlier:\n",
    "        print(idx)\n",
    "        #print(state_seq_norm_test)\n",
    "        # what is the index helping with\n",
    "        # why slice with these values?\n",
    "        \n",
    "        ## overall a data explanation is crucial for other users to have this \n",
    "        ## why must this equal 5 on the end? this should be explained\n",
    "        state_var_current = state_seq_norm_test[3:4,:,:,39:42]\n",
    "        velocity_current = vel_seq_norm_test[1:2,:,:,26:28]\n",
    "        # Print shapes for debugging\n",
    "        print(\"State shape:\", state_var_current.shape)\n",
    "        print(\"Velocity shape:\", velocity_current.shape)\n",
    "        ## detail what is being input here \n",
    "        pred_state = parc_rk.predict([state_var_current,velocity_current])\n",
    "        pred_state_case = np.concatenate(pred_state, axis = -1)\n",
    "        print(pred_state_case.shape)\n",
    "        state_rk.append(pred_state_case)\n",
    "state_rk = np.concatenate(state_rk, axis = 0)\n",
    "print(state_rk.shape)       "
   ]
  },
  {
   "cell_type": "code",
   "execution_count": 24,
   "metadata": {
    "tags": []
   },
   "outputs": [
    {
     "data": {
      "text/plain": [
       "<matplotlib.image.AxesImage at 0x7faef27b1330>"
      ]
     },
     "execution_count": 24,
     "metadata": {},
     "output_type": "execute_result"
    },
    {
     "data": {
      "image/png": "[encoded data removed]",
      "text/plain": [
       "<Figure size 640x480 with 1 Axes>"
      ]
     },
     "metadata": {},
     "output_type": "display_data"
    }
   ],
   "source": [
    "plt.imshow(state_seq_norm_test[6,:,:,39])"
   ]
  },
  {
   "cell_type": "code",
   "execution_count": 33,
   "metadata": {
    "tags": []
   },
   "outputs": [],
   "source": [
    "# how do we know the index range of 14? \n",
    "#for i in range(59):\n",
    "#    ## what are these slices? phong has it at 8 \n",
    "#    plt.imshow(state_rk[1,:,:,i*5], vmin = 0, vmax = 1, cmap = 'jet')\n",
    "#    plt.show()"
   ]
  },
  {
   "cell_type": "code",
   "execution_count": 31,
   "metadata": {
    "tags": []
   },
   "outputs": [
    {
     "name": "stderr",
     "output_type": "stream",
     "text": [
      "/tmp/ipykernel_131944/1659857244.py:16: MatplotlibDeprecationWarning: The tostring_rgb function was deprecated in Matplotlib 3.8 and will be removed two minor releases later. Use buffer_rgba instead.\n",
      "  pil_image = Image.frombytes('RGB', fig.canvas.get_width_height(), fig.canvas.tostring_rgb())\n"
     ]
    }
   ],
   "source": [
    "import matplotlib.pyplot as plt\n",
    "from PIL import Image\n",
    "\n",
    "# Initialize list to store frames\n",
    "frames = []\n",
    "\n",
    "for i in range(59):\n",
    "    # Plot the image\n",
    "    plt.imshow(state_rk[1, :, :, i * 5], vmin=0, vmax=1, cmap='jet')\n",
    "    plt.axis('off')  # Turn off axis\n",
    "\n",
    "    # Convert the figure to a PIL image\n",
    "    plt.subplots_adjust(left=0, right=1, top=1, bottom=0)  # Remove whitespace\n",
    "    fig = plt.gcf()\n",
    "    fig.canvas.draw()\n",
    "    pil_image = Image.frombytes('RGB', fig.canvas.get_width_height(), fig.canvas.tostring_rgb())\n",
    "\n",
    "    # Close the plot to prevent display\n",
    "    plt.close()\n",
    "\n",
    "    # Append the PIL image to the frames list\n",
    "    frames.append(pil_image)\n",
    "\n",
    "# Save frames as a GIF\n",
    "frames[0].save('state_rk_animation.gif', save_all=True, append_images=frames[1:], duration=100, loop=0)\n"
   ]
  },
  {
   "cell_type": "code",
   "execution_count": 32,
   "metadata": {},
   "outputs": [],
   "source": [
    "import PARC.visualization.visualization_em as viz\n",
    "## visualization needs to be explained"
   ]
  },
  {
   "cell_type": "code",
   "execution_count": 34,
   "metadata": {
    "tags": []
   },
   "outputs": [],
   "source": [
    "# Denormalizing prediction data\n",
    "pred_out = data.data_denormalization(state_rk,state_seq_norm[1] + vel_seq_norm[1],state_seq_norm[2] + vel_seq_norm[2], no_of_channel = 5)"
   ]
  },
  {
   "cell_type": "code",
   "execution_count": 35,
   "metadata": {
    "tags": []
   },
   "outputs": [],
   "source": [
    "# Save results file for plotting\n",
    "np.save('/scratch/jtb3sud/parcv2_tatb.npy',pred_out)"
   ]
  },
  {
   "cell_type": "code",
   "execution_count": null,
   "metadata": {},
   "outputs": [],
   "source": [
    "## how do I get gt??? This needs to be explained...\n",
    "viz.plot_field_evolution(pred_out, )"
   ]
  }
 ],
 "metadata": {
  "kernelspec": {
   "display_name": "Tensorflow 2.13.0",
   "language": "python",
   "name": "tensorflow-2.13.0"
  },
  "language_info": {
   "codemirror_mode": {
    "name": "ipython",
    "version": 3
   },
   "file_extension": ".py",
   "mimetype": "text/x-python",
   "name": "python",
   "nbconvert_exporter": "python",
   "pygments_lexer": "ipython3",
   "version": "3.10.12"
  }
 },
 "nbformat": 4,
 "nbformat_minor": 4
}
