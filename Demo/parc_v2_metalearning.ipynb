{
 "cells": [
  {
   "cell_type": "code",
   "execution_count": 1,
   "metadata": {
    "tags": []
   },
   "outputs": [
    {
     "name": "stderr",
     "output_type": "stream",
     "text": [
      "2024-05-06 14:34:50.176740: I tensorflow/core/platform/cpu_feature_guard.cc:183] This TensorFlow binary is optimized to use available CPU instructions in performance-critical operations.\n",
      "To enable the following instructions: SSE3 SSE4.1 SSE4.2 AVX, in other operations, rebuild TensorFlow with the appropriate compiler flags.\n",
      "2024-05-06 14:34:55.207896: I tensorflow/core/common_runtime/gpu/gpu_device.cc:1636] Created device /job:localhost/replica:0/task:0/device:GPU:0 with 46594 MB memory:  -> device: 0, name: NVIDIA RTX A6000, pci bus id: 0000:23:00.0, compute capability: 8.6\n"
     ]
    }
   ],
   "source": [
    "import numpy as np\n",
    "import matplotlib.pyplot as plt\n",
    "import tensorflow as tf\n",
    "import os\n",
    "os.chdir(\"/sfs/qumulo/qhome/jtb3sud/PARCv2\")\n",
    "\n",
    "import PARC.data.data_meta_learning as data\n",
    "from PARC.model import model_meta_learning as model\n"
   ]
  },
  {
   "cell_type": "raw",
   "metadata": {
    "tags": []
   },
   "source": []
  },
  {
   "cell_type": "markdown",
   "metadata": {},
   "source": [
    "# Data pipeline"
   ]
  },
  {
   "cell_type": "code",
   "execution_count": 2,
   "metadata": {
    "tags": []
   },
   "outputs": [
    {
     "name": "stdout",
     "output_type": "stream",
     "text": [
      "Processing 183102.npy\n",
      "(600, 1000, 280)\n",
      "State seq case shapes: [(1, 128, 208, 156), (1, 128, 208, 156), (1, 128, 208, 156), (1, 128, 208, 156)]\n",
      "Vel seq case shapes: [(1, 128, 208, 104), (1, 128, 208, 104), (1, 128, 208, 104), (1, 128, 208, 104)]\n",
      "Processing 183142.npy\n",
      "(600, 1000, 310)\n",
      "State seq case shapes: [(1, 128, 208, 156), (1, 128, 208, 156), (1, 128, 208, 156), (1, 128, 208, 156), (1, 128, 208, 156), (1, 128, 208, 156), (1, 128, 208, 156), (1, 128, 208, 156), (1, 128, 208, 156), (1, 128, 208, 156)]\n",
      "Vel seq case shapes: [(1, 128, 208, 104), (1, 128, 208, 104), (1, 128, 208, 104), (1, 128, 208, 104), (1, 128, 208, 104), (1, 128, 208, 104), (1, 128, 208, 104), (1, 128, 208, 104), (1, 128, 208, 104), (1, 128, 208, 104)]\n",
      "Processing 183105.npy\n",
      "(600, 1000, 305)\n",
      "State seq case shapes: [(1, 128, 208, 156), (1, 128, 208, 156), (1, 128, 208, 156), (1, 128, 208, 156), (1, 128, 208, 156), (1, 128, 208, 156), (1, 128, 208, 156), (1, 128, 208, 156), (1, 128, 208, 156)]\n",
      "Vel seq case shapes: [(1, 128, 208, 104), (1, 128, 208, 104), (1, 128, 208, 104), (1, 128, 208, 104), (1, 128, 208, 104), (1, 128, 208, 104), (1, 128, 208, 104), (1, 128, 208, 104), (1, 128, 208, 104)]\n",
      "Processing 183117.npy\n",
      "(600, 1000, 310)\n",
      "State seq case shapes: [(1, 128, 208, 156), (1, 128, 208, 156), (1, 128, 208, 156), (1, 128, 208, 156), (1, 128, 208, 156), (1, 128, 208, 156), (1, 128, 208, 156), (1, 128, 208, 156), (1, 128, 208, 156), (1, 128, 208, 156)]\n",
      "Vel seq case shapes: [(1, 128, 208, 104), (1, 128, 208, 104), (1, 128, 208, 104), (1, 128, 208, 104), (1, 128, 208, 104), (1, 128, 208, 104), (1, 128, 208, 104), (1, 128, 208, 104), (1, 128, 208, 104), (1, 128, 208, 104)]\n",
      "Processing 183127.npy\n",
      "(600, 1000, 310)\n",
      "State seq case shapes: [(1, 128, 208, 156), (1, 128, 208, 156), (1, 128, 208, 156), (1, 128, 208, 156), (1, 128, 208, 156), (1, 128, 208, 156), (1, 128, 208, 156), (1, 128, 208, 156), (1, 128, 208, 156), (1, 128, 208, 156)]\n",
      "Vel seq case shapes: [(1, 128, 208, 104), (1, 128, 208, 104), (1, 128, 208, 104), (1, 128, 208, 104), (1, 128, 208, 104), (1, 128, 208, 104), (1, 128, 208, 104), (1, 128, 208, 104), (1, 128, 208, 104), (1, 128, 208, 104)]\n",
      "Processing 183122.npy\n",
      "(600, 1000, 310)\n",
      "State seq case shapes: [(1, 128, 208, 156), (1, 128, 208, 156), (1, 128, 208, 156), (1, 128, 208, 156), (1, 128, 208, 156), (1, 128, 208, 156), (1, 128, 208, 156), (1, 128, 208, 156), (1, 128, 208, 156), (1, 128, 208, 156)]\n",
      "Vel seq case shapes: [(1, 128, 208, 104), (1, 128, 208, 104), (1, 128, 208, 104), (1, 128, 208, 104), (1, 128, 208, 104), (1, 128, 208, 104), (1, 128, 208, 104), (1, 128, 208, 104), (1, 128, 208, 104), (1, 128, 208, 104)]\n",
      "Processing 183113.npy\n",
      "(600, 1000, 310)\n",
      "State seq case shapes: [(1, 128, 208, 156), (1, 128, 208, 156), (1, 128, 208, 156), (1, 128, 208, 156), (1, 128, 208, 156), (1, 128, 208, 156), (1, 128, 208, 156), (1, 128, 208, 156), (1, 128, 208, 156), (1, 128, 208, 156)]\n",
      "Vel seq case shapes: [(1, 128, 208, 104), (1, 128, 208, 104), (1, 128, 208, 104), (1, 128, 208, 104), (1, 128, 208, 104), (1, 128, 208, 104), (1, 128, 208, 104), (1, 128, 208, 104), (1, 128, 208, 104), (1, 128, 208, 104)]\n",
      "Processing 183126.npy\n",
      "(600, 1000, 310)\n",
      "State seq case shapes: [(1, 128, 208, 156), (1, 128, 208, 156), (1, 128, 208, 156), (1, 128, 208, 156), (1, 128, 208, 156), (1, 128, 208, 156), (1, 128, 208, 156), (1, 128, 208, 156), (1, 128, 208, 156), (1, 128, 208, 156)]\n",
      "Vel seq case shapes: [(1, 128, 208, 104), (1, 128, 208, 104), (1, 128, 208, 104), (1, 128, 208, 104), (1, 128, 208, 104), (1, 128, 208, 104), (1, 128, 208, 104), (1, 128, 208, 104), (1, 128, 208, 104), (1, 128, 208, 104)]\n",
      "Processing 183141.npy\n",
      "(600, 1000, 310)\n",
      "State seq case shapes: [(1, 128, 208, 156), (1, 128, 208, 156), (1, 128, 208, 156), (1, 128, 208, 156), (1, 128, 208, 156), (1, 128, 208, 156), (1, 128, 208, 156), (1, 128, 208, 156), (1, 128, 208, 156), (1, 128, 208, 156)]\n",
      "Vel seq case shapes: [(1, 128, 208, 104), (1, 128, 208, 104), (1, 128, 208, 104), (1, 128, 208, 104), (1, 128, 208, 104), (1, 128, 208, 104), (1, 128, 208, 104), (1, 128, 208, 104), (1, 128, 208, 104), (1, 128, 208, 104)]\n",
      "Processing 183139.npy\n",
      "(600, 1000, 310)\n",
      "State seq case shapes: [(1, 128, 208, 156), (1, 128, 208, 156), (1, 128, 208, 156), (1, 128, 208, 156), (1, 128, 208, 156), (1, 128, 208, 156), (1, 128, 208, 156), (1, 128, 208, 156), (1, 128, 208, 156), (1, 128, 208, 156)]\n",
      "Vel seq case shapes: [(1, 128, 208, 104), (1, 128, 208, 104), (1, 128, 208, 104), (1, 128, 208, 104), (1, 128, 208, 104), (1, 128, 208, 104), (1, 128, 208, 104), (1, 128, 208, 104), (1, 128, 208, 104), (1, 128, 208, 104)]\n",
      "Processing 183115.npy\n",
      "(600, 1000, 310)\n",
      "State seq case shapes: [(1, 128, 208, 156), (1, 128, 208, 156), (1, 128, 208, 156), (1, 128, 208, 156), (1, 128, 208, 156), (1, 128, 208, 156), (1, 128, 208, 156), (1, 128, 208, 156), (1, 128, 208, 156), (1, 128, 208, 156)]\n",
      "Vel seq case shapes: [(1, 128, 208, 104), (1, 128, 208, 104), (1, 128, 208, 104), (1, 128, 208, 104), (1, 128, 208, 104), (1, 128, 208, 104), (1, 128, 208, 104), (1, 128, 208, 104), (1, 128, 208, 104), (1, 128, 208, 104)]\n",
      "Processing 183132.npy\n",
      "(600, 1000, 310)\n",
      "State seq case shapes: [(1, 128, 208, 156), (1, 128, 208, 156), (1, 128, 208, 156), (1, 128, 208, 156), (1, 128, 208, 156), (1, 128, 208, 156), (1, 128, 208, 156), (1, 128, 208, 156), (1, 128, 208, 156), (1, 128, 208, 156)]\n",
      "Vel seq case shapes: [(1, 128, 208, 104), (1, 128, 208, 104), (1, 128, 208, 104), (1, 128, 208, 104), (1, 128, 208, 104), (1, 128, 208, 104), (1, 128, 208, 104), (1, 128, 208, 104), (1, 128, 208, 104), (1, 128, 208, 104)]\n",
      "Processing 183143.npy\n",
      "(600, 1000, 310)\n",
      "State seq case shapes: [(1, 128, 208, 156), (1, 128, 208, 156), (1, 128, 208, 156), (1, 128, 208, 156), (1, 128, 208, 156), (1, 128, 208, 156), (1, 128, 208, 156), (1, 128, 208, 156), (1, 128, 208, 156), (1, 128, 208, 156)]\n",
      "Vel seq case shapes: [(1, 128, 208, 104), (1, 128, 208, 104), (1, 128, 208, 104), (1, 128, 208, 104), (1, 128, 208, 104), (1, 128, 208, 104), (1, 128, 208, 104), (1, 128, 208, 104), (1, 128, 208, 104), (1, 128, 208, 104)]\n",
      "Processing 183108.npy\n",
      "(600, 1000, 310)\n",
      "State seq case shapes: [(1, 128, 208, 156), (1, 128, 208, 156), (1, 128, 208, 156), (1, 128, 208, 156), (1, 128, 208, 156), (1, 128, 208, 156), (1, 128, 208, 156), (1, 128, 208, 156), (1, 128, 208, 156), (1, 128, 208, 156)]\n",
      "Vel seq case shapes: [(1, 128, 208, 104), (1, 128, 208, 104), (1, 128, 208, 104), (1, 128, 208, 104), (1, 128, 208, 104), (1, 128, 208, 104), (1, 128, 208, 104), (1, 128, 208, 104), (1, 128, 208, 104), (1, 128, 208, 104)]\n",
      "Processing 183116.npy\n",
      "(600, 1000, 310)\n",
      "State seq case shapes: [(1, 128, 208, 156), (1, 128, 208, 156), (1, 128, 208, 156), (1, 128, 208, 156), (1, 128, 208, 156), (1, 128, 208, 156), (1, 128, 208, 156), (1, 128, 208, 156), (1, 128, 208, 156), (1, 128, 208, 156)]\n",
      "Vel seq case shapes: [(1, 128, 208, 104), (1, 128, 208, 104), (1, 128, 208, 104), (1, 128, 208, 104), (1, 128, 208, 104), (1, 128, 208, 104), (1, 128, 208, 104), (1, 128, 208, 104), (1, 128, 208, 104), (1, 128, 208, 104)]\n",
      "Processing 183133.npy\n",
      "(600, 1000, 310)\n",
      "State seq case shapes: [(1, 128, 208, 156), (1, 128, 208, 156), (1, 128, 208, 156), (1, 128, 208, 156), (1, 128, 208, 156), (1, 128, 208, 156), (1, 128, 208, 156), (1, 128, 208, 156), (1, 128, 208, 156), (1, 128, 208, 156)]\n",
      "Vel seq case shapes: [(1, 128, 208, 104), (1, 128, 208, 104), (1, 128, 208, 104), (1, 128, 208, 104), (1, 128, 208, 104), (1, 128, 208, 104), (1, 128, 208, 104), (1, 128, 208, 104), (1, 128, 208, 104), (1, 128, 208, 104)]\n",
      "Processing 183106.npy\n",
      "(600, 1000, 310)\n",
      "State seq case shapes: [(1, 128, 208, 156), (1, 128, 208, 156), (1, 128, 208, 156), (1, 128, 208, 156), (1, 128, 208, 156), (1, 128, 208, 156), (1, 128, 208, 156), (1, 128, 208, 156), (1, 128, 208, 156), (1, 128, 208, 156)]\n",
      "Vel seq case shapes: [(1, 128, 208, 104), (1, 128, 208, 104), (1, 128, 208, 104), (1, 128, 208, 104), (1, 128, 208, 104), (1, 128, 208, 104), (1, 128, 208, 104), (1, 128, 208, 104), (1, 128, 208, 104), (1, 128, 208, 104)]\n",
      "Processing 183112.npy\n",
      "(600, 1000, 310)\n",
      "State seq case shapes: [(1, 128, 208, 156), (1, 128, 208, 156), (1, 128, 208, 156), (1, 128, 208, 156), (1, 128, 208, 156), (1, 128, 208, 156), (1, 128, 208, 156), (1, 128, 208, 156), (1, 128, 208, 156), (1, 128, 208, 156)]\n",
      "Vel seq case shapes: [(1, 128, 208, 104), (1, 128, 208, 104), (1, 128, 208, 104), (1, 128, 208, 104), (1, 128, 208, 104), (1, 128, 208, 104), (1, 128, 208, 104), (1, 128, 208, 104), (1, 128, 208, 104), (1, 128, 208, 104)]\n",
      "Processing 183136.npy\n",
      "(600, 1000, 310)\n",
      "State seq case shapes: [(1, 128, 208, 156), (1, 128, 208, 156), (1, 128, 208, 156), (1, 128, 208, 156), (1, 128, 208, 156), (1, 128, 208, 156), (1, 128, 208, 156), (1, 128, 208, 156), (1, 128, 208, 156), (1, 128, 208, 156)]\n",
      "Vel seq case shapes: [(1, 128, 208, 104), (1, 128, 208, 104), (1, 128, 208, 104), (1, 128, 208, 104), (1, 128, 208, 104), (1, 128, 208, 104), (1, 128, 208, 104), (1, 128, 208, 104), (1, 128, 208, 104), (1, 128, 208, 104)]\n",
      "Processing 183104.npy\n",
      "(600, 1000, 310)\n",
      "State seq case shapes: [(1, 128, 208, 156), (1, 128, 208, 156), (1, 128, 208, 156), (1, 128, 208, 156), (1, 128, 208, 156), (1, 128, 208, 156), (1, 128, 208, 156), (1, 128, 208, 156), (1, 128, 208, 156), (1, 128, 208, 156)]\n",
      "Vel seq case shapes: [(1, 128, 208, 104), (1, 128, 208, 104), (1, 128, 208, 104), (1, 128, 208, 104), (1, 128, 208, 104), (1, 128, 208, 104), (1, 128, 208, 104), (1, 128, 208, 104), (1, 128, 208, 104), (1, 128, 208, 104)]\n",
      "Processing 183135.npy\n",
      "(600, 1000, 310)\n",
      "State seq case shapes: [(1, 128, 208, 156), (1, 128, 208, 156), (1, 128, 208, 156), (1, 128, 208, 156), (1, 128, 208, 156), (1, 128, 208, 156), (1, 128, 208, 156), (1, 128, 208, 156), (1, 128, 208, 156), (1, 128, 208, 156)]\n",
      "Vel seq case shapes: [(1, 128, 208, 104), (1, 128, 208, 104), (1, 128, 208, 104), (1, 128, 208, 104), (1, 128, 208, 104), (1, 128, 208, 104), (1, 128, 208, 104), (1, 128, 208, 104), (1, 128, 208, 104), (1, 128, 208, 104)]\n",
      "Processing 183110.npy\n",
      "(600, 1000, 310)\n",
      "State seq case shapes: [(1, 128, 208, 156), (1, 128, 208, 156), (1, 128, 208, 156), (1, 128, 208, 156), (1, 128, 208, 156), (1, 128, 208, 156), (1, 128, 208, 156), (1, 128, 208, 156), (1, 128, 208, 156), (1, 128, 208, 156)]\n",
      "Vel seq case shapes: [(1, 128, 208, 104), (1, 128, 208, 104), (1, 128, 208, 104), (1, 128, 208, 104), (1, 128, 208, 104), (1, 128, 208, 104), (1, 128, 208, 104), (1, 128, 208, 104), (1, 128, 208, 104), (1, 128, 208, 104)]\n",
      "Processing 183123.npy\n",
      "(600, 1000, 310)\n",
      "State seq case shapes: [(1, 128, 208, 156), (1, 128, 208, 156), (1, 128, 208, 156), (1, 128, 208, 156), (1, 128, 208, 156), (1, 128, 208, 156), (1, 128, 208, 156), (1, 128, 208, 156), (1, 128, 208, 156), (1, 128, 208, 156)]\n",
      "Vel seq case shapes: [(1, 128, 208, 104), (1, 128, 208, 104), (1, 128, 208, 104), (1, 128, 208, 104), (1, 128, 208, 104), (1, 128, 208, 104), (1, 128, 208, 104), (1, 128, 208, 104), (1, 128, 208, 104), (1, 128, 208, 104)]\n",
      "Processing 183134.npy\n",
      "(600, 1000, 310)\n",
      "State seq case shapes: [(1, 128, 208, 156), (1, 128, 208, 156), (1, 128, 208, 156), (1, 128, 208, 156), (1, 128, 208, 156), (1, 128, 208, 156), (1, 128, 208, 156), (1, 128, 208, 156), (1, 128, 208, 156), (1, 128, 208, 156)]\n",
      "Vel seq case shapes: [(1, 128, 208, 104), (1, 128, 208, 104), (1, 128, 208, 104), (1, 128, 208, 104), (1, 128, 208, 104), (1, 128, 208, 104), (1, 128, 208, 104), (1, 128, 208, 104), (1, 128, 208, 104), (1, 128, 208, 104)]\n",
      "Processing 183138.npy\n",
      "(600, 1000, 310)\n",
      "State seq case shapes: [(1, 128, 208, 156), (1, 128, 208, 156), (1, 128, 208, 156), (1, 128, 208, 156), (1, 128, 208, 156), (1, 128, 208, 156), (1, 128, 208, 156), (1, 128, 208, 156), (1, 128, 208, 156), (1, 128, 208, 156)]\n",
      "Vel seq case shapes: [(1, 128, 208, 104), (1, 128, 208, 104), (1, 128, 208, 104), (1, 128, 208, 104), (1, 128, 208, 104), (1, 128, 208, 104), (1, 128, 208, 104), (1, 128, 208, 104), (1, 128, 208, 104), (1, 128, 208, 104)]\n",
      "Processing 183125.npy\n",
      "(600, 1000, 310)\n",
      "State seq case shapes: [(1, 128, 208, 156), (1, 128, 208, 156), (1, 128, 208, 156), (1, 128, 208, 156), (1, 128, 208, 156), (1, 128, 208, 156), (1, 128, 208, 156), (1, 128, 208, 156), (1, 128, 208, 156), (1, 128, 208, 156)]\n",
      "Vel seq case shapes: [(1, 128, 208, 104), (1, 128, 208, 104), (1, 128, 208, 104), (1, 128, 208, 104), (1, 128, 208, 104), (1, 128, 208, 104), (1, 128, 208, 104), (1, 128, 208, 104), (1, 128, 208, 104), (1, 128, 208, 104)]\n",
      "Processing 183144.npy\n",
      "(600, 1000, 310)\n",
      "State seq case shapes: [(1, 128, 208, 156), (1, 128, 208, 156), (1, 128, 208, 156), (1, 128, 208, 156), (1, 128, 208, 156), (1, 128, 208, 156), (1, 128, 208, 156), (1, 128, 208, 156), (1, 128, 208, 156), (1, 128, 208, 156)]\n",
      "Vel seq case shapes: [(1, 128, 208, 104), (1, 128, 208, 104), (1, 128, 208, 104), (1, 128, 208, 104), (1, 128, 208, 104), (1, 128, 208, 104), (1, 128, 208, 104), (1, 128, 208, 104), (1, 128, 208, 104), (1, 128, 208, 104)]\n",
      "Processing 183145.npy\n",
      "(600, 1000, 310)\n",
      "State seq case shapes: [(1, 128, 208, 156), (1, 128, 208, 156), (1, 128, 208, 156), (1, 128, 208, 156), (1, 128, 208, 156), (1, 128, 208, 156), (1, 128, 208, 156), (1, 128, 208, 156), (1, 128, 208, 156), (1, 128, 208, 156)]\n",
      "Vel seq case shapes: [(1, 128, 208, 104), (1, 128, 208, 104), (1, 128, 208, 104), (1, 128, 208, 104), (1, 128, 208, 104), (1, 128, 208, 104), (1, 128, 208, 104), (1, 128, 208, 104), (1, 128, 208, 104), (1, 128, 208, 104)]\n",
      "Processing 183103.npy\n",
      "(600, 1000, 310)\n",
      "State seq case shapes: [(1, 128, 208, 156), (1, 128, 208, 156), (1, 128, 208, 156), (1, 128, 208, 156), (1, 128, 208, 156), (1, 128, 208, 156), (1, 128, 208, 156), (1, 128, 208, 156), (1, 128, 208, 156), (1, 128, 208, 156)]\n",
      "Vel seq case shapes: [(1, 128, 208, 104), (1, 128, 208, 104), (1, 128, 208, 104), (1, 128, 208, 104), (1, 128, 208, 104), (1, 128, 208, 104), (1, 128, 208, 104), (1, 128, 208, 104), (1, 128, 208, 104), (1, 128, 208, 104)]\n",
      "Processing 183121.npy\n",
      "(600, 1000, 310)\n",
      "State seq case shapes: [(1, 128, 208, 156), (1, 128, 208, 156), (1, 128, 208, 156), (1, 128, 208, 156), (1, 128, 208, 156), (1, 128, 208, 156), (1, 128, 208, 156), (1, 128, 208, 156), (1, 128, 208, 156), (1, 128, 208, 156)]\n",
      "Vel seq case shapes: [(1, 128, 208, 104), (1, 128, 208, 104), (1, 128, 208, 104), (1, 128, 208, 104), (1, 128, 208, 104), (1, 128, 208, 104), (1, 128, 208, 104), (1, 128, 208, 104), (1, 128, 208, 104), (1, 128, 208, 104)]\n",
      "Processing 183107.npy\n",
      "(600, 1000, 310)\n",
      "State seq case shapes: [(1, 128, 208, 156), (1, 128, 208, 156), (1, 128, 208, 156), (1, 128, 208, 156), (1, 128, 208, 156), (1, 128, 208, 156), (1, 128, 208, 156), (1, 128, 208, 156), (1, 128, 208, 156), (1, 128, 208, 156)]\n",
      "Vel seq case shapes: [(1, 128, 208, 104), (1, 128, 208, 104), (1, 128, 208, 104), (1, 128, 208, 104), (1, 128, 208, 104), (1, 128, 208, 104), (1, 128, 208, 104), (1, 128, 208, 104), (1, 128, 208, 104), (1, 128, 208, 104)]\n",
      "Processing 183109.npy\n",
      "(600, 1000, 310)\n",
      "State seq case shapes: [(1, 128, 208, 156), (1, 128, 208, 156), (1, 128, 208, 156), (1, 128, 208, 156), (1, 128, 208, 156), (1, 128, 208, 156), (1, 128, 208, 156), (1, 128, 208, 156), (1, 128, 208, 156), (1, 128, 208, 156)]\n",
      "Vel seq case shapes: [(1, 128, 208, 104), (1, 128, 208, 104), (1, 128, 208, 104), (1, 128, 208, 104), (1, 128, 208, 104), (1, 128, 208, 104), (1, 128, 208, 104), (1, 128, 208, 104), (1, 128, 208, 104), (1, 128, 208, 104)]\n",
      "Processing 183111.npy\n",
      "(600, 1000, 310)\n",
      "State seq case shapes: [(1, 128, 208, 156), (1, 128, 208, 156), (1, 128, 208, 156), (1, 128, 208, 156), (1, 128, 208, 156), (1, 128, 208, 156), (1, 128, 208, 156), (1, 128, 208, 156), (1, 128, 208, 156), (1, 128, 208, 156)]\n",
      "Vel seq case shapes: [(1, 128, 208, 104), (1, 128, 208, 104), (1, 128, 208, 104), (1, 128, 208, 104), (1, 128, 208, 104), (1, 128, 208, 104), (1, 128, 208, 104), (1, 128, 208, 104), (1, 128, 208, 104), (1, 128, 208, 104)]\n",
      "Processing 183137.npy\n",
      "(600, 1000, 310)\n",
      "State seq case shapes: [(1, 128, 208, 156), (1, 128, 208, 156), (1, 128, 208, 156), (1, 128, 208, 156), (1, 128, 208, 156), (1, 128, 208, 156), (1, 128, 208, 156), (1, 128, 208, 156), (1, 128, 208, 156), (1, 128, 208, 156)]\n",
      "Vel seq case shapes: [(1, 128, 208, 104), (1, 128, 208, 104), (1, 128, 208, 104), (1, 128, 208, 104), (1, 128, 208, 104), (1, 128, 208, 104), (1, 128, 208, 104), (1, 128, 208, 104), (1, 128, 208, 104), (1, 128, 208, 104)]\n",
      "Processing 183140.npy\n",
      "(600, 1000, 310)\n",
      "State seq case shapes: [(1, 128, 208, 156), (1, 128, 208, 156), (1, 128, 208, 156), (1, 128, 208, 156), (1, 128, 208, 156), (1, 128, 208, 156), (1, 128, 208, 156), (1, 128, 208, 156), (1, 128, 208, 156), (1, 128, 208, 156)]\n",
      "Vel seq case shapes: [(1, 128, 208, 104), (1, 128, 208, 104), (1, 128, 208, 104), (1, 128, 208, 104), (1, 128, 208, 104), (1, 128, 208, 104), (1, 128, 208, 104), (1, 128, 208, 104), (1, 128, 208, 104), (1, 128, 208, 104)]\n",
      "Processing 183129.npy\n",
      "(600, 1000, 310)\n",
      "State seq case shapes: [(1, 128, 208, 156), (1, 128, 208, 156), (1, 128, 208, 156), (1, 128, 208, 156), (1, 128, 208, 156), (1, 128, 208, 156), (1, 128, 208, 156), (1, 128, 208, 156), (1, 128, 208, 156), (1, 128, 208, 156)]\n",
      "Vel seq case shapes: [(1, 128, 208, 104), (1, 128, 208, 104), (1, 128, 208, 104), (1, 128, 208, 104), (1, 128, 208, 104), (1, 128, 208, 104), (1, 128, 208, 104), (1, 128, 208, 104), (1, 128, 208, 104), (1, 128, 208, 104)]\n",
      "Processing 183114.npy\n",
      "(600, 1000, 310)\n",
      "State seq case shapes: [(1, 128, 208, 156), (1, 128, 208, 156), (1, 128, 208, 156), (1, 128, 208, 156), (1, 128, 208, 156), (1, 128, 208, 156), (1, 128, 208, 156), (1, 128, 208, 156), (1, 128, 208, 156), (1, 128, 208, 156)]\n",
      "Vel seq case shapes: [(1, 128, 208, 104), (1, 128, 208, 104), (1, 128, 208, 104), (1, 128, 208, 104), (1, 128, 208, 104), (1, 128, 208, 104), (1, 128, 208, 104), (1, 128, 208, 104), (1, 128, 208, 104), (1, 128, 208, 104)]\n",
      "Processing 183119.npy\n",
      "(600, 1000, 290)\n",
      "State seq case shapes: [(1, 128, 208, 156), (1, 128, 208, 156), (1, 128, 208, 156), (1, 128, 208, 156), (1, 128, 208, 156), (1, 128, 208, 156)]\n",
      "Vel seq case shapes: [(1, 128, 208, 104), (1, 128, 208, 104), (1, 128, 208, 104), (1, 128, 208, 104), (1, 128, 208, 104), (1, 128, 208, 104)]\n",
      "Processing 183130.npy\n",
      "(600, 1000, 310)\n",
      "State seq case shapes: [(1, 128, 208, 156), (1, 128, 208, 156), (1, 128, 208, 156), (1, 128, 208, 156), (1, 128, 208, 156), (1, 128, 208, 156), (1, 128, 208, 156), (1, 128, 208, 156), (1, 128, 208, 156), (1, 128, 208, 156)]\n",
      "Vel seq case shapes: [(1, 128, 208, 104), (1, 128, 208, 104), (1, 128, 208, 104), (1, 128, 208, 104), (1, 128, 208, 104), (1, 128, 208, 104), (1, 128, 208, 104), (1, 128, 208, 104), (1, 128, 208, 104), (1, 128, 208, 104)]\n",
      "Processing 183118.npy\n",
      "(600, 1000, 310)\n",
      "State seq case shapes: [(1, 128, 208, 156), (1, 128, 208, 156), (1, 128, 208, 156), (1, 128, 208, 156), (1, 128, 208, 156), (1, 128, 208, 156), (1, 128, 208, 156), (1, 128, 208, 156), (1, 128, 208, 156), (1, 128, 208, 156)]\n",
      "Vel seq case shapes: [(1, 128, 208, 104), (1, 128, 208, 104), (1, 128, 208, 104), (1, 128, 208, 104), (1, 128, 208, 104), (1, 128, 208, 104), (1, 128, 208, 104), (1, 128, 208, 104), (1, 128, 208, 104), (1, 128, 208, 104)]\n",
      "Processing 183128.npy\n",
      "(600, 1000, 310)\n",
      "State seq case shapes: [(1, 128, 208, 156), (1, 128, 208, 156), (1, 128, 208, 156), (1, 128, 208, 156), (1, 128, 208, 156), (1, 128, 208, 156), (1, 128, 208, 156), (1, 128, 208, 156), (1, 128, 208, 156), (1, 128, 208, 156)]\n",
      "Vel seq case shapes: [(1, 128, 208, 104), (1, 128, 208, 104), (1, 128, 208, 104), (1, 128, 208, 104), (1, 128, 208, 104), (1, 128, 208, 104), (1, 128, 208, 104), (1, 128, 208, 104), (1, 128, 208, 104), (1, 128, 208, 104)]\n",
      "Processing 183124.npy\n",
      "(600, 1000, 310)\n",
      "State seq case shapes: [(1, 128, 208, 156), (1, 128, 208, 156), (1, 128, 208, 156), (1, 128, 208, 156), (1, 128, 208, 156), (1, 128, 208, 156), (1, 128, 208, 156), (1, 128, 208, 156), (1, 128, 208, 156), (1, 128, 208, 156)]\n",
      "Vel seq case shapes: [(1, 128, 208, 104), (1, 128, 208, 104), (1, 128, 208, 104), (1, 128, 208, 104), (1, 128, 208, 104), (1, 128, 208, 104), (1, 128, 208, 104), (1, 128, 208, 104), (1, 128, 208, 104), (1, 128, 208, 104)]\n"
     ]
    }
   ],
   "source": [
    "# Get data and normalization\n",
    "state_seq_whole, vel_seq_whole = data.clip_raw_data(sequence_length = 52, n_state_var = 3, purpose = \"diff_training\", folder_path = '/scratch/jtb3sud/meta_data/tnt/training', image_size = (128, 208))\n",
    "state_seq_norm = data.data_normalization(state_seq_whole,3)\n",
    "vel_seq_norm = data.data_normalization(vel_seq_whole,2)"
   ]
  },
  {
   "cell_type": "markdown",
   "metadata": {},
   "source": [
    "# Validation"
   ]
  },
  {
   "cell_type": "code",
   "execution_count": 3,
   "metadata": {},
   "outputs": [
    {
     "name": "stdout",
     "output_type": "stream",
     "text": [
      "Processing 183116.npy\n",
      "(600, 1000, 310)\n",
      "State seq case shapes: [(1, 128, 208, 156)]\n",
      "Vel seq case shapes: [(1, 128, 208, 104)]\n",
      "Processing 183130.npy\n",
      "(600, 1000, 310)\n",
      "State seq case shapes: [(1, 128, 208, 156)]\n",
      "Vel seq case shapes: [(1, 128, 208, 104)]\n",
      "Processing 183104.npy\n",
      "(600, 1000, 310)\n",
      "State seq case shapes: [(1, 128, 208, 156)]\n",
      "Vel seq case shapes: [(1, 128, 208, 104)]\n",
      "Processing 183109.npy\n",
      "(600, 1000, 310)\n",
      "State seq case shapes: [(1, 128, 208, 156)]\n",
      "Vel seq case shapes: [(1, 128, 208, 104)]\n",
      "Processing 183129.npy\n",
      "(600, 1000, 310)\n",
      "State seq case shapes: [(1, 128, 208, 156)]\n",
      "Vel seq case shapes: [(1, 128, 208, 104)]\n",
      "Processing 183137.npy\n",
      "(600, 1000, 310)\n",
      "State seq case shapes: [(1, 128, 208, 156)]\n",
      "Vel seq case shapes: [(1, 128, 208, 104)]\n",
      "Processing 183138.npy\n",
      "(600, 1000, 310)\n",
      "State seq case shapes: [(1, 128, 208, 156)]\n",
      "Vel seq case shapes: [(1, 128, 208, 104)]\n",
      "Processing 183121.npy\n",
      "(600, 1000, 310)\n",
      "State seq case shapes: [(1, 128, 208, 156)]\n",
      "Vel seq case shapes: [(1, 128, 208, 104)]\n",
      "Processing 183117.npy\n",
      "(600, 1000, 310)\n",
      "State seq case shapes: [(1, 128, 208, 156)]\n",
      "Vel seq case shapes: [(1, 128, 208, 104)]\n",
      "Processing 183124.npy\n",
      "(600, 1000, 310)\n",
      "State seq case shapes: [(1, 128, 208, 156)]\n",
      "Vel seq case shapes: [(1, 128, 208, 104)]\n",
      "Processing 183133.npy\n",
      "(600, 1000, 310)\n",
      "State seq case shapes: [(1, 128, 208, 156)]\n",
      "Vel seq case shapes: [(1, 128, 208, 104)]\n",
      "Processing 183119.npy\n",
      "(600, 1000, 290)\n",
      "State seq case shapes: [(1, 128, 208, 156)]\n",
      "Vel seq case shapes: [(1, 128, 208, 104)]\n",
      "Processing 183126.npy\n",
      "(600, 1000, 310)\n",
      "State seq case shapes: [(1, 128, 208, 156)]\n",
      "Vel seq case shapes: [(1, 128, 208, 104)]\n",
      "Processing 183140.npy\n",
      "(600, 1000, 310)\n",
      "State seq case shapes: [(1, 128, 208, 156)]\n",
      "Vel seq case shapes: [(1, 128, 208, 104)]\n",
      "Processing 183125.npy\n",
      "(600, 1000, 310)\n",
      "State seq case shapes: [(1, 128, 208, 156)]\n",
      "Vel seq case shapes: [(1, 128, 208, 104)]\n",
      "Processing 183136.npy\n",
      "(600, 1000, 310)\n",
      "State seq case shapes: [(1, 128, 208, 156)]\n",
      "Vel seq case shapes: [(1, 128, 208, 104)]\n",
      "Processing 183134.npy\n",
      "(600, 1000, 310)\n",
      "State seq case shapes: [(1, 128, 208, 156)]\n",
      "Vel seq case shapes: [(1, 128, 208, 104)]\n",
      "Processing 183131.npy\n",
      "(600, 1000, 310)\n",
      "State seq case shapes: [(1, 128, 208, 156)]\n",
      "Vel seq case shapes: [(1, 128, 208, 104)]\n",
      "Processing 183139.npy\n",
      "(600, 1000, 310)\n",
      "State seq case shapes: [(1, 128, 208, 156)]\n",
      "Vel seq case shapes: [(1, 128, 208, 104)]\n"
     ]
    }
   ],
   "source": [
    "state_seq_whole, vel_seq_whole = data.clip_raw_data(sequence_length = 52, n_state_var = 3, purpose = \"test\", folder_path = '/scratch/jtb3sud/meta_data/tnt/testing', image_size = (128, 208))\n",
    "state_seq_norm_test = data.data_normalization_test(state_seq_whole, state_seq_norm[1], state_seq_norm[2],3)\n",
    "vel_seq_norm_test = data.data_normalization_test(vel_seq_whole, vel_seq_norm[1], vel_seq_norm[2],2)"
   ]
  },
  {
   "cell_type": "code",
   "execution_count": 4,
   "metadata": {
    "tags": []
   },
   "outputs": [],
   "source": [
    "#print(state_seq_whole)\n",
    "#print(vel_seq_whole)\n",
    "#print(state_seq_norm_test)\n",
    "#print(vel_seq_norm_test)"
   ]
  },
  {
   "cell_type": "code",
   "execution_count": 5,
   "metadata": {
    "tags": []
   },
   "outputs": [
    {
     "data": {
      "text/plain": [
       "(19, 128, 208, 156)"
      ]
     },
     "execution_count": 5,
     "metadata": {},
     "output_type": "execute_result"
    }
   ],
   "source": [
    "### we need to save state_seq_whole and vel_seq_whole combined and saved as numpy array this is our ground truth. high priority\n",
    "state_seq_whole.shape"
   ]
  },
  {
   "cell_type": "code",
   "execution_count": 6,
   "metadata": {
    "tags": []
   },
   "outputs": [
    {
     "name": "stdout",
     "output_type": "stream",
     "text": [
      "Image size: (128, 208)\n"
     ]
    },
    {
     "data": {
      "image/png": "[encoded data removed]",
      "text/plain": [
       "<Figure size 640x480 with 1 Axes>"
      ]
     },
     "metadata": {},
     "output_type": "display_data"
    }
   ],
   "source": [
    "import matplotlib.pyplot as plt\n",
    "\n",
    "# Assuming state_seq_norm_test is a numpy array containing image data\n",
    "image = state_seq_norm_test[0, :, :, 0]\n",
    "\n",
    "plt.imshow(image)\n",
    "\n",
    "# Get the size of the image\n",
    "image_size = image.shape\n",
    "print(\"Image size:\", image_size)\n",
    "## 128 x 216 "
   ]
  },
  {
   "cell_type": "markdown",
   "metadata": {},
   "source": [
    "## Load model"
   ]
  },
  {
   "cell_type": "code",
   "execution_count": 7,
   "metadata": {
    "tags": []
   },
   "outputs": [],
   "source": [
    "tf.keras.backend.clear_session()\n",
    "parc_rk = model.PARCv2(n_state_var = 3, n_time_step = 52, step_size= 1/52, solver = \"rk4\", image_size = (128, 208))\n",
    "parc_rk.compile()\n",
    "parc_rk.differentiator.load_weights('/sfs/qumulo/qhome/jtb3sud/PARCv2/Pretrained_Weights/em/parc2_diff_rk4.h5')\n",
    "parc_rk.integrator.load_weights('/sfs/qumulo/qhome/jtb3sud/PARCv2/Pretrained_Weights/em/parc2_int_rk4.h5')"
   ]
  },
  {
   "cell_type": "code",
   "execution_count": 8,
   "metadata": {
    "tags": []
   },
   "outputs": [
    {
     "name": "stdout",
     "output_type": "stream",
     "text": [
      "(19, 128, 208, 156)\n",
      "(19, 128, 208, 104)\n"
     ]
    }
   ],
   "source": [
    "print(state_seq_norm_test.shape)\n",
    "print(vel_seq_norm_test.shape)"
   ]
  },
  {
   "cell_type": "code",
   "execution_count": 9,
   "metadata": {},
   "outputs": [
    {
     "name": "stdout",
     "output_type": "stream",
     "text": [
      "0\n",
      "State shape: (1, 128, 208, 3)\n",
      "Velocity shape: (1, 128, 208, 2)\n"
     ]
    },
    {
     "name": "stderr",
     "output_type": "stream",
     "text": [
      "2024-05-06 14:43:11.157339: I tensorflow/compiler/xla/stream_executor/cuda/cuda_dnn.cc:432] Loaded cuDNN version 8904\n",
      "2024-05-06 14:43:12.105108: I tensorflow/compiler/xla/stream_executor/cuda/cuda_blas.cc:625] TensorFloat-32 will be used for the matrix multiplication. This will only be logged once.\n"
     ]
    },
    {
     "name": "stdout",
     "output_type": "stream",
     "text": [
      "1/1 [==============================] - 358s 358s/step\n",
      "(1, 128, 208, 260)\n",
      "1\n",
      "State shape: (1, 128, 208, 3)\n",
      "Velocity shape: (1, 128, 208, 2)\n",
      "1/1 [==============================] - 5s 5s/step\n",
      "(1, 128, 208, 260)\n",
      "2\n",
      "State shape: (1, 128, 208, 3)\n",
      "Velocity shape: (1, 128, 208, 2)\n",
      "1/1 [==============================] - 5s 5s/step\n",
      "(1, 128, 208, 260)\n",
      "3\n",
      "State shape: (1, 128, 208, 3)\n",
      "Velocity shape: (1, 128, 208, 2)\n",
      "1/1 [==============================] - 5s 5s/step\n",
      "(1, 128, 208, 260)\n",
      "4\n",
      "State shape: (1, 128, 208, 3)\n",
      "Velocity shape: (1, 128, 208, 2)\n",
      "1/1 [==============================] - 5s 5s/step\n",
      "(1, 128, 208, 260)\n",
      "5\n",
      "State shape: (1, 128, 208, 3)\n",
      "Velocity shape: (1, 128, 208, 2)\n",
      "1/1 [==============================] - 5s 5s/step\n",
      "(1, 128, 208, 260)\n",
      "6\n",
      "State shape: (1, 128, 208, 3)\n",
      "Velocity shape: (1, 128, 208, 2)\n",
      "1/1 [==============================] - 5s 5s/step\n",
      "(1, 128, 208, 260)\n",
      "7\n",
      "State shape: (1, 128, 208, 3)\n",
      "Velocity shape: (1, 128, 208, 2)\n",
      "1/1 [==============================] - 5s 5s/step\n",
      "(1, 128, 208, 260)\n",
      "8\n",
      "State shape: (1, 128, 208, 3)\n",
      "Velocity shape: (1, 128, 208, 2)\n",
      "1/1 [==============================] - 5s 5s/step\n",
      "(1, 128, 208, 260)\n",
      "9\n",
      "State shape: (1, 128, 208, 3)\n",
      "Velocity shape: (1, 128, 208, 2)\n",
      "1/1 [==============================] - 5s 5s/step\n",
      "(1, 128, 208, 260)\n",
      "10\n",
      "State shape: (1, 128, 208, 3)\n",
      "Velocity shape: (1, 128, 208, 2)\n",
      "1/1 [==============================] - 5s 5s/step\n",
      "(1, 128, 208, 260)\n",
      "11\n",
      "State shape: (1, 128, 208, 3)\n",
      "Velocity shape: (1, 128, 208, 2)\n",
      "1/1 [==============================] - 5s 5s/step\n",
      "(1, 128, 208, 260)\n",
      "12\n",
      "State shape: (1, 128, 208, 3)\n",
      "Velocity shape: (1, 128, 208, 2)\n",
      "1/1 [==============================] - 5s 5s/step\n",
      "(1, 128, 208, 260)\n",
      "13\n",
      "State shape: (1, 128, 208, 3)\n",
      "Velocity shape: (1, 128, 208, 2)\n",
      "1/1 [==============================] - 5s 5s/step\n",
      "(1, 128, 208, 260)\n",
      "14\n",
      "State shape: (1, 128, 208, 3)\n",
      "Velocity shape: (1, 128, 208, 2)\n",
      "1/1 [==============================] - 5s 5s/step\n",
      "(1, 128, 208, 260)\n",
      "15\n",
      "State shape: (1, 128, 208, 3)\n",
      "Velocity shape: (1, 128, 208, 2)\n",
      "1/1 [==============================] - 5s 5s/step\n",
      "(1, 128, 208, 260)\n",
      "16\n",
      "State shape: (1, 128, 208, 3)\n",
      "Velocity shape: (1, 128, 208, 2)\n",
      "1/1 [==============================] - 5s 5s/step\n",
      "(1, 128, 208, 260)\n",
      "17\n",
      "State shape: (1, 128, 208, 3)\n",
      "Velocity shape: (1, 128, 208, 2)\n",
      "1/1 [==============================] - 5s 5s/step\n",
      "(1, 128, 208, 260)\n",
      "(18, 128, 208, 260)\n"
     ]
    }
   ],
   "source": [
    "state_rk = []\n",
    "outlier = []\n",
    "# what is my input here? I am looping through all test samples.. am I looping through just one test sample?\n",
    "# how do I compare ground truth \n",
    "for idx in range(18):\n",
    "    if idx not in outlier:\n",
    "        print(idx)\n",
    "        #print(state_seq_norm_test)\n",
    "        # what is the index helping with\n",
    "        # why slice with these values?\n",
    "        \n",
    "        ## overall a data explanation is crucial for other users to have this \n",
    "        ## why must this equal 5 on the end? this should be explained\n",
    "        state_var_current = state_seq_norm_test[idx:idx+1,:,:,24:27]\n",
    "        velocity_current = vel_seq_norm_test[idx:idx +1,:,:,24:26]\n",
    "        # Print shapes for debugging\n",
    "        print(\"State shape:\", state_var_current.shape)\n",
    "        print(\"Velocity shape:\", velocity_current.shape)\n",
    "        ## detail what is being input here \n",
    "        pred_state = parc_rk.predict([state_var_current,velocity_current])\n",
    "        pred_state_case = np.concatenate(pred_state, axis = -1)\n",
    "        print(pred_state_case.shape)\n",
    "        state_rk.append(pred_state_case)\n",
    "state_rk = np.concatenate(state_rk, axis = 0)\n",
    "print(state_rk.shape)       "
   ]
  },
  {
   "cell_type": "code",
   "execution_count": 10,
   "metadata": {
    "tags": []
   },
   "outputs": [
    {
     "name": "stderr",
     "output_type": "stream",
     "text": [
      "/tmp/ipykernel_486928/2670686387.py:16: MatplotlibDeprecationWarning: The tostring_rgb function was deprecated in Matplotlib 3.8 and will be removed two minor releases later. Use buffer_rgba instead.\n",
      "  pil_image = Image.frombytes('RGB', fig.canvas.get_width_height(), fig.canvas.tostring_rgb())\n"
     ]
    }
   ],
   "source": [
    "import matplotlib.pyplot as plt\n",
    "from PIL import Image\n",
    "\n",
    "# Initialize list to store frames\n",
    "frames = []\n",
    "\n",
    "for i in range(52):\n",
    "    # Plot the image\n",
    "    plt.imshow(state_rk[6, :, :, i * 5], vmin=0, vmax=1, cmap='jet')\n",
    "    plt.axis('off')  # Turn off axis\n",
    "\n",
    "    # Convert the figure to a PIL image\n",
    "    plt.subplots_adjust(left=0, right=1, top=1, bottom=0)  # Remove whitespace\n",
    "    fig = plt.gcf()\n",
    "    fig.canvas.draw()\n",
    "    pil_image = Image.frombytes('RGB', fig.canvas.get_width_height(), fig.canvas.tostring_rgb())\n",
    "\n",
    "    # Close the plot to prevent display\n",
    "    plt.close()\n",
    "\n",
    "    # Append the PIL image to the frames list\n",
    "    frames.append(pil_image)\n",
    "\n",
    "# Save frames as a GIF\n",
    "frames[0].save('state_rk_animation.gif', save_all=True, append_images=frames[1:], duration=100, loop=0)\n"
   ]
  },
  {
   "cell_type": "code",
   "execution_count": 11,
   "metadata": {},
   "outputs": [],
   "source": [
    "import PARC.visualization.visualization_em as viz\n",
    "## visualization needs to be explained"
   ]
  },
  {
   "cell_type": "code",
   "execution_count": 12,
   "metadata": {
    "tags": []
   },
   "outputs": [],
   "source": [
    "# Denormalizing prediction data\n",
    "pred_out = data.data_denormalization(state_rk,state_seq_norm[1] + vel_seq_norm[1],state_seq_norm[2] + vel_seq_norm[2], no_of_channel = 5)"
   ]
  },
  {
   "cell_type": "code",
   "execution_count": 13,
   "metadata": {
    "tags": []
   },
   "outputs": [],
   "source": [
    "# Save results file for plotting\n",
    "np.save('/scratch/jtb3sud/parcv2_tatb.npy',pred_out)"
   ]
  },
  {
   "cell_type": "code",
   "execution_count": 14,
   "metadata": {},
   "outputs": [
    {
     "ename": "TypeError",
     "evalue": "plot_field_evolution() missing 3 required positional arguments: 'y_true', 'case_id', and 'options'",
     "output_type": "error",
     "traceback": [
      "\u001b[0;31m---------------------------------------------------------------------------\u001b[0m",
      "\u001b[0;31mTypeError\u001b[0m                                 Traceback (most recent call last)",
      "Cell \u001b[0;32mIn[14], line 2\u001b[0m\n\u001b[1;32m      1\u001b[0m \u001b[38;5;66;03m## how do I get gt??? This needs to be explained...\u001b[39;00m\n\u001b[0;32m----> 2\u001b[0m \u001b[43mviz\u001b[49m\u001b[38;5;241;43m.\u001b[39;49m\u001b[43mplot_field_evolution\u001b[49m\u001b[43m(\u001b[49m\u001b[43mpred_out\u001b[49m\u001b[43m,\u001b[49m\u001b[43m \u001b[49m\u001b[43m)\u001b[49m\n",
      "\u001b[0;31mTypeError\u001b[0m: plot_field_evolution() missing 3 required positional arguments: 'y_true', 'case_id', and 'options'"
     ]
    }
   ],
   "source": [
    "## how do I get gt??? This needs to be explained...\n",
    "viz.plot_field_evolution(pred_out, )"
   ]
  }
 ],
 "metadata": {
  "kernelspec": {
   "display_name": "Tensorflow 2.13.0",
   "language": "python",
   "name": "tensorflow-2.13.0"
  },
  "language_info": {
   "codemirror_mode": {
    "name": "ipython",
    "version": 3
   },
   "file_extension": ".py",
   "mimetype": "text/x-python",
   "name": "python",
   "nbconvert_exporter": "python",
   "pygments_lexer": "ipython3",
   "version": "3.10.12"
  }
 },
 "nbformat": 4,
 "nbformat_minor": 4
}
