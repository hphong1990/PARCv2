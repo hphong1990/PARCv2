{
 "cells": [
  {
   "cell_type": "code",
   "execution_count": 1,
   "id": "757e104f-46a5-49fe-8497-a8f798bb6725",
   "metadata": {
    "tags": []
   },
   "outputs": [
    {
     "name": "stderr",
     "output_type": "stream",
     "text": [
      "2024-05-24 13:19:36.395304: I tensorflow/core/platform/cpu_feature_guard.cc:193] This TensorFlow binary is optimized with oneAPI Deep Neural Network Library (oneDNN) to use the following CPU instructions in performance-critical operations:  AVX2 FMA\n",
      "To enable them in other operations, rebuild TensorFlow with the appropriate compiler flags.\n",
      "2024-05-24 13:19:37.044431: W tensorflow/compiler/xla/stream_executor/platform/default/dso_loader.cc:64] Could not load dynamic library 'libnvinfer.so.7'; dlerror: libnvinfer.so.7: cannot open shared object file: No such file or directory; LD_LIBRARY_PATH: /usr/local/cuda/:/usr/local/cuda/include/:/usr/local/cuda/lib/:/usr/local/cuda/lib64/:/usr/lib/x86_64-linux-gnu/:/opt/apps/TensorRT-8.6.1.6/lib/:/opt/apps/TensorRT-8.6.1.6/include/:/usr/include/x86_64-linux-gnu/:/usr/include/\n",
      "2024-05-24 13:19:37.044518: W tensorflow/compiler/xla/stream_executor/platform/default/dso_loader.cc:64] Could not load dynamic library 'libnvinfer_plugin.so.7'; dlerror: libnvinfer_plugin.so.7: cannot open shared object file: No such file or directory; LD_LIBRARY_PATH: /usr/local/cuda/:/usr/local/cuda/include/:/usr/local/cuda/lib/:/usr/local/cuda/lib64/:/usr/lib/x86_64-linux-gnu/:/opt/apps/TensorRT-8.6.1.6/lib/:/opt/apps/TensorRT-8.6.1.6/include/:/usr/include/x86_64-linux-gnu/:/usr/include/\n",
      "2024-05-24 13:19:37.044522: W tensorflow/compiler/tf2tensorrt/utils/py_utils.cc:38] TF-TRT Warning: Cannot dlopen some TensorRT libraries. If you would like to use Nvidia GPU with TensorRT, please make sure the missing libraries mentioned above are installed properly.\n"
     ]
    },
    {
     "name": "stdout",
     "output_type": "stream",
     "text": [
      "/home/lweger/PARCv2\n",
      "Fri May 24 13:19:37 2024       \n",
      "+---------------------------------------------------------------------------------------+\n",
      "| NVIDIA-SMI 535.129.03             Driver Version: 535.129.03   CUDA Version: 12.2     |\n",
      "|-----------------------------------------+----------------------+----------------------+\n",
      "| GPU  Name                 Persistence-M | Bus-Id        Disp.A | Volatile Uncorr. ECC |\n",
      "| Fan  Temp   Perf          Pwr:Usage/Cap |         Memory-Usage | GPU-Util  Compute M. |\n",
      "|                                         |                      |               MIG M. |\n",
      "|=========================================+======================+======================|\n",
      "|   0  NVIDIA A10                     Off | 00000000:A6:00.0 Off |                    0 |\n",
      "|  0%   56C    P0              64W / 150W |  22318MiB / 23028MiB |      0%      Default |\n",
      "|                                         |                      |                  N/A |\n",
      "+-----------------------------------------+----------------------+----------------------+\n",
      "                                                                                         \n",
      "+---------------------------------------------------------------------------------------+\n",
      "| Processes:                                                                            |\n",
      "|  GPU   GI   CI        PID   Type   Process name                            GPU Memory |\n",
      "|        ID   ID                                                             Usage      |\n",
      "|=======================================================================================|\n",
      "+---------------------------------------------------------------------------------------+\n"
     ]
    }
   ],
   "source": [
    "import numpy as np\n",
    "import matplotlib.pyplot as plt\n",
    "import tensorflow as tf\n",
    "import os\n",
    "os.chdir(\"../\")\n",
    "print(os.getcwd())\n",
    "from parc.data import data_navier_stokes as data\n",
    "from parc.model import model_ns as model\n",
    "!nvidia-smi "
   ]
  },
  {
   "cell_type": "markdown",
   "id": "d7ae4c6f-c84a-454d-b04c-3d67f5582f62",
   "metadata": {},
   "source": [
    "# Data pipeline"
   ]
  },
  {
   "cell_type": "code",
   "execution_count": 2,
   "id": "195f763c-3818-473e-88ef-fef5caa7f701",
   "metadata": {
    "tags": []
   },
   "outputs": [
    {
     "ename": "NameError",
     "evalue": "name 'data' is not defined",
     "output_type": "error",
     "traceback": [
      "\u001b[0;31m---------------------------------------------------------------------------\u001b[0m",
      "\u001b[0;31mNameError\u001b[0m                                 Traceback (most recent call last)",
      "Cell \u001b[0;32mIn[2], line 5\u001b[0m\n\u001b[1;32m      2\u001b[0m train_list \u001b[38;5;241m=\u001b[39m [\u001b[38;5;241m9000\u001b[39m]    \n\u001b[1;32m      3\u001b[0m test_list \u001b[38;5;241m=\u001b[39m [\u001b[38;5;241m7000\u001b[39m]\n\u001b[0;32m----> 5\u001b[0m data_ns \u001b[38;5;241m=\u001b[39m \u001b[43mdata\u001b[49m\u001b[38;5;241m.\u001b[39mDataNS(Re_list)\n\u001b[1;32m      6\u001b[0m seq_input \u001b[38;5;241m=\u001b[39m data_ns\u001b[38;5;241m.\u001b[39mimport_data(folder_path\u001b[38;5;241m=\u001b[39m\u001b[38;5;124m'\u001b[39m\u001b[38;5;124m./data/ns/\u001b[39m\u001b[38;5;124m'\u001b[39m)\n\u001b[1;32m      7\u001b[0m seq_norm \u001b[38;5;241m=\u001b[39m data_ns\u001b[38;5;241m.\u001b[39mdata_normalization(input_data\u001b[38;5;241m=\u001b[39mseq_input, no_of_channel\u001b[38;5;241m=\u001b[39m\u001b[38;5;241m3\u001b[39m)\n",
      "\u001b[0;31mNameError\u001b[0m: name 'data' is not defined"
     ]
    }
   ],
   "source": [
    "Re_list = [7000,9000]    # all present data\n",
    "train_list = [9000]    \n",
    "test_list = [7000]\n",
    "\n",
    "data_ns = data.DataNS(Re_list)\n",
    "seq_input = data_ns.import_data(folder_path='./data/ns/')\n",
    "seq_norm = data_ns.data_normalization(input_data=seq_input, no_of_channel=3)\n",
    "\n",
    "train_seq, test_seq = data_ns.train_test_split(Re_list=Re_list, Re_test=test_list, Re_train=train_list,input_data=seq_norm[0])\n",
    "train_data = data_ns.clip_data(input_seq=train_seq,no_of_fields=3,sequence_length=13)"
   ]
  },
  {
   "cell_type": "markdown",
   "id": "90c0ac38-6528-45b1-b3dc-7709c9c6cc15",
   "metadata": {
    "tags": []
   },
   "source": [
    "# Training"
   ]
  },
  {
   "cell_type": "markdown",
   "id": "6b7420d0-6f6d-4165-9230-177fde77a191",
   "metadata": {},
   "source": [
    "### Stage 1: Differentiator training"
   ]
  },
  {
   "cell_type": "code",
   "execution_count": null,
   "id": "dc90dbc5-ada9-426a-b888-075e352af455",
   "metadata": {
    "tags": []
   },
   "outputs": [],
   "source": [
    "# Create tf.dataset\n",
    "dataset_input = tf.data.Dataset.from_tensor_slices(train_data[:,:,:,:3])\n",
    "dataset_label = tf.data.Dataset.from_tensor_slices(train_data[:,:,:,3:])\n",
    "dataset = tf.data.Dataset.zip((dataset_input, dataset_label))\n",
    "dataset = dataset.shuffle(buffer_size = 798) \n",
    "dataset = dataset.batch(1)\n"
   ]
  },
  {
   "cell_type": "markdown",
   "id": "3388c749-a4f5-4b4f-ac86-1ac7117a4e3f",
   "metadata": {},
   "source": [
    "### Stage 2: Integrator training (Can skip)"
   ]
  },
  {
   "cell_type": "code",
   "execution_count": null,
   "id": "fa3237c1-d236-4989-91c4-9c079e8a6d33",
   "metadata": {
    "tags": []
   },
   "outputs": [],
   "source": [
    "tf.keras.backend.clear_session()\n",
    "parc = model.PARCv2_ns(n_time_step = 12, step_size= 1/38, solver = \"heun\", mode = \"differentiator_training\")\n",
    "# parc.differentiator.load_weights('parc2_diff_ns_heun_10_2.h5')\n",
    "# parc.poisson.load_weights('parc2_poisson_ns_heun_10_2.h5')\n",
    "parc.compile(optimizer = tf.keras.optimizers.Adam(learning_rate = 0.000001, beta_1 = 0.5, beta_2 = 0.999))\n",
    "parc.fit(dataset, epochs = 1, shuffle = True)"
   ]
  },
  {
   "cell_type": "code",
   "execution_count": null,
   "id": "c107a5ab-7479-4bf5-97cd-1a500e82f810",
   "metadata": {},
   "outputs": [],
   "source": [
    "parc.differentiator.save_weights('parc2_diff_ns_heun_12.h5')"
   ]
  },
  {
   "cell_type": "code",
   "execution_count": null,
   "id": "664066e9-35a1-4bd4-b648-f3f81524f1bf",
   "metadata": {},
   "outputs": [],
   "source": [
    "parc.poisson.save_weights('parc2_poisson_ns_heun_12.h5')"
   ]
  },
  {
   "cell_type": "code",
   "execution_count": null,
   "id": "6ad55828-403a-4337-8933-b7aa93f9129c",
   "metadata": {},
   "outputs": [],
   "source": [
    "tf.keras.backend.clear_session()\n",
    "parc = model.PARCv2_ns(n_time_step = 12, step_size= 1/38, solver = \"heun\", mode = \"integrator_training\")\n",
    "parc.differentiator.load_weights('parc2_diff_ns_heun_12.h5')\n",
    "parc.poisson.load_weights('parc2_poisson_ns_heun_12.h5')\n",
    "parc.compile(optimizer = tf.keras.optimizers.Adam(learning_rate = 0.000001, beta_1 = 0.5, beta_2 = 0.999))\n",
    "parc.fit(dataset, epochs = 1, shuffle = True)"
   ]
  },
  {
   "cell_type": "code",
   "execution_count": null,
   "id": "436f8dcd-671d-46ed-91bb-f8fea0825013",
   "metadata": {},
   "outputs": [],
   "source": [
    "parc.integrator.save_weights('parc2_int_ns_heun_12.h5')"
   ]
  }
 ],
 "metadata": {
  "kernelspec": {
   "display_name": "parcv2-gpu",
   "language": "python",
   "name": "parcv2"
  },
  "language_info": {
   "codemirror_mode": {
    "name": "ipython",
    "version": 3
   },
   "file_extension": ".py",
   "mimetype": "text/x-python",
   "name": "python",
   "nbconvert_exporter": "python",
   "pygments_lexer": "ipython3",
   "version": "3.10.14"
  }
 },
 "nbformat": 4,
 "nbformat_minor": 5
}
