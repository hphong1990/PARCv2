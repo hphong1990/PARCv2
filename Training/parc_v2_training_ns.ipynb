{
 "cells": [
  {
   "cell_type": "code",
   "execution_count": 1,
   "id": "757e104f-46a5-49fe-8497-a8f798bb6725",
   "metadata": {
    "tags": []
   },
   "outputs": [
    {
     "name": "stderr",
     "output_type": "stream",
     "text": [
      "2024-05-27 12:00:01.411430: I tensorflow/core/platform/cpu_feature_guard.cc:193] This TensorFlow binary is optimized with oneAPI Deep Neural Network Library (oneDNN) to use the following CPU instructions in performance-critical operations:  AVX2 AVX512F AVX512_VNNI AVX512_BF16 FMA\n",
      "To enable them in other operations, rebuild TensorFlow with the appropriate compiler flags.\n",
      "2024-05-27 12:00:02.055730: W tensorflow/compiler/xla/stream_executor/platform/default/dso_loader.cc:64] Could not load dynamic library 'libnvinfer.so.7'; dlerror: libnvinfer.so.7: cannot open shared object file: No such file or directory; LD_LIBRARY_PATH: /usr/local/cuda/:/usr/local/cuda/include/:/usr/local/cuda/lib/:/usr/local/cuda/lib64/:/usr/lib/x86_64-linux-gnu/:/opt/apps/TensorRT-8.6.1.6/lib/:/opt/apps/TensorRT-8.6.1.6/include/:/usr/include/x86_64-linux-gnu/:/usr/include/\n",
      "2024-05-27 12:00:02.056674: W tensorflow/compiler/xla/stream_executor/platform/default/dso_loader.cc:64] Could not load dynamic library 'libnvinfer_plugin.so.7'; dlerror: libnvinfer_plugin.so.7: cannot open shared object file: No such file or directory; LD_LIBRARY_PATH: /usr/local/cuda/:/usr/local/cuda/include/:/usr/local/cuda/lib/:/usr/local/cuda/lib64/:/usr/lib/x86_64-linux-gnu/:/opt/apps/TensorRT-8.6.1.6/lib/:/opt/apps/TensorRT-8.6.1.6/include/:/usr/include/x86_64-linux-gnu/:/usr/include/\n",
      "2024-05-27 12:00:02.056679: W tensorflow/compiler/tf2tensorrt/utils/py_utils.cc:38] TF-TRT Warning: Cannot dlopen some TensorRT libraries. If you would like to use Nvidia GPU with TensorRT, please make sure the missing libraries mentioned above are installed properly.\n"
     ]
    },
    {
     "name": "stdout",
     "output_type": "stream",
     "text": [
      "/home/lweger/PARCv2\n",
      "Mon May 27 12:00:03 2024       \n",
      "+-----------------------------------------------------------------------------------------+\n",
      "| NVIDIA-SMI 550.54.15              Driver Version: 550.54.15      CUDA Version: 12.4     |\n",
      "|-----------------------------------------+------------------------+----------------------+\n",
      "| GPU  Name                 Persistence-M | Bus-Id          Disp.A | Volatile Uncorr. ECC |\n",
      "| Fan  Temp   Perf          Pwr:Usage/Cap |           Memory-Usage | GPU-Util  Compute M. |\n",
      "|                                         |                        |               MIG M. |\n",
      "|=========================================+========================+======================|\n",
      "|   0  NVIDIA A30                     On  |   00000000:21:00.0 Off |                    0 |\n",
      "| N/A   32C    P0             32W /  165W |     235MiB /  24576MiB |      2%      Default |\n",
      "|                                         |                        |             Disabled |\n",
      "+-----------------------------------------+------------------------+----------------------+\n",
      "                                                                                         \n",
      "+-----------------------------------------------------------------------------------------+\n",
      "| Processes:                                                                              |\n",
      "|  GPU   GI   CI        PID   Type   Process name                              GPU Memory |\n",
      "|        ID   ID                                                               Usage      |\n",
      "|=========================================================================================|\n",
      "+-----------------------------------------------------------------------------------------+\n"
     ]
    },
    {
     "name": "stderr",
     "output_type": "stream",
     "text": [
      "2024-05-27 12:00:02.780242: I tensorflow/core/platform/cpu_feature_guard.cc:193] This TensorFlow binary is optimized with oneAPI Deep Neural Network Library (oneDNN) to use the following CPU instructions in performance-critical operations:  AVX2 AVX512F AVX512_VNNI AVX512_BF16 FMA\n",
      "To enable them in other operations, rebuild TensorFlow with the appropriate compiler flags.\n",
      "2024-05-27 12:00:02.947781: I tensorflow/core/common_runtime/gpu/gpu_device.cc:1613] Created device /job:localhost/replica:0/task:0/device:GPU:0 with 22280 MB memory:  -> device: 0, name: NVIDIA A30, pci bus id: 0000:21:00.0, compute capability: 8.0\n"
     ]
    }
   ],
   "source": [
    "import numpy as np\n",
    "import matplotlib.pyplot as plt\n",
    "import tensorflow as tf\n",
    "gpus = tf.config.experimental.list_physical_devices('GPU')\n",
    "for gpu in gpus:\n",
    "    tf.config.experimental.set_memory_growth(gpu, True)\n",
    "import os\n",
    "os.chdir(\"../\")\n",
    "print(os.getcwd())\n",
    "from parc.data import data_navier_stokes as data\n",
    "from parc.model import model_ns as model\n",
    "!nvidia-smi "
   ]
  },
  {
   "cell_type": "markdown",
   "id": "d7ae4c6f-c84a-454d-b04c-3d67f5582f62",
   "metadata": {},
   "source": [
    "# Data pipeline"
   ]
  },
  {
   "cell_type": "code",
   "execution_count": 2,
   "id": "195f763c-3818-473e-88ef-fef5caa7f701",
   "metadata": {
    "tags": []
   },
   "outputs": [],
   "source": [
    "Re_list = [7000,9000]    # all present data\n",
    "train_list = [9000]    \n",
    "test_list = [7000]\n",
    "\n",
    "data_ns = data.DataNS(Re_list)\n",
    "seq_input = data_ns.import_data(folder_path='./data/ns/')\n",
    "seq_norm = data_ns.data_normalization(input_data=seq_input, no_of_channel=3)\n",
    "\n",
    "train_seq, test_seq = data_ns.train_test_split(Re_list=Re_list, Re_test=test_list, Re_train=train_list,input_data=seq_norm[0])\n",
    "train_data = data_ns.clip_data(input_seq=train_seq,no_of_fields=3,sequence_length=13)"
   ]
  },
  {
   "cell_type": "markdown",
   "id": "90c0ac38-6528-45b1-b3dc-7709c9c6cc15",
   "metadata": {
    "tags": []
   },
   "source": [
    "# Training"
   ]
  },
  {
   "cell_type": "markdown",
   "id": "6b7420d0-6f6d-4165-9230-177fde77a191",
   "metadata": {},
   "source": [
    "### Stage 1: Differentiator training"
   ]
  },
  {
   "cell_type": "code",
   "execution_count": 3,
   "id": "dc90dbc5-ada9-426a-b888-075e352af455",
   "metadata": {
    "tags": []
   },
   "outputs": [],
   "source": [
    "# Create tf.dataset\n",
    "dataset_input = tf.data.Dataset.from_tensor_slices(train_data[:,:,:,:3])\n",
    "dataset_label = tf.data.Dataset.from_tensor_slices(train_data[:,:,:,3:])\n",
    "dataset = tf.data.Dataset.zip((dataset_input, dataset_label))\n",
    "dataset = dataset.shuffle(buffer_size = 798) \n",
    "dataset = dataset.batch(1)\n"
   ]
  },
  {
   "cell_type": "markdown",
   "id": "3388c749-a4f5-4b4f-ac86-1ac7117a4e3f",
   "metadata": {},
   "source": [
    "### Stage 2: Integrator training (Can skip)"
   ]
  },
  {
   "cell_type": "code",
   "execution_count": 4,
   "id": "fa3237c1-d236-4989-91c4-9c079e8a6d33",
   "metadata": {
    "tags": []
   },
   "outputs": [
    {
     "name": "stderr",
     "output_type": "stream",
     "text": [
      "2024-05-27 12:00:49.565820: I tensorflow/compiler/xla/stream_executor/cuda/cuda_dnn.cc:428] Loaded cuDNN version 8700\n",
      "2024-05-27 12:00:51.689401: I tensorflow/compiler/xla/service/service.cc:173] XLA service 0x7ef5c4d87a80 initialized for platform CUDA (this does not guarantee that XLA will be used). Devices:\n",
      "2024-05-27 12:00:51.689422: I tensorflow/compiler/xla/service/service.cc:181]   StreamExecutor device (0): NVIDIA A30, Compute Capability 8.0\n",
      "2024-05-27 12:00:51.693768: I tensorflow/compiler/mlir/tensorflow/utils/dump_mlir_util.cc:268] disabling MLIR crash reproducer, set env var `MLIR_CRASH_REPRODUCER_DIRECTORY` to enable.\n",
      "2024-05-27 12:00:51.786345: I tensorflow/compiler/jit/xla_compilation_cache.cc:477] Compiled cluster using XLA!  This line is logged at most once for the lifetime of the process.\n"
     ]
    },
    {
     "name": "stdout",
     "output_type": "stream",
     "text": [
      "26/26 [==============================] - 66s 514ms/step - total_loss: 9354.8867\n"
     ]
    },
    {
     "data": {
      "text/plain": [
       "<keras.callbacks.History at 0x7f04b1764e80>"
      ]
     },
     "execution_count": 4,
     "metadata": {},
     "output_type": "execute_result"
    }
   ],
   "source": [
    "tf.keras.backend.clear_session()\n",
    "parc = model.PARCv2_ns(n_time_step = 12, step_size= 1/38, solver = \"heun\", mode = \"differentiator_training\")\n",
    "# parc.differentiator.load_weights('parc2_diff_ns_heun_10_2.h5')\n",
    "# parc.poisson.load_weights('parc2_poisson_ns_heun_10_2.h5')\n",
    "parc.compile(optimizer = tf.keras.optimizers.Adam(learning_rate = 0.000001, beta_1 = 0.5, beta_2 = 0.999))\n",
    "parc.fit(dataset, epochs = 1, shuffle = True)"
   ]
  },
  {
   "cell_type": "code",
   "execution_count": 5,
   "id": "c107a5ab-7479-4bf5-97cd-1a500e82f810",
   "metadata": {},
   "outputs": [],
   "source": [
    "parc.differentiator.save_weights('parc2_diff_TEST_ns_heun_12.h5')"
   ]
  },
  {
   "cell_type": "code",
   "execution_count": 6,
   "id": "664066e9-35a1-4bd4-b648-f3f81524f1bf",
   "metadata": {},
   "outputs": [],
   "source": [
    "parc.poisson.save_weights('parc2_poisson_TEST_ns_heun_12.h5')"
   ]
  },
  {
   "cell_type": "code",
   "execution_count": 7,
   "id": "6ad55828-403a-4337-8933-b7aa93f9129c",
   "metadata": {},
   "outputs": [
    {
     "name": "stdout",
     "output_type": "stream",
     "text": [
      "26/26 [==============================] - 53s 395ms/step - total_loss: 7270.2393\n"
     ]
    },
    {
     "data": {
      "text/plain": [
       "<keras.callbacks.History at 0x7f048c4e2830>"
      ]
     },
     "execution_count": 7,
     "metadata": {},
     "output_type": "execute_result"
    }
   ],
   "source": [
    "tf.keras.backend.clear_session()\n",
    "parc = model.PARCv2_ns(n_time_step = 12, step_size= 1/38, solver = \"heun\", mode = \"integrator_training\")\n",
    "parc.differentiator.load_weights('parc2_diff_ns_heun_12.h5')\n",
    "parc.poisson.load_weights('parc2_poisson_ns_heun_12.h5')\n",
    "parc.compile(optimizer = tf.keras.optimizers.Adam(learning_rate = 0.000001, beta_1 = 0.5, beta_2 = 0.999))\n",
    "parc.fit(dataset, epochs = 1, shuffle = True)"
   ]
  },
  {
   "cell_type": "code",
   "execution_count": 8,
   "id": "436f8dcd-671d-46ed-91bb-f8fea0825013",
   "metadata": {},
   "outputs": [],
   "source": [
    "parc.integrator.save_weights('parc2_int_TEST_ns_heun_12.h5')"
   ]
  }
 ],
 "metadata": {
  "kernelspec": {
   "display_name": "parcv2-gpu",
   "language": "python",
   "name": "parcv2"
  },
  "language_info": {
   "codemirror_mode": {
    "name": "ipython",
    "version": 3
   },
   "file_extension": ".py",
   "mimetype": "text/x-python",
   "name": "python",
   "nbconvert_exporter": "python",
   "pygments_lexer": "ipython3",
   "version": "3.10.14"
  }
 },
 "nbformat": 4,
 "nbformat_minor": 5
}
