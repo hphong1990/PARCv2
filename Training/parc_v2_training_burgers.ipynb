{
 "cells": [
  {
   "cell_type": "code",
   "execution_count": null,
   "id": "db5f43f6-9cb9-4683-a557-4bd0b535f751",
   "metadata": {},
   "outputs": [],
   "source": [
    "import numpy as np\n",
    "import matplotlib.pyplot as plt\n",
    "import tensorflow as tf\n",
    "import os\n",
    "os.chdir(\"../\")\n",
    "from parc.model import model_burgers as model\n",
    "import parc.data.data_burgers as data\n",
    "!nvidia-smi\n"
   ]
  },
  {
   "cell_type": "markdown",
   "id": "d7ff4c57-1bdb-43ec-bf61-5e272899ad6e",
   "metadata": {},
   "source": [
    "# Load data"
   ]
  },
  {
   "cell_type": "code",
   "execution_count": null,
   "id": "4ae04f2d-8ce1-47bc-a04d-9d2d20093d02",
   "metadata": {},
   "outputs": [],
   "source": [
    "burgers_data = data.DataBurgers()\n",
    "R_list = [7500]\n",
    "a_list = [0.9]\n",
    "w_list = [0.8]\n",
    "clipped_data = burgers_data.clip_raw_data(R_list,a_list,w_list, purpose = 'training')"
   ]
  },
  {
   "cell_type": "markdown",
   "id": "0159a070-0795-4c9f-a174-c59af9539f70",
   "metadata": {},
   "source": [
    "# Training"
   ]
  },
  {
   "cell_type": "code",
   "execution_count": null,
   "id": "d7d03437-d66b-46e3-8db7-105c54c20d93",
   "metadata": {},
   "outputs": [],
   "source": [
    "# Create tf.dataset\n",
    "dataset_input = tf.data.Dataset.from_tensor_slices(clipped_data[:,:,:,:3])\n",
    "dataset_label = tf.data.Dataset.from_tensor_slices(clipped_data[:,:,:,3:])\n",
    "dataset = tf.data.Dataset.zip((dataset_input, dataset_label))\n",
    "dataset = dataset.shuffle(buffer_size = 10000) \n",
    "dataset = dataset.batch(1)"
   ]
  },
  {
   "cell_type": "markdown",
   "id": "3f4e0321-3c3c-4f34-83d2-eac2ea7d3233",
   "metadata": {},
   "source": [
    "## Stage 1: Differentiator training"
   ]
  },
  {
   "cell_type": "code",
   "execution_count": null,
   "id": "d8cab103-1ec6-4342-8a23-85192d79e00d",
   "metadata": {},
   "outputs": [],
   "source": [
    "tf.keras.backend.clear_session()\n",
    "parc = model.PARCv2_burgers(n_time_step = 1, step_size= 1/100, solver = \"heun\", mode = \"differentiator_training\")\n",
    "#parc.differentiator.load_weights('./Pretrained_Weights/burgers/parc2_diff_burgers_heun.h5')\n",
    "parc.compile(optimizer = tf.keras.optimizers.Adam(learning_rate = 0.00005, beta_1 = 0.9, beta_2 = 0.999))\n",
    "parc.fit(dataset, epochs = 1, shuffle = True)"
   ]
  },
  {
   "cell_type": "code",
   "execution_count": null,
   "id": "2b01bc94-cd3f-40fe-8e5e-30e6d9380fb5",
   "metadata": {},
   "outputs": [],
   "source": [
    "parc.differentiator.save_weights('./Pretrained_Weights/burgers/parc2_TEST_diff_burgers_heun.h5')"
   ]
  },
  {
   "cell_type": "markdown",
   "id": "bdd51b36-0a54-4dcb-88db-b18f95d29a18",
   "metadata": {},
   "source": [
    "## Stage 2: Integrator training"
   ]
  },
  {
   "cell_type": "code",
   "execution_count": null,
   "id": "06106f21-eebf-4bb0-ab24-f2f246c4d701",
   "metadata": {},
   "outputs": [],
   "source": [
    "# Pretrain integrator\n",
    "tf.keras.backend.clear_session()\n",
    "parc = model.PARCv2_burgers(n_time_step = 1, step_size= 1/100, solver = \"heun\", mode = \"integrator_training\")\n",
    "parc.differentiator.load_weights('./Pretrained_Weights/burgers/parc2_diff_burgers_heun.h5')\n",
    "parc.compile(optimizer = tf.keras.optimizers.Adam(learning_rate = 0.00001, beta_1 = 0.9, beta_2 = 0.999))\n",
    "parc.fit(dataset, epochs = 1, shuffle = True)"
   ]
  },
  {
   "cell_type": "code",
   "execution_count": null,
   "id": "eca8f7cd-bfc5-4cf1-bf25-fa808e75c98d",
   "metadata": {
    "tags": []
   },
   "outputs": [],
   "source": [
    "parc.integrator.save_weights('./Pretrained_Weights/burgers/parc2_TEST_int_burgers_heun.h5')"
   ]
  }
 ],
 "metadata": {
  "kernelspec": {
   "display_name": "parcv2-gpu",
   "language": "python",
   "name": "parcv2"
  },
  "language_info": {
   "codemirror_mode": {
    "name": "ipython",
    "version": 3
   },
   "file_extension": ".py",
   "mimetype": "text/x-python",
   "name": "python",
   "nbconvert_exporter": "python",
   "pygments_lexer": "ipython3",
   "version": "3.10.14"
  }
 },
 "nbformat": 4,
 "nbformat_minor": 5
}
