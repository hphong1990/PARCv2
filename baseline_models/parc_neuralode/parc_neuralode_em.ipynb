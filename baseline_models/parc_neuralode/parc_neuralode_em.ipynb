{
 "cells": [
  {
   "cell_type": "code",
   "execution_count": 2,
   "metadata": {},
   "outputs": [],
   "source": [
    "import numpy as np\n",
    "import matplotlib.pyplot as plt\n",
    "import tensorflow as tf\n",
    "import os\n",
    "os.chdir(\"../..\")\n",
    "from parc.data.data import EnergeticMatDataPipeLine as EmData\n",
    "from parc import misc, metrics, visualization\n",
    "from parc.model import model\n"
   ]
  },
  {
   "cell_type": "markdown",
   "metadata": {},
   "source": [
    "# Data pipeline"
   ]
  },
  {
   "cell_type": "code",
   "execution_count": null,
   "metadata": {
    "scrolled": true
   },
   "outputs": [],
   "source": [
    "# Get data and normalization\n",
    "state_seq_whole, vel_seq_whole = EmData.clip_raw_data(idx_range = (0,150),sequence_length = 2)\n",
    "state_seq_norm = EmData.data_normalization(state_seq_whole,3)\n",
    "vel_seq_norm = EmData.data_normalization(vel_seq_whole,2)\n"
   ]
  },
  {
   "cell_type": "markdown",
   "metadata": {},
   "source": [
    "# Model definition"
   ]
  },
  {
   "cell_type": "code",
   "execution_count": 8,
   "metadata": {
    "tags": []
   },
   "outputs": [],
   "source": [
    "from tensorflow import keras\n",
    "from tensorflow.keras import  layers, regularizers\n",
    "from keras.layers import *\n",
    "import tensorflow as tf\n",
    "from parc import layer\n",
    "\n",
    "from tensorflow.keras.layers import Concatenate, Input\n",
    "from tensorflow.keras.models import Model\n",
    "\n",
    "\"\"\"\n",
    "Differentiator for EM problems: \n",
    "    - state vars including temperature, pressure, microstructure evolution\n",
    "    - there is no constant field using\n",
    "\"\"\"\n",
    "\n",
    "def differentiator_em(n_state_var=3):\n",
    "    # Model initiation\n",
    "    feature_extraction = layer.feature_extraction_unet(input_shape = (128, 256), n_channel=n_state_var+2)\n",
    "    \n",
    "    # Main computation graph\n",
    "    input_tensor = Input(shape=(128 , 256, n_state_var+2), dtype = tf.float32)\n",
    "\n",
    "    # Reaction term\n",
    "    dynamic_feature = feature_extraction(input_tensor)\n",
    "\n",
    "    x_vel_dot = Conv2D(n_state_var+2,1,padding = 'same')(dynamic_feature)\n",
    "    \n",
    "    differentiator = Model(input_tensor, x_vel_dot)\n",
    "    return differentiator\n",
    "\n",
    "# def integrator(n_state_var = 3):\n",
    "#     state_integrators = []\n",
    "#     for _ in range(n_state_var):\n",
    "#         state_integrators.append(layer.integrator_cnn(input_shape = (128,192)))\n",
    "\n",
    "#     velocity_integrator = layer.integrator_cnn(input_shape = (128,192), n_output=2)\n",
    "\n",
    "#     state_var_prev = keras.layers.Input(shape = (128, 192, n_state_var), dtype = tf.float32)\n",
    "#     velocity_prev = keras.layers.Input(shape = (128, 192,2), dtype = tf.float32)\n",
    "    \n",
    "#     state_var_dot = keras.layers.Input(shape = (128, 192,n_state_var), dtype = tf.float32)\n",
    "#     velocity_dot = keras.layers.Input(shape = (128, 192,2), dtype = tf.float32)\n",
    "\n",
    "#     state_var_next = []\n",
    "        \n",
    "#     for i in range(n_state_var): \n",
    "#         state_var_next.append(state_integrators[i]([state_var_dot[:,:,:,i:i+1], state_var_prev[:,:,:,i:i+1]]))\n",
    "\n",
    "#     state_var_next = keras.layers.concatenate(state_var_next, axis=-1)\n",
    "#     velocity_next = velocity_integrator([velocity_dot, velocity_prev])\n",
    "#     integrator = keras.Model([state_var_dot, velocity_dot, state_var_prev, velocity_prev], [state_var_next, velocity_next])\n",
    "#     return integrator\n",
    "\n",
    "class PARC_EM(keras.Model):\n",
    "    def __init__(self, n_state_var, n_time_step, step_size, solver = \"rk4\", **kwargs):\n",
    "        super(PARC_EM, self).__init__(**kwargs)\n",
    "        self.n_state_var = n_state_var\n",
    "        self.n_time_step = n_time_step\n",
    "        self.step_size = step_size\n",
    "        self.solver = solver\n",
    "        self.differentiator = differentiator_em(n_state_var=self.n_state_var)\n",
    "        self.total_loss_tracker = keras.metrics.Mean(name=\"total_loss\")\n",
    "\n",
    "    @property\n",
    "    def metrics(self):\n",
    "        return [\n",
    "        self.total_loss_tracker,\n",
    "        ]\n",
    "    \n",
    "    def call(self, input):\n",
    "        state_var_init = tf.cast(input[0],dtype = tf.float32)\n",
    "        velocity_init = tf.cast(input[1], dtype = tf.float32)\n",
    "        input_seq = Concatenate(axis = -1)([state_var_init, velocity_init])\n",
    "        input_seq_current = input_seq\n",
    "\n",
    "        res = []\n",
    "        for _ in range(self.n_time_step):    \n",
    "            input_seq_current = self.explicit_update(input_seq_current)                        \n",
    "            res.append(input_seq_current)\n",
    "        output = Concatenate(axis = -1)(res)\n",
    "        return output\n",
    "\n",
    "    @tf.function\n",
    "    def train_step(self, data):\n",
    "        state_var_init = tf.cast(data[0][0],dtype = tf.float32)\n",
    "        velocity_init = tf.cast(data[0][1], dtype = tf.float32)\n",
    "        input_seq = Concatenate(axis = -1)([state_var_init, velocity_init])\n",
    "\n",
    "        state_var_gt = tf.cast(data[1][0], dtype = tf.float32)\n",
    "        velocity_gt = tf.cast(data[1][1], dtype = tf.float32)\n",
    "\n",
    "        input_seq_current = input_seq\n",
    "        with tf.GradientTape() as tape:\n",
    "            state_whole = []\n",
    "            vel_whole = []\n",
    "            for _ in range(self.n_time_step):\n",
    "                input_seq_current, update = self.explicit_update(input_seq_current)\n",
    "                state_whole.append(input_seq_current[:,:,:,:3])\n",
    "                vel_whole.append(input_seq_current[:,:,:,3:])\n",
    "            state_pred = Concatenate(axis = -1)(state_whole)\n",
    "            vel_pred = Concatenate(axis = -1)(vel_whole)\n",
    "                    \n",
    "            total_loss  = (tf.keras.losses.MeanAbsoluteError(reduction = 'sum')(state_pred,state_var_gt) + \n",
    "                            tf.keras.losses.MeanAbsoluteError(reduction = 'sum')(vel_pred,velocity_gt))/2\n",
    "            \n",
    "        grads = tape.gradient(total_loss, self.trainable_weights)\n",
    "        self.optimizer.apply_gradients(zip(grads, self.trainable_weights))\n",
    "\n",
    "        self.total_loss_tracker.update_state(total_loss)\n",
    "\n",
    "        return {\n",
    "            \"total_loss\": self.total_loss_tracker.result(),\n",
    "        }\n",
    "    \n",
    "    # Update scheme\n",
    "    def explicit_update(self, input_seq_current):\n",
    "        if self.solver == \"rk4\":\n",
    "            input_seq_current = self.rk4_update(input_seq_current)\n",
    "        elif self.solver == 'heun':\n",
    "            input_seq_current = self.heun_update(input_seq_current)\n",
    "        else:\n",
    "            input_seq_current = self.euler_update(input_seq_current)\n",
    "\n",
    "        return input_seq_current\n",
    "\n",
    "    def rk4_update(self, input_seq_current):\n",
    "        input_seq_current = tf.clip_by_value(input_seq_current, 0, 1)\n",
    "\n",
    "        # Compute k1\n",
    "        k1 = self.differentiator(input_seq_current)\n",
    "\n",
    "        # Compute k2\n",
    "        inp_k2 = input_seq_current + self.step_size*1/2*k1 \n",
    "        k2 = self.differentiator(inp_k2)\n",
    "\n",
    "        # Compute k3\n",
    "        inp_k3 = input_seq_current + self.step_size*1/2*k2\n",
    "        k3 = self.differentiator(inp_k3)\n",
    "\n",
    "        # Compute k4\n",
    "        inp_k4 = input_seq_current + self.step_size*k3\n",
    "        k4 = self.differentiator(inp_k4)\n",
    "\n",
    "        # Final\n",
    "        update = 1/6*(k1 + 2*k2 + 2*k3 + k4)\n",
    "        input_seq_current = input_seq_current + self.step_size*update \n",
    "        return input_seq_current, update\n",
    "    \n",
    "    # Euler update function\n",
    "    def heun_update(self, input_seq_current):\n",
    "        input_seq_current = tf.clip_by_value(input_seq_current, 0, 1)\n",
    "        # Compute update\n",
    "        k1 = self.differentiator(input_seq_current)\n",
    "\n",
    "        # Compute k2\n",
    "        inp_k2 = input_seq_current + self.step_size*k1 \n",
    "        k2 = self.differentiator(inp_k2)\n",
    "        \n",
    "        update = 1/2*(k1 + k2)\n",
    "        input_seq_current = input_seq_current + self.step_size*update \n",
    "\n",
    "        return input_seq_current, update\n",
    "    \n",
    "    # Euler update function\n",
    "    def euler_update(self, input_seq_current):\n",
    "        input_seq_current = tf.clip_by_value(input_seq_current, 0, 1)\n",
    "        # Compute update\n",
    "        update = self.differentiator(input_seq_current)\n",
    "        input_seq_current = input_seq_current + self.step_size*update \n",
    "\n",
    "        return input_seq_current, update"
   ]
  },
  {
   "cell_type": "markdown",
   "metadata": {},
   "source": [
    "# Training\n"
   ]
  },
  {
   "cell_type": "markdown",
   "metadata": {},
   "source": [
    "### Stage 1: Differentiator training"
   ]
  },
  {
   "cell_type": "code",
   "execution_count": null,
   "metadata": {},
   "outputs": [],
   "source": [
    "# Create tf.dataset\n",
    "dataset_input = tf.data.Dataset.from_tensor_slices((state_seq_norm[0][:,:,:,:3],vel_seq_norm[0][:,:,:,:2]))\n",
    "dataset_label = tf.data.Dataset.from_tensor_slices((state_seq_norm[0][:,:,:,3:],vel_seq_norm[0][:,:,:,2:]))\n",
    "dataset = tf.data.Dataset.zip((dataset_input, dataset_label))\n",
    "dataset = dataset.shuffle(buffer_size = 2192) \n",
    "dataset = dataset.batch(4)"
   ]
  },
  {
   "cell_type": "code",
   "execution_count": 9,
   "metadata": {
    "scrolled": true
   },
   "outputs": [
    {
     "name": "stderr",
     "output_type": "stream",
     "text": [
      "2024-01-07 23:17:55.183888: I tensorflow/core/common_runtime/gpu/gpu_device.cc:1636] Created device /job:localhost/replica:0/task:0/device:GPU:0 with 78791 MB memory:  -> device: 0, name: NVIDIA A100-SXM4-80GB, pci bus id: 0000:b7:00.0, compute capability: 8.0\n"
     ]
    }
   ],
   "source": [
    "tf.keras.backend.clear_session()\n",
    "parc = PARC_EM(n_state_var = 3, n_time_step = 5, step_size= 1/15, solver = \"rk4\")\n",
    "# parc.differentiator.load_weights('parc_diff.h5')\n",
    "parc.compile(optimizer = tf.keras.optimizers.Adam(learning_rate = 0.00001, beta_1 = 0.9, beta_2 = 0.999))\n",
    "parc.fit(dataset, epochs = 50, shuffle = True)"
   ]
  },
  {
   "cell_type": "code",
   "execution_count": 6,
   "metadata": {},
   "outputs": [],
   "source": [
    "parc.differentiator.save_weights('parc_diff.h5')"
   ]
  },
  {
   "cell_type": "code",
   "execution_count": null,
   "metadata": {
    "scrolled": true
   },
   "outputs": [],
   "source": [
    "# Define sequence length for training\n",
    "sequence_length = 3\n",
    "state_seq_whole, vel_seq_whole = EmData.clip_raw_data(idx_range = (0,150), sequence_length = sequence_length + 1, n_state_var = 3)\n",
    "state_seq_norm_whole = EmData.data_normalization_test(state_seq_whole,state_seq_norm[1], state_seq_norm[2],3)\n",
    "vel_seq_norm_whole = EmData.data_normalization_test(vel_seq_whole,vel_seq_norm[1], vel_seq_norm[2],2)"
   ]
  },
  {
   "cell_type": "code",
   "execution_count": 5,
   "metadata": {},
   "outputs": [],
   "source": [
    "import time\n",
    "import os\n",
    "import numpy as np\n",
    "import skimage\n",
    "from skimage.measure import block_reduce\n",
    "\n",
    "\n",
    "def clip_raw_data(idx_range, sequence_length=2, n_state_var=3, purpose = \"diff_training\"):\n",
    "    state_seq_whole = []\n",
    "    vel_seq_whole = []\n",
    "\n",
    "    for i in range(idx_range[0],idx_range[1]):\n",
    "        file_path = os.path.join(os.sep,'project','SDS','research', 'Nguyen_storage', 'data', 'single_void_data', f'void_{i}.npy')\n",
    "        if os.path.exists(file_path):\n",
    "            raw_data = np.float32(np.load(file_path))\n",
    "            data_shape = raw_data.shape\n",
    "            if data_shape[2] > sequence_length:\n",
    "                print(i)\n",
    "                npad = ((0, abs(data_shape[0] - 512)), (0, abs(data_shape[1] - 1024)), (0, 0))\n",
    "                raw_data = np.pad(raw_data, pad_width=npad, mode='edge')\n",
    "                raw_data = np.expand_dims(raw_data, axis=0)\n",
    "                raw_data = skimage.measure.block_reduce(raw_data[:,:,:,:], (1,4,4,1),np.max)\n",
    "\n",
    "                data_shape = raw_data.shape\n",
    "                num_time_steps = data_shape[-1] // (n_state_var + 2)\n",
    "                if purpose == \"diff_training\":\n",
    "                    j_range = num_time_steps - sequence_length\n",
    "                else:\n",
    "                    j_range = 1\n",
    "                state_seq_case = [np.concatenate([raw_data[:, :, :256, (j + k) * (n_state_var + 2):\\\n",
    "                                                        (j + k) * (n_state_var + 2) + n_state_var] \\\n",
    "                                                        for k in range(sequence_length)], axis=-1) \\\n",
    "                                                        for j in range  (j_range)] \n",
    "\n",
    "                vel_seq_case = [np.concatenate([raw_data[:, :, :256, (j + k) * (n_state_var + 2) +  n_state_var :\\\n",
    "                                                        (j + k) * (n_state_var + 2) + n_state_var + 2] \\\n",
    "                                                        for k in range(sequence_length)], axis=-1) \\\n",
    "                                                        for j in range (j_range)] \n",
    "\n",
    "\n",
    "                state_seq_whole.extend(state_seq_case)\n",
    "                vel_seq_whole.extend(vel_seq_case)\n",
    "\n",
    "    state_seq_whole = np.concatenate(state_seq_whole, axis=0)\n",
    "    vel_seq_whole = np.concatenate(vel_seq_whole, axis=0)\n",
    "\n",
    "    return state_seq_whole, vel_seq_whole\n",
    "\n",
    "# Normalization\n",
    "def data_normalization(input_data,no_of_channel):\n",
    "    norm_data = np.zeros(input_data.shape)\n",
    "    min_val = []\n",
    "    max_val = []\n",
    "    for i in range(no_of_channel):\n",
    "        norm_data[:,:,:,i::no_of_channel] = ((input_data[:,:,:,i::no_of_channel] - np.amin(input_data[:,:,:,i::no_of_channel])) / (np.amax(input_data[:,:,:,i::no_of_channel]) - np.amin(input_data[:,:,:,i::no_of_channel])) + 1E-9)\n",
    "        min_val.append(np.amin(input_data[:,:,:,i::no_of_channel]))\n",
    "        max_val.append(np.amax(input_data[:,:,:,i::no_of_channel]))\n",
    "    return norm_data, min_val, max_val\n",
    "\n",
    "def data_normalization_test(input_data, min_val, max_val, no_of_channel):\n",
    "    norm_data = np.zeros(input_data.shape)\n",
    "    for i in range(no_of_channel):\n",
    "        norm_data[:,:,:,i::no_of_channel] = ((input_data[:,:,:,i::no_of_channel] - min_val[i]) / (max_val[i] - min_val[i] + 1E-9))\n",
    "    return norm_data"
   ]
  },
  {
   "cell_type": "markdown",
   "metadata": {},
   "source": [
    "# Validation"
   ]
  },
  {
   "cell_type": "code",
   "execution_count": null,
   "metadata": {},
   "outputs": [],
   "source": [
    "state_seq_whole, vel_seq_whole = clip_raw_data(idx_range = (150,200), sequence_length = 15, n_state_var = 3, purpose = \"test\")\n",
    "state_seq_norm_test = data_normalization_test(state_seq_whole, state_seq_norm[1], state_seq_norm[2],3)\n",
    "vel_seq_norm_test = data_normalization_test(vel_seq_whole, vel_seq_norm[1], vel_seq_norm[2],2)"
   ]
  },
  {
   "cell_type": "code",
   "execution_count": 17,
   "metadata": {
    "tags": []
   },
   "outputs": [],
   "source": [
    "parc = PARC_EM(n_state_var = 3, n_time_step = 15, step_size= 1/15, solver = \"rk4\")\n",
    "parc.differentiator.load_weights('parc_diff_5.h5')"
   ]
  },
  {
   "cell_type": "code",
   "execution_count": null,
   "metadata": {
    "tags": []
   },
   "outputs": [],
   "source": [
    "# Make prediction\n",
    "pred_whole = []\n",
    "for case_idx in range(34):\n",
    "    state_var_current = state_seq_norm_test[case_idx:case_idx+1,:,:,0:3]\n",
    "    velocity_current = vel_seq_norm_test[case_idx:case_idx+1,:,:,0:2]\n",
    "    pred_state = parc.predict([state_var_current,velocity_current])\n",
    "    pred_whole.append(pred_state)\n",
    "pred = np.concatenate(pred_whole, axis = 0)\n"
   ]
  },
  {
   "cell_type": "code",
   "execution_count": 19,
   "metadata": {
    "tags": []
   },
   "outputs": [],
   "source": [
    "def data_denormalization(input_data, min_val, max_val, no_of_channel):\n",
    "    norm_data = np.zeros(input_data.shape)\n",
    "    for i in range(no_of_channel):\n",
    "        norm_data[:,:,:,i::no_of_channel] = (input_data[:,:,:,i::no_of_channel] * (max_val[i] - min_val[i] + 1E-9)) + min_val[i]\n",
    "    return norm_data"
   ]
  },
  {
   "cell_type": "code",
   "execution_count": 20,
   "metadata": {
    "tags": []
   },
   "outputs": [],
   "source": [
    "min_val_state = np.concatenate([state_seq_norm[1],vel_seq_norm[1]], axis = 0)\n",
    "max_val_state = np.concatenate([state_seq_norm[2],vel_seq_norm[2]], axis = 0)"
   ]
  },
  {
   "cell_type": "code",
   "execution_count": 15,
   "metadata": {
    "tags": []
   },
   "outputs": [],
   "source": [
    "pred_out = data_denormalization(pred,min_val_state,max_val_state, no_of_channel = 5)"
   ]
  },
  {
   "cell_type": "code",
   "execution_count": 21,
   "metadata": {
    "tags": []
   },
   "outputs": [],
   "source": [
    "np.save('./plotting/em/neuralode_em.npy',pred_out)"
   ]
  }
 ],
 "metadata": {
  "kernelspec": {
   "display_name": "Tensorflow 2.13.0",
   "language": "python",
   "name": "tensorflow-2.13.0"
  },
  "language_info": {
   "codemirror_mode": {
    "name": "ipython",
    "version": 3
   },
   "file_extension": ".py",
   "mimetype": "text/x-python",
   "name": "python",
   "nbconvert_exporter": "python",
   "pygments_lexer": "ipython3",
   "version": "3.10.12"
  }
 },
 "nbformat": 4,
 "nbformat_minor": 4
}
