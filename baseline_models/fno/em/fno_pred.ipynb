{
 "cells": [
  {
   "cell_type": "code",
   "execution_count": 1,
   "metadata": {},
   "outputs": [],
   "source": [
    "import torch\n",
    "import torch.nn as nn\n",
    "import numpy as np\n",
    "import matplotlib.pyplot as plt\n",
    "import time\n",
    "import os\n",
    "from RecursiveFNO import RecursiveFNO\n",
    "from glob import glob\n",
    "from torch.utils.data import TensorDataset, DataLoader\n",
    "from neuralop.models.base_model import get_model\n",
    "from configmypy import ConfigPipeline, YamlConfig, ArgparseConfig\n",
    "\n",
    "\n",
    "os.environ['CUDA_VISIBLE_DEVICES'] = '0'\n",
    "torch.manual_seed(66)\n",
    "np.random.seed(66)\n",
    "torch.set_default_dtype(torch.float32)\n",
    "BATCH_SIZE = 1\n",
    "SEQ_LEN = 15"
   ]
  },
  {
   "cell_type": "code",
   "execution_count": 2,
   "metadata": {},
   "outputs": [],
   "source": [
    "def load_checkpoint(model, optimizer, scheduler, save_dir):\n",
    "    '''load model and optimizer'''\n",
    "    checkpoint = torch.load(save_dir)\n",
    "    model.load_state_dict(checkpoint['model_state_dict'])\n",
    "    if (not optimizer is None):\n",
    "        optimizer.load_state_dict(checkpoint['optimizer_state_dict'])\n",
    "        scheduler.load_state_dict(checkpoint['scheduler_state_dict'])\n",
    "    print('Pretrained model loaded!')\n",
    "    return model, optimizer, scheduler"
   ]
  },
  {
   "cell_type": "code",
   "execution_count": 3,
   "metadata": {},
   "outputs": [
    {
     "name": "stdout",
     "output_type": "stream",
     "text": [
      "Pretrained model loaded!\n"
     ]
    }
   ],
   "source": [
    "config_name = \"default\"\n",
    "pipe = ConfigPipeline(\n",
    "    [\n",
    "        YamlConfig(\"em_pino_config.yaml\", config_name=\"default\", config_folder=\"config\"),\n",
    "    ]\n",
    ")\n",
    "config = pipe.read_conf()\n",
    "config_name = pipe.steps[-1].config_name\n",
    "model_fno = get_model(config).cuda()\n",
    "model = RecursiveFNO(model_fno, SEQ_LEN-1).cuda()\n",
    "model.eval()\n",
    "model, _, _ = load_checkpoint(model, None, None, \"./model/checkpoint1000.pt\")"
   ]
  },
  {
   "cell_type": "code",
   "execution_count": 4,
   "metadata": {},
   "outputs": [],
   "source": [
    "from EnergeticMatDataPipeLine import EnergeticMatDataPipeLine\n",
    "\n",
    "\n",
    "min_state = [300.0, -1184690200.0, 0.0]\n",
    "max_state = [5000.0, 79642935000.0, 1.0]\n",
    "min_vel = [-1704.224, -4531.192]\n",
    "max_vel = [9019.604, 6652.869]\n",
    "testing_state, testing_vel = EnergeticMatDataPipeLine.clip_raw_data((150, 200), sequence_length=SEQ_LEN, purpose=\"\")\n",
    "testing_state_norm = EnergeticMatDataPipeLine.data_normalization_test(testing_state, min_state, max_state, 3)\n",
    "testing_vel_norm = EnergeticMatDataPipeLine.data_normalization_test(testing_vel, min_vel, max_vel, 2)"
   ]
  },
  {
   "cell_type": "code",
   "execution_count": 5,
   "metadata": {
    "tags": []
   },
   "outputs": [],
   "source": [
    "b, x, y, _ = testing_state_norm.shape\n",
    "testing_state_vel_norm = np.empty((b, x, y, SEQ_LEN * 5))\n",
    "for i in range(SEQ_LEN):\n",
    "    testing_state_vel_norm[:, :, :, i*5:i*5+3] = testing_state_norm[:, :, :, i*3:(i+1)*3]\n",
    "    testing_state_vel_norm[:, :, :, i*5+3:i*5+5] = testing_vel_norm[:, :, :, i*2:(i+1)*2]\n",
    "testing_state_vel_norm = np.transpose(testing_state_vel_norm, (0, 3, 2, 1))"
   ]
  },
  {
   "cell_type": "code",
   "execution_count": 6,
   "metadata": {
    "tags": []
   },
   "outputs": [],
   "source": [
    "test_ic = torch.Tensor(testing_state_vel_norm[:, :5, :, :])\n",
    "test_seq = torch.Tensor(testing_state_vel_norm[:, 5:, :, :])\n",
    "test_dataset = TensorDataset(test_ic, test_seq)\n",
    "test_dataloader = DataLoader(test_dataset, batch_size=BATCH_SIZE, shuffle=False)"
   ]
  },
  {
   "cell_type": "code",
   "execution_count": 7,
   "metadata": {
    "tags": []
   },
   "outputs": [],
   "source": [
    "test_case = []\n",
    "for i in range(150, 200):\n",
    "    file_path = os.path.join(os.sep,'scratch','xc7ts','fno', 'em', 'single_void_data', f'void_{i}.npy')\n",
    "    if os.path.exists(file_path):\n",
    "        test_case.append(i)"
   ]
  },
  {
   "cell_type": "code",
   "execution_count": 8,
   "metadata": {
    "tags": []
   },
   "outputs": [
    {
     "data": {
      "text/plain": [
       "34"
      ]
     },
     "execution_count": 8,
     "metadata": {},
     "output_type": "execute_result"
    }
   ],
   "source": [
    "len(test_case)"
   ]
  },
  {
   "cell_type": "code",
   "execution_count": 9,
   "metadata": {},
   "outputs": [],
   "source": [
    "with torch.no_grad():\n",
    "    model.eval()\n",
    "    for batch_id, data in enumerate(test_dataloader):\n",
    "        ic, seq = data\n",
    "        ic, seq = ic.cuda(), seq.cuda()\n",
    "        output = model(ic)\n",
    "        output = output[0].transpose(0, 2).detach().cpu().numpy()\n",
    "        fname = \"pred_fno/void_%i.npy\" % (test_case[batch_id])\n",
    "        np.save(fname, output)"
   ]
  },
  {
   "cell_type": "code",
   "execution_count": 10,
   "metadata": {
    "tags": []
   },
   "outputs": [
    {
     "data": {
      "text/plain": [
       "(128, 256, 70)"
      ]
     },
     "execution_count": 10,
     "metadata": {},
     "output_type": "execute_result"
    }
   ],
   "source": [
    "output.shape"
   ]
  },
  {
   "cell_type": "code",
   "execution_count": null,
   "metadata": {},
   "outputs": [],
   "source": []
  }
 ],
 "metadata": {
  "kernelspec": {
   "display_name": "PyTorch 2.0.1",
   "language": "python",
   "name": "pytorch-2.0.1"
  },
  "language_info": {
   "codemirror_mode": {
    "name": "ipython",
    "version": 3
   },
   "file_extension": ".py",
   "mimetype": "text/x-python",
   "name": "python",
   "nbconvert_exporter": "python",
   "pygments_lexer": "ipython3",
   "version": "3.10.12"
  }
 },
 "nbformat": 4,
 "nbformat_minor": 4
}
