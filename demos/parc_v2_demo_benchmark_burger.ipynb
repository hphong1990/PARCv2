{
 "cells": [
  {
   "cell_type": "code",
   "execution_count": 1,
   "metadata": {},
   "outputs": [
    {
     "ename": "ImportError",
     "evalue": "cannot import name 'base_layer' from 'parc.base' (unknown location)",
     "output_type": "error",
     "traceback": [
      "\u001b[1;31m---------------------------------------------------------------------------\u001b[0m",
      "\u001b[1;31mImportError\u001b[0m                               Traceback (most recent call last)",
      "Cell \u001b[1;32mIn[1], line 6\u001b[0m\n\u001b[0;32m      4\u001b[0m \u001b[38;5;28;01mimport\u001b[39;00m \u001b[38;5;21;01mos\u001b[39;00m\n\u001b[0;32m      5\u001b[0m os\u001b[38;5;241m.\u001b[39mchdir(\u001b[38;5;124m\"\u001b[39m\u001b[38;5;124m.\u001b[39m\u001b[38;5;124m\"\u001b[39m)\n\u001b[1;32m----> 6\u001b[0m \u001b[38;5;28;01mfrom\u001b[39;00m \u001b[38;5;21;01mparc\u001b[39;00m\u001b[38;5;21;01m.\u001b[39;00m\u001b[38;5;21;01mmodels\u001b[39;00m \u001b[38;5;28;01mimport\u001b[39;00m model_burgers \u001b[38;5;28;01mas\u001b[39;00m model\n",
      "File \u001b[1;32mf:\\1. Research\\Code\\PARCv2\\parc\\models\\model_burgers.py:6\u001b[0m\n\u001b[0;32m      4\u001b[0m \u001b[38;5;28;01mimport\u001b[39;00m \u001b[38;5;21;01mtensorflow\u001b[39;00m \u001b[38;5;28;01mas\u001b[39;00m \u001b[38;5;21;01mtf\u001b[39;00m\n\u001b[0;32m      5\u001b[0m \u001b[38;5;28;01mfrom\u001b[39;00m \u001b[38;5;21;01mparc\u001b[39;00m \u001b[38;5;28;01mimport\u001b[39;00m layer\n\u001b[1;32m----> 6\u001b[0m \u001b[38;5;28;01mfrom\u001b[39;00m \u001b[38;5;21;01mparc\u001b[39;00m\u001b[38;5;21;01m.\u001b[39;00m\u001b[38;5;21;01mbase\u001b[39;00m \u001b[38;5;28;01mimport\u001b[39;00m base_layer \u001b[38;5;28;01mas\u001b[39;00m base\n\u001b[0;32m      8\u001b[0m \u001b[38;5;28;01mfrom\u001b[39;00m \u001b[38;5;21;01mtensorflow\u001b[39;00m\u001b[38;5;21;01m.\u001b[39;00m\u001b[38;5;21;01mkeras\u001b[39;00m\u001b[38;5;21;01m.\u001b[39;00m\u001b[38;5;21;01mlayers\u001b[39;00m \u001b[38;5;28;01mimport\u001b[39;00m Concatenate, Input\n\u001b[0;32m      9\u001b[0m \u001b[38;5;28;01mfrom\u001b[39;00m \u001b[38;5;21;01mtensorflow\u001b[39;00m\u001b[38;5;21;01m.\u001b[39;00m\u001b[38;5;21;01mkeras\u001b[39;00m\u001b[38;5;21;01m.\u001b[39;00m\u001b[38;5;21;01mmodels\u001b[39;00m \u001b[38;5;28;01mimport\u001b[39;00m Model\n",
      "\u001b[1;31mImportError\u001b[0m: cannot import name 'base_layer' from 'parc.base' (unknown location)"
     ]
    }
   ],
   "source": [
    "import numpy as np\n",
    "import matplotlib.pyplot as plt\n",
    "import tensorflow as tf\n",
    "import os\n",
    "os.chdir(\".\")\n",
    "from parc.models import model_burgers as model"
   ]
  },
  {
   "cell_type": "markdown",
   "metadata": {},
   "source": [
    "# Data pipeline"
   ]
  },
  {
   "cell_type": "code",
   "execution_count": 3,
   "metadata": {},
   "outputs": [
    {
     "ename": "ValueError",
     "evalue": "need at least one array to concatenate",
     "output_type": "error",
     "traceback": [
      "\u001b[1;31m---------------------------------------------------------------------------\u001b[0m",
      "\u001b[1;31mValueError\u001b[0m                                Traceback (most recent call last)",
      "Cell \u001b[1;32mIn[3], line 39\u001b[0m\n\u001b[0;32m     36\u001b[0m     vel_seq_whole \u001b[38;5;241m=\u001b[39m np\u001b[38;5;241m.\u001b[39mconcatenate(vel_seq_whole, axis\u001b[38;5;241m=\u001b[39m\u001b[38;5;241m0\u001b[39m)\n\u001b[0;32m     37\u001b[0m     \u001b[38;5;28;01mreturn\u001b[39;00m vel_seq_whole\n\u001b[1;32m---> 39\u001b[0m seq_clipped \u001b[38;5;241m=\u001b[39m \u001b[43mclip_raw_data\u001b[49m\u001b[43m(\u001b[49m\u001b[38;5;241;43m3\u001b[39;49m\u001b[43m)\u001b[49m\n",
      "Cell \u001b[1;32mIn[3], line 36\u001b[0m, in \u001b[0;36mclip_raw_data\u001b[1;34m(sequence_length)\u001b[0m\n\u001b[0;32m     33\u001b[0m                     vel_seq_case \u001b[38;5;241m=\u001b[39m np\u001b[38;5;241m.\u001b[39mconcatenate([init_snapshot,following_snapshot],axis \u001b[38;5;241m=\u001b[39m \u001b[38;5;241m-\u001b[39m\u001b[38;5;241m1\u001b[39m)\n\u001b[0;32m     34\u001b[0m                     vel_seq_whole\u001b[38;5;241m.\u001b[39mappend(vel_seq_case)\n\u001b[1;32m---> 36\u001b[0m vel_seq_whole \u001b[38;5;241m=\u001b[39m \u001b[43mnp\u001b[49m\u001b[38;5;241;43m.\u001b[39;49m\u001b[43mconcatenate\u001b[49m\u001b[43m(\u001b[49m\u001b[43mvel_seq_whole\u001b[49m\u001b[43m,\u001b[49m\u001b[43m \u001b[49m\u001b[43maxis\u001b[49m\u001b[38;5;241;43m=\u001b[39;49m\u001b[38;5;241;43m0\u001b[39;49m\u001b[43m)\u001b[49m\n\u001b[0;32m     37\u001b[0m \u001b[38;5;28;01mreturn\u001b[39;00m vel_seq_whole\n",
      "\u001b[1;31mValueError\u001b[0m: need at least one array to concatenate"
     ]
    }
   ],
   "source": [
    "R_list = [1000, 2500, 5000, 7500, 10000]\n",
    "a_list = [0.5, 0.6, 0.7, 0.8, 0.9]\n",
    "w_list = [0.7, 0.8, 0.9, 1.0]\n",
    "\n",
    "def clip_raw_data(sequence_length=2):\n",
    "    vel_seq_whole = []\n",
    "    # Looping through the file list\n",
    "    for R in R_list:\n",
    "        for a in a_list:\n",
    "            for w in w_list:\n",
    "                data_file_name = 'burgers_train_' + str(int(R)) + '_' + str(int(a*10)) + '_' + str(int(w*10)) + '.npy'\n",
    "                file_path = './data/burgers/train_data/' + data_file_name                \n",
    "                if os.path.exists(file_path):\n",
    "                    # Load data\n",
    "                    raw_data = np.float32(np.load(file_path))\n",
    "                    # Reorganize tensor shape\n",
    "                    raw_data = np.moveaxis(raw_data,-2,0)\n",
    "                    data_shape = raw_data.shape\n",
    "                    num_time_steps = data_shape[0]\n",
    "                    norm_r = R/15000\n",
    "                    r_img = norm_r*np.ones(shape = (1,data_shape[1],data_shape[2],1))\n",
    "                    \n",
    "                    # Reorganize tensor shape\n",
    "                    for j in range (num_time_steps-sequence_length):\n",
    "                        # Assemble first step\n",
    "                        init_snapshot = np.concatenate([raw_data[j:j+1, :, :, :],r_img],axis = -1)\n",
    "                        # Collect the rest\n",
    "                        following_snapshot = []\n",
    "                        for k in range(sequence_length-1):\n",
    "                            following_snapshot.append(raw_data[(j + k +1):(j + k + 2), :, :, :])\n",
    "                        following_snapshot = np.concatenate(following_snapshot,axis = -1)\n",
    "                        # Assemble all\n",
    "                        vel_seq_case = np.concatenate([init_snapshot,following_snapshot],axis = -1)\n",
    "                        vel_seq_whole.append(vel_seq_case)\n",
    "\n",
    "    vel_seq_whole = np.concatenate(vel_seq_whole, axis=0)\n",
    "    return vel_seq_whole\n",
    "\n",
    "seq_clipped = clip_raw_data(3)"
   ]
  },
  {
   "cell_type": "code",
   "execution_count": null,
   "metadata": {},
   "outputs": [],
   "source": []
  },
  {
   "cell_type": "markdown",
   "metadata": {},
   "source": [
    "# Training\n"
   ]
  },
  {
   "cell_type": "markdown",
   "metadata": {},
   "source": [
    "### Stage 1: Differentiator training"
   ]
  },
  {
   "cell_type": "code",
   "execution_count": null,
   "metadata": {},
   "outputs": [],
   "source": [
    "# Create tf.dataset\n",
    "dataset_input = tf.data.Dataset.from_tensor_slices(seq_clipped[:,:,:,:3])\n",
    "dataset_label = tf.data.Dataset.from_tensor_slices(seq_clipped[:,:,:,3:])\n",
    "dataset = tf.data.Dataset.zip((dataset_input, dataset_label))\n",
    "dataset = dataset.shuffle(buffer_size = 10000) \n",
    "dataset = dataset.batch(8)"
   ]
  },
  {
   "cell_type": "code",
   "execution_count": 2,
   "metadata": {
    "scrolled": true
   },
   "outputs": [],
   "source": [
    "tf.keras.backend.clear_session()\n",
    "parc = model.PARCv2_burgers(n_time_step = 1, step_size= 1/100, solver = \"heun\", mode = \"differentiator_training\")\n",
    "# parc.compile(optimizer = tf.keras.optimizers.Adam(learning_rate = 0.00005, beta_1 = 0.9, beta_2 = 0.999))\n",
    "# parc.fit(dataset, epochs = 1, shuffle = True)"
   ]
  },
  {
   "cell_type": "code",
   "execution_count": null,
   "metadata": {},
   "outputs": [],
   "source": [
    "parc.differentiator.save_weights('./pretrained_weights/burgers/parc2_diff_burgers_heun.h5')"
   ]
  },
  {
   "cell_type": "markdown",
   "metadata": {},
   "source": [
    "### Stage 2: Data-driven integration training"
   ]
  },
  {
   "cell_type": "code",
   "execution_count": null,
   "metadata": {
    "scrolled": true
   },
   "outputs": [],
   "source": [
    "# Pretrain integrator\n",
    "tf.keras.backend.clear_session()\n",
    "parc = model_burgers.PARCv2_burgers(n_time_step = 2, step_size= 1/100, solver = \"heun\", mode = \"integrator_training\")\n",
    "parc.differentiator.load_weights('./pretrained_weights/burgers/parc2_diff_burgers_heun.h5')\n",
    "parc.compile(optimizer = tf.keras.optimizers.Adam(learning_rate = 0.00001, beta_1 = 0.9, beta_2 = 0.999))\n",
    "parc.fit(dataset, epochs = 1, shuffle = True)"
   ]
  },
  {
   "cell_type": "code",
   "execution_count": null,
   "metadata": {},
   "outputs": [],
   "source": [
    "parc.integrator.save_weights('./pretrained_weights/burgers/parc2_int_burgers_heun.h5')"
   ]
  },
  {
   "cell_type": "markdown",
   "metadata": {},
   "source": [
    "# Validation"
   ]
  },
  {
   "cell_type": "code",
   "execution_count": null,
   "metadata": {
    "scrolled": true,
    "tags": []
   },
   "outputs": [],
   "source": [
    "R_list = [100, 500, 3000, 6500, 12500, 15000]\n",
    "a_list = [0.35, 0.40, 0.45, 0.55, 0.65, 0.75, 0.85, 0.95, 1.00]\n",
    "w_list = [0.55, 0.6, 0.65, 0.75, 0.85, 0.95, 1.05]\n",
    "\n",
    "def clip_raw_data_for_validation(sequence_length=2):\n",
    "    vel_seq_whole = []\n",
    "\n",
    "    for R in R_list:\n",
    "        for a in a_list:\n",
    "            for w in w_list:\n",
    "                data_file_name = 'burgers_test_' + str(int(R)) + '_' + str(int(a*100)) + '_' + str(int(w*100)) + '.npy'\n",
    "                file_path = '.././data/burgers/test_data/' + data_file_name\n",
    "                if os.path.exists(file_path):\n",
    "                    raw_data = np.float32(np.load(file_path))\n",
    "                    raw_data = np.moveaxis(raw_data,-2,0)\n",
    "                    data_shape = raw_data.shape\n",
    "                    norm_r = R/15000\n",
    "                    r_img = norm_r*np.ones(shape = (1,data_shape[1],data_shape[2],1))            \n",
    "                    for j in range (1):\n",
    "                        # Assemble first step\n",
    "                        init_snapshot = np.concatenate([raw_data[j:j+1, :, :, :],r_img],axis = -1)\n",
    "                        # Collect the rest\n",
    "                        following_snapshot = []\n",
    "                        for k in range(sequence_length-1):\n",
    "                            following_snapshot.append(raw_data[(j + k +1):(j + k + 2), :, :, :])\n",
    "                        following_snapshot = np.concatenate(following_snapshot,axis = -1)\n",
    "                        # Assemble all\n",
    "                        vel_seq_case = np.concatenate([init_snapshot,following_snapshot],axis = -1)\n",
    "                        vel_seq_whole.append(vel_seq_case)\n",
    "    vel_seq_whole = np.concatenate(vel_seq_whole, axis=0)\n",
    "    return vel_seq_whole\n",
    "\n",
    "seq_clipped_test = clip_raw_data_for_validation(sequence_length = 101)"
   ]
  },
  {
   "cell_type": "code",
   "execution_count": null,
   "metadata": {},
   "outputs": [
    {
     "data": {
      "text/plain": [
       "(378, 64, 64, 203)"
      ]
     },
     "execution_count": 16,
     "metadata": {},
     "output_type": "execute_result"
    }
   ],
   "source": [
    "seq_clipped_test.shape"
   ]
  },
  {
   "cell_type": "markdown",
   "metadata": {},
   "source": [
    "## Load model"
   ]
  },
  {
   "cell_type": "markdown",
   "metadata": {},
   "source": [
    "### Option 1: from weight files"
   ]
  },
  {
   "cell_type": "code",
   "execution_count": null,
   "metadata": {
    "tags": []
   },
   "outputs": [],
   "source": [
    "tf.keras.backend.clear_session()\n",
    "parc = model_burgers.PARCv2_burgers(n_time_step = 99, step_size= 1/100, solver = \"heun\")\n",
    "parc.differentiator.load_weights('./pretrained_weights/burgers/parc2_diff_burgers_heun.h5')\n",
    "parc.integrator.load_weights('./pretrained_weights/burgers/parc2_int_burgers_heun.h5')"
   ]
  },
  {
   "cell_type": "markdown",
   "metadata": {},
   "source": [
    "### Option 2: from model files"
   ]
  },
  {
   "cell_type": "code",
   "execution_count": null,
   "metadata": {},
   "outputs": [],
   "source": [
    "loaded_parc = tf.keras.models.load_model('./pretrained_weights/burgers/parcv2_burgers.keras')"
   ]
  },
  {
   "cell_type": "markdown",
   "metadata": {},
   "source": [
    "## Make prediction on the test set"
   ]
  },
  {
   "cell_type": "code",
   "execution_count": null,
   "metadata": {
    "scrolled": true,
    "tags": []
   },
   "outputs": [],
   "source": [
    "prediction_data = []\n",
    "for j in range(50):\n",
    "    input_seq_current = tf.cast(seq_clipped_test[j:j+1,:,:,:3], dtype = tf.float32)\n",
    "    res = loaded_parc.predict(input_seq_current)\n",
    "    prediction_data.append(res)\n",
    "    print('Finish case ', j)\n",
    "prediction_data = np.concatenate(prediction_data, axis = 0)"
   ]
  },
  {
   "cell_type": "code",
   "execution_count": null,
   "metadata": {},
   "outputs": [],
   "source": [
    "prediction_data = np.squeeze(prediction_data)"
   ]
  },
  {
   "cell_type": "code",
   "execution_count": null,
   "metadata": {},
   "outputs": [],
   "source": [
    "np.save('./plotting/burgers/parcv2_burgers.npy',prediction_data)"
   ]
  }
 ],
 "metadata": {
  "kernelspec": {
   "display_name": "materiq",
   "language": "python",
   "name": "python3"
  },
  "language_info": {
   "codemirror_mode": {
    "name": "ipython",
    "version": 3
   },
   "file_extension": ".py",
   "mimetype": "text/x-python",
   "name": "python",
   "nbconvert_exporter": "python",
   "pygments_lexer": "ipython3",
   "version": "3.9.18"
  }
 },
 "nbformat": 4,
 "nbformat_minor": 4
}
