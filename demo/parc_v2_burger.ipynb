{
 "cells": [
  {
   "cell_type": "code",
   "execution_count": null,
   "metadata": {},
   "outputs": [
    {
     "name": "stderr",
     "output_type": "stream",
     "text": [
      "c:\\Users\\phong\\.conda\\envs\\tf\\lib\\site-packages\\h5py\\__init__.py:36: UserWarning: h5py is running against HDF5 1.12.2 when it was built against 1.12.1, this may cause problems\n",
      "  _warn((\"h5py is running against HDF5 {0} when it was built against {1}, \"\n"
     ]
    }
   ],
   "source": [
    "import numpy as np\n",
    "import matplotlib.pyplot as plt\n",
    "import tensorflow as tf\n",
    "import os\n",
    "os.chdir(\"./..\")\n",
    "from parc.model import model_burgers as model\n",
    "import parc.data.data_burgers as data"
   ]
  },
  {
   "cell_type": "code",
   "execution_count": 2,
   "metadata": {},
   "outputs": [],
   "source": [
    "burgers_data = data.DataBurgers()\n",
    "R_list = [1000, 2500, 5000, 7500, 10000]\n",
    "a_list = [0.5, 0.6, 0.7, 0.8, 0.9]\n",
    "w_list = [0.7, 0.8, 0.9, 1.0]\n",
    "clipped_data = burgers_data.clip_raw_data('./data/burgers/train/' , R_list,a_list,w_list, purpose = 'training')"
   ]
  },
  {
   "cell_type": "markdown",
   "metadata": {},
   "source": [
    "# Training\n"
   ]
  },
  {
   "cell_type": "markdown",
   "metadata": {},
   "source": [
    "### Stage 1: Differentiator training"
   ]
  },
  {
   "cell_type": "code",
   "execution_count": null,
   "metadata": {},
   "outputs": [],
   "source": [
    "# Create tf.dataset\n",
    "dataset_input = tf.data.Dataset.from_tensor_slices(clipped_data[:,:,:,:3])\n",
    "dataset_label = tf.data.Dataset.from_tensor_slices(clipped_data[:,:,:,3:])\n",
    "dataset = tf.data.Dataset.zip((dataset_input, dataset_label))\n",
    "dataset = dataset.shuffle(buffer_size = 10000) \n",
    "dataset = dataset.batch(8)"
   ]
  },
  {
   "cell_type": "code",
   "execution_count": 2,
   "metadata": {
    "scrolled": true
   },
   "outputs": [],
   "source": [
    "tf.keras.backend.clear_session()\n",
    "parc = model.PARCv2_burgers(n_time_step = 1, step_size= 1/100, solver = \"heun\", mode = \"differentiator_training\")\n",
    "parc.compile(optimizer = tf.keras.optimizers.Adam(learning_rate = 0.00005, beta_1 = 0.9, beta_2 = 0.999))\n",
    "parc.fit(dataset, epochs = 1, shuffle = True)"
   ]
  },
  {
   "cell_type": "code",
   "execution_count": null,
   "metadata": {},
   "outputs": [],
   "source": [
    "parc.differentiator.save_weights('./pretrained_weights/burgers/parc2_diff_burgers_heun.h5')"
   ]
  },
  {
   "cell_type": "markdown",
   "metadata": {},
   "source": [
    "### Stage 2: Data-driven integration training"
   ]
  },
  {
   "cell_type": "code",
   "execution_count": null,
   "metadata": {
    "scrolled": true
   },
   "outputs": [],
   "source": [
    "# Pretrain integrator\n",
    "tf.keras.backend.clear_session()\n",
    "parc = model.PARCv2_burgers(n_time_step = 2, step_size= 1/100, solver = \"heun\", mode = \"integrator_training\")\n",
    "parc.differentiator.load_weights('./pretrained_weights/burgers/parc2_diff_burgers_heun.h5')\n",
    "parc.compile(optimizer = tf.keras.optimizers.Adam(learning_rate = 0.00001, beta_1 = 0.9, beta_2 = 0.999))\n",
    "parc.fit(dataset, epochs = 1, shuffle = True)"
   ]
  },
  {
   "cell_type": "code",
   "execution_count": null,
   "metadata": {},
   "outputs": [],
   "source": [
    "parc.integrator.save_weights('./pretrained_weights/burgers/parc2_int_burgers_heun.h5')"
   ]
  },
  {
   "cell_type": "markdown",
   "metadata": {},
   "source": [
    "# Validation"
   ]
  },
  {
   "cell_type": "code",
   "execution_count": 3,
   "metadata": {
    "scrolled": true,
    "tags": []
   },
   "outputs": [],
   "source": [
    "R_list_test = [100, 500, 3000, 6500, 12500, 15000]\n",
    "a_list_test = [0.35, 0.40, 0.45, 0.55, 0.65, 0.75, 0.85, 0.95, 1.00]\n",
    "w_list_test = [0.55, 0.6, 0.65, 0.75, 0.85, 0.95, 1.05]\n",
    "clipped_data_test = burgers_data.clip_raw_data('./data/burgers/test/' , R_list_test, a_list_test, w_list_test, sequence_length = 100, purpose = 'validation')"
   ]
  },
  {
   "cell_type": "markdown",
   "metadata": {},
   "source": [
    "## Load model from weight files"
   ]
  },
  {
   "cell_type": "code",
   "execution_count": 4,
   "metadata": {
    "tags": []
   },
   "outputs": [],
   "source": [
    "tf.keras.backend.clear_session()\n",
    "parc = model.PARCv2_burgers(n_time_step = 100, step_size = 1/100, solver = \"heun\")\n",
    "parc.differentiator.load_weights('./pretrained_weights/burgers/parc2_diff_burgers_heun.h5')\n",
    "parc.integrator.load_weights('./pretrained_weights/burgers/parc2_int_burgers_heun.h5')"
   ]
  },
  {
   "cell_type": "markdown",
   "metadata": {},
   "source": [
    "## Make prediction on the test set"
   ]
  },
  {
   "cell_type": "code",
   "execution_count": 10,
   "metadata": {
    "scrolled": true,
    "tags": []
   },
   "outputs": [
    {
     "name": "stdout",
     "output_type": "stream",
     "text": [
      "Finish case  0\n",
      "Finish case  1\n"
     ]
    }
   ],
   "source": [
    "prediction_data = []\n",
    "for j in range(2):\n",
    "    input_seq_current = tf.cast(clipped_data_test[j:j+1,:,:,:3], dtype = tf.float32)\n",
    "    res = parc.predict(input_seq_current)\n",
    "    prediction_data.append(res)\n",
    "    print('Finish case ', j)\n",
    "prediction_data = np.concatenate(prediction_data, axis = 0)"
   ]
  },
  {
   "cell_type": "code",
   "execution_count": null,
   "metadata": {},
   "outputs": [],
   "source": [
    "np.save('./results/burgers/parcv2_burgers.npy',prediction_data)"
   ]
  }
 ],
 "metadata": {
  "kernelspec": {
   "display_name": "materiq",
   "language": "python",
   "name": "python3"
  },
  "language_info": {
   "codemirror_mode": {
    "name": "ipython",
    "version": 3
   },
   "file_extension": ".py",
   "mimetype": "text/x-python",
   "name": "python",
   "nbconvert_exporter": "python",
   "pygments_lexer": "ipython3",
   "version": "3.9.18"
  }
 },
 "nbformat": 4,
 "nbformat_minor": 4
}
