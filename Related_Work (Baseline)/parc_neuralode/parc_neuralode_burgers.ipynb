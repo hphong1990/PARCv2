{
 "cells": [
  {
   "cell_type": "code",
   "execution_count": 1,
   "metadata": {
    "tags": []
   },
   "outputs": [
    {
     "name": "stderr",
     "output_type": "stream",
     "text": [
      "2024-01-04 15:32:45.246837: I tensorflow/core/platform/cpu_feature_guard.cc:183] This TensorFlow binary is optimized to use available CPU instructions in performance-critical operations.\n",
      "To enable the following instructions: SSE3 SSE4.1 SSE4.2 AVX, in other operations, rebuild TensorFlow with the appropriate compiler flags.\n"
     ]
    }
   ],
   "source": [
    "import numpy as np\n",
    "import matplotlib.pyplot as plt\n",
    "import tensorflow as tf\n",
    "import os\n",
    "os.chdir(\"../..\")\n",
    "# from parc.data import EnergeticMatDataPipeLine as EmData\n",
    "from parc import misc, metrics, model,visualization\n",
    "from parc.model import model_burgers\n",
    "from skimage.measure import block_reduce\n"
   ]
  },
  {
   "cell_type": "markdown",
   "metadata": {
    "tags": []
   },
   "source": [
    "# Data pipeline"
   ]
  },
  {
   "cell_type": "code",
   "execution_count": 2,
   "metadata": {},
   "outputs": [],
   "source": [
    "import time\n",
    "import os\n",
    "import numpy as np\n",
    "import skimage\n",
    "from skimage.measure import block_reduce\n",
    "# \n",
    "R_list = [1000, 2500, 5000, 7500, 10000]\n",
    "a_list = [0.5, 0.6, 0.7, 0.8, 0.9]\n",
    "w_list = [0.7, 0.8, 0.9, 1.0]\n",
    "\n",
    "def clip_raw_data(idx_range, sequence_length=2, n_state_var=3, purpose = \"diff_training\"):\n",
    "    vel_seq_whole = []\n",
    "\n",
    "    for R in R_list:\n",
    "        for a in a_list:\n",
    "            for w in w_list:\n",
    "                data_file_name = 'burgers_train_' + str(int(R)) + '_' + str(int(a*10)) + '_' + str(int(w*10)) + '.npy'\n",
    "                file_path = './train_data/' + data_file_name                \n",
    "                if os.path.exists(file_path):\n",
    "                    raw_data = np.float32(np.load(file_path))\n",
    "                    raw_data = np.moveaxis(raw_data,-2,0)\n",
    "                    data_shape = raw_data.shape\n",
    "                    num_time_steps = data_shape[0]\n",
    "                    norm_r = R/15000\n",
    "                    r_img = norm_r*np.ones(shape = (1,data_shape[1],data_shape[2],1))                                     \n",
    "                    vel_seq_case = [np.concatenate(\n",
    "                        [np.concatenate([np.expand_dims(raw_data[(j + k), :, :, :],axis = 0),r_img],axis = -1)\n",
    "                        for k in range(sequence_length)], axis=-1)\n",
    "                        for j in range (num_time_steps-sequence_length+1)] \n",
    "                    vel_seq_whole.extend(vel_seq_case)\n",
    "    vel_seq_whole = np.concatenate(vel_seq_whole, axis=0)\n",
    "    return vel_seq_whole\n",
    "seq_clipped = clip_raw_data((1,100),2)\n",
    "\n"
   ]
  },
  {
   "cell_type": "markdown",
   "metadata": {
    "tags": []
   },
   "source": [
    "# Model definition"
   ]
  },
  {
   "cell_type": "code",
   "execution_count": 3,
   "metadata": {},
   "outputs": [],
   "source": [
    "from tensorflow import keras\n",
    "from tensorflow.keras import  layers, regularizers\n",
    "from keras.layers import *\n",
    "import tensorflow as tf\n",
    "from parc import layer\n",
    "\n",
    "from tensorflow.keras.layers import Concatenate, Input\n",
    "from tensorflow.keras.models import Model\n",
    "\n",
    "\"\"\"\n",
    "Model definition customized for Burgers' problems: \n",
    "    - In this problem, state vars and velocity only include velocity\n",
    "    - Architecture was adjusted to make it lighter and comparable with PhyCRNet\n",
    "\"\"\"\n",
    "\n",
    "def neural_ode_differentiator_burgers():\n",
    "    # U-Net backbone\n",
    "    feature_extraction = layer.feature_extraction_burgers(input_shape = (64,64), n_channel = 3)\n",
    "    velocity_field = Input(shape=(64,64, 3), dtype = tf.float32)\n",
    "    dynamic_feature = feature_extraction(velocity_field)\n",
    "    # Final mapping\n",
    "    velocity_dot = Conv2D(2, 1, padding=\"same\")(dynamic_feature)\n",
    "    \n",
    "    differentiator = Model(velocity_field, velocity_dot)\n",
    "    return differentiator\n",
    "\n",
    "# def integrator_burgers():\n",
    "#     velocity_integrator = layer.integrator_cnn(input_shape = (128,128), n_base_features = 64, n_output=2)\n",
    "#     velocity_prev = keras.layers.Input(shape = (128,128, 2), dtype = tf.float32)\n",
    "#     velocity_dot = keras.layers.Input(shape = (128,128, 2), dtype = tf.float32)\n",
    "#     velocity_next = velocity_integrator([velocity_dot, velocity_prev])\n",
    "#     integrator = keras.Model([velocity_dot, velocity_prev], [velocity_next])\n",
    "#     return integrator\n",
    "\n",
    "class PARC_burgers(keras.Model):\n",
    "    def __init__(self, n_time_step, step_size, solver = \"rk4\", **kwargs):\n",
    "        super(PARC_burgers, self).__init__(**kwargs)\n",
    "        self.n_time_step = n_time_step\n",
    "        self.step_size = step_size\n",
    "        self.solver = solver\n",
    "        self.differentiator = neural_ode_differentiator_burgers()\n",
    "        # self.integrator = integrator_burgers()\n",
    "        self.total_loss_tracker = keras.metrics.Mean(name=\"total_loss\")\n",
    "\n",
    "    @property\n",
    "    def metrics(self):\n",
    "        return [\n",
    "        self.total_loss_tracker,\n",
    "        ]\n",
    "    \n",
    "    def call(self, input_tensor):\n",
    "        input_seq_current = tf.cast(input_tensor,dtype = tf.float32)\n",
    "        res = [] \n",
    "        res.append(input_seq_current)\n",
    "        for _ in range(self.n_time_step):    \n",
    "            velocity_next, update = self.explicit_update(input_seq_current)\n",
    "            input_seq_current = velocity_next\n",
    "            res.append(input_seq_current)\n",
    "        output = tf.concat(res,axis = -1)\n",
    "        return output\n",
    "\n",
    "    @tf.function\n",
    "    def train_step(self, data):\n",
    "        velocity_init = tf.cast(data[0], dtype = tf.float32)\n",
    "        velocity_gt = tf.cast(data[1], dtype = tf.float32)\n",
    "\n",
    "        input_seq_current = velocity_init\n",
    "\n",
    "        # One step training only\n",
    "        with tf.GradientTape() as tape:\n",
    "            velocity_next = self.explicit_update(input_seq_current)\n",
    "            total_loss  = tf.keras.losses.MeanAbsoluteError(reduction = 'sum')(velocity_next[:,:,:,:2],velocity_gt[:,:,:,:2])\n",
    "                           \n",
    "        grads = tape.gradient(total_loss, self.trainable_weights)\n",
    "        self.optimizer.apply_gradients(zip(grads, self.trainable_weights))\n",
    "\n",
    "        self.total_loss_tracker.update_state(total_loss)\n",
    "\n",
    "        return {\n",
    "            \"total_loss\": self.total_loss_tracker.result(),\n",
    "        }\n",
    "    \n",
    "    # Update scheme\n",
    "    def explicit_update(self, input_seq_current):\n",
    "        input_seq_current = tf.clip_by_value(input_seq_current, 0, 1)\n",
    "\n",
    "        if self.solver == \"rk4\":\n",
    "            input_seq_current = self.rk4_update(input_seq_current)\n",
    "        else:\n",
    "            input_seq_current = self.heun_update(input_seq_current)\n",
    "\n",
    "\n",
    "        return input_seq_current\n",
    "\n",
    "    def rk4_update(self, input_seq_current):\n",
    "\n",
    "        # Compute k1\n",
    "        k1 = self.differentiator(input_seq_current)\n",
    "\n",
    "        # Compute k2\n",
    "        inp_k2 = input_seq_current[:,:,:,:2] + self.step_size*1/2*k1 \n",
    "        inp_k2 = Concatenate(axis = -1)([inp_k2,input_seq_current[:,:,:,2:]])\n",
    "\n",
    "        k2 = self.differentiator(inp_k2)\n",
    "\n",
    "        # Compute k3\n",
    "        inp_k3 = input_seq_current[:,:,:,:2] + self.step_size*1/2*k2\n",
    "        inp_k3 = Concatenate(axis = -1)([inp_k3,input_seq_current[:,:,:,2:]])\n",
    "        k3 = self.differentiator(inp_k3)\n",
    "\n",
    "        # Compute k4\n",
    "        inp_k4 = input_seq_current[:,:,:,:2] + self.step_size*k3\n",
    "        inp_k4 = Concatenate(axis = -1)([inp_k4,input_seq_current[:,:,:,2:]])\n",
    "\n",
    "        k4 = self.differentiator(inp_k4)\n",
    "\n",
    "        # Final\n",
    "        update = 1/6*(k1 + 2*k2 + 2*k3 + k4)\n",
    "        final_state = input_seq_current[:,:,:,:2] + self.step_size*update \n",
    "        input_seq_current = Concatenate(axis = -1)([final_state,input_seq_current[:,:,:,2:]])\n",
    "        return input_seq_current\n",
    "    \n",
    "    # Euler update function\n",
    "    def heun_update(self, input_seq_current):\n",
    "        # Compute update\n",
    "        k1 = self.differentiator(input_seq_current)\n",
    "\n",
    "        # Compute k2\n",
    "        inp_k2 = input_seq_current[:,:,:,:2] + self.step_size*k1 \n",
    "        inp_k2 = Concatenate(axis = -1)([inp_k2,input_seq_current[:,:,:,2:]])\n",
    "\n",
    "        k2 = self.differentiator(inp_k2)\n",
    "        \n",
    "        update = 1/2*(k1 + k2)\n",
    "\n",
    "        final_states = input_seq_current[:,:,:,:2] + self.step_size*update \n",
    "        input_seq_current = Concatenate(axis = -1)([final_states,input_seq_current[:,:,:,2:]])\n",
    "\n",
    "        return input_seq_current"
   ]
  },
  {
   "cell_type": "markdown",
   "metadata": {},
   "source": [
    "# Training\n"
   ]
  },
  {
   "cell_type": "markdown",
   "metadata": {},
   "source": [
    "### Stage 1: Differentiator training"
   ]
  },
  {
   "cell_type": "code",
   "execution_count": 4,
   "metadata": {},
   "outputs": [
    {
     "name": "stderr",
     "output_type": "stream",
     "text": [
      "2024-01-04 15:32:52.623686: I tensorflow/core/common_runtime/gpu/gpu_device.cc:1636] Created device /job:localhost/replica:0/task:0/device:GPU:0 with 78791 MB memory:  -> device: 0, name: NVIDIA A100-SXM4-80GB, pci bus id: 0000:4e:00.0, compute capability: 8.0\n"
     ]
    }
   ],
   "source": [
    "# Create tf.dataset\n",
    "dataset_input = tf.data.Dataset.from_tensor_slices(seq_clipped[:,:,:,:3])\n",
    "dataset_label = tf.data.Dataset.from_tensor_slices(seq_clipped[:,:,:,3:])\n",
    "dataset = tf.data.Dataset.zip((dataset_input, dataset_label))\n",
    "dataset = dataset.shuffle(buffer_size = 10000) \n",
    "dataset = dataset.batch(16)"
   ]
  },
  {
   "cell_type": "code",
   "execution_count": null,
   "metadata": {
    "scrolled": true,
    "tags": []
   },
   "outputs": [],
   "source": [
    "tf.keras.backend.clear_session()\n",
    "parc = PARC_burgers(n_time_step = 1, step_size= 1/100, solver = \"heun\", mode = \"differentiator_training\")\n",
    "parc.differentiator.load_weights('parc_diff_burgers_heun.h5')\n",
    "parc.compile(optimizer = tf.keras.optimizers.Adam(learning_rate = 0.000075, beta_1 = 0.9, beta_2 = 0.99))\n",
    "parc.fit(dataset, epochs = 50, shuffle = True)"
   ]
  },
  {
   "cell_type": "code",
   "execution_count": null,
   "metadata": {},
   "outputs": [],
   "source": [
    "parc.differentiator.save_weights('parc_diff_burgers_heun_2.h5')"
   ]
  },
  {
   "cell_type": "markdown",
   "metadata": {},
   "source": [
    "# Validation"
   ]
  },
  {
   "cell_type": "code",
   "execution_count": null,
   "metadata": {
    "scrolled": true,
    "tags": []
   },
   "outputs": [],
   "source": [
    "R_list = [100, 500, 3000, 6500, 12500, 15000]\n",
    "a_list = [0.35, 0.40, 0.45, 0.55, 0.65, 0.75, 0.85, 0.95, 1.00]\n",
    "w_list = [0.55, 0.6, 0.65, 0.75, 0.85, 0.95, 1.05]\n",
    "\n",
    "def clip_raw_data_for_validation(idx_range, sequence_length=2, n_state_var=3, purpose = \"diff_training\"):\n",
    "    vel_seq_whole = []\n",
    "\n",
    "    for R in R_list:\n",
    "        for a in a_list:\n",
    "            for w in w_list:\n",
    "                data_file_name = 'burgers_test_' + str(int(R)) + '_' + str(int(a*100)) + '_' + str(int(w*100)) + '.npy'\n",
    "                print(data_file_name)\n",
    "\n",
    "                file_path = './test_data/' + data_file_name\n",
    "                if os.path.exists(file_path):\n",
    "                    raw_data = np.float32(np.load(file_path))\n",
    "                    raw_data = np.moveaxis(raw_data,-2,0)\n",
    "\n",
    "                    data_shape = raw_data.shape\n",
    "                    norm_r = R/15000\n",
    "                    r_img = norm_r*np.ones(shape = (1,data_shape[1],data_shape[2],1))     \n",
    "                    vel_seq_case = [np.concatenate(\n",
    "                        [np.concatenate([np.expand_dims(raw_data[(j + k), :, :, :],axis = 0),r_img],axis = -1)\n",
    "                        for k in range(sequence_length)], axis=-1)\n",
    "                        for j in range (1)] \n",
    "                    vel_seq_whole.extend(vel_seq_case)\n",
    "    print(len(vel_seq_whole))\n",
    "    vel_seq_whole = np.concatenate(vel_seq_whole, axis=0)\n",
    "\n",
    "    return vel_seq_whole\n",
    "\n",
    "seq_clipped_test = clip_raw_data_for_validation((1,100),100)\n"
   ]
  },
  {
   "cell_type": "code",
   "execution_count": null,
   "metadata": {
    "tags": []
   },
   "outputs": [],
   "source": [
    "tf.keras.backend.clear_session()\n",
    "parc = PARC_burgers(n_time_step = 99, step_size= 1/100, solver = \"heun\")\n",
    "parc.differentiator.load_weights('parc_diff_burgers_heun_2.h5')"
   ]
  },
  {
   "cell_type": "code",
   "execution_count": null,
   "metadata": {
    "scrolled": true,
    "tags": []
   },
   "outputs": [],
   "source": [
    "prediction_data = []\n",
    "for j in range(378):\n",
    "    input_seq_current = tf.cast(seq_clipped_test[j:j+1,:,:,:3], dtype = tf.float32)\n",
    "    res = parc.predict(input_seq_current)\n",
    "    prediction_data.append(res)\n",
    "    print('Finish case ', j)\n",
    "prediction_data = np.concatenate(prediction_data, axis = 0)"
   ]
  },
  {
   "cell_type": "code",
   "execution_count": 10,
   "metadata": {
    "tags": []
   },
   "outputs": [
    {
     "data": {
      "text/plain": [
       "(378, 64, 64, 300)"
      ]
     },
     "execution_count": 10,
     "metadata": {},
     "output_type": "execute_result"
    }
   ],
   "source": [
    "prediction_data.shape"
   ]
  },
  {
   "cell_type": "code",
   "execution_count": 10,
   "metadata": {
    "tags": []
   },
   "outputs": [],
   "source": [
    "np.save('./plotting/burgers/neuralode_burgers.npy',prediction_data)"
   ]
  }
 ],
 "metadata": {
  "kernelspec": {
   "display_name": "Tensorflow 2.13.0",
   "language": "python",
   "name": "tensorflow-2.13.0"
  },
  "language_info": {
   "codemirror_mode": {
    "name": "ipython",
    "version": 3
   },
   "file_extension": ".py",
   "mimetype": "text/x-python",
   "name": "python",
   "nbconvert_exporter": "python",
   "pygments_lexer": "ipython3",
   "version": "3.10.12"
  }
 },
 "nbformat": 4,
 "nbformat_minor": 4
}
