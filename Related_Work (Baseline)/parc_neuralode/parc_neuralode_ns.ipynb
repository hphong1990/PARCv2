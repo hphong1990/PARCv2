{
 "cells": [
  {
   "cell_type": "code",
   "execution_count": 1,
   "metadata": {},
   "outputs": [
    {
     "name": "stderr",
     "output_type": "stream",
     "text": [
      "2024-01-07 11:40:39.913139: I tensorflow/core/platform/cpu_feature_guard.cc:183] This TensorFlow binary is optimized to use available CPU instructions in performance-critical operations.\n",
      "To enable the following instructions: SSE3 SSE4.1 SSE4.2 AVX, in other operations, rebuild TensorFlow with the appropriate compiler flags.\n"
     ]
    }
   ],
   "source": [
    "import numpy as np\n",
    "import matplotlib.pyplot as plt\n",
    "import tensorflow as tf\n",
    "import os\n",
    "os.chdir(\"../..\")\n",
    "# from parc.data import EnergeticMatDataPipeLine as EmData\n",
    "from parc import misc, metrics, model,visualization\n",
    "from parc.model import model_burgers\n",
    "from skimage.measure import block_reduce\n",
    "\n"
   ]
  },
  {
   "cell_type": "markdown",
   "metadata": {},
   "source": [
    "# Data pipeline"
   ]
  },
  {
   "cell_type": "code",
   "execution_count": 2,
   "metadata": {},
   "outputs": [],
   "source": [
    "import time\n",
    "import os\n",
    "import numpy as np\n",
    "import skimage\n",
    "from skimage.measure import block_reduce\n",
    "\n",
    "\n",
    "Re_list = [15,20,30,40,60,80,100,120,140,150,200,250,300,350,400,450,500,550,600,650,700,750,800,850,900,950,1000]#,2000,3000,4000,5000,6000,7000,8000,9000,10000]\n",
    "\n",
    "def clip_raw_data():\n",
    "    data_whole = []\n",
    "    r_whole = []\n",
    "    for Re in Re_list:\n",
    "        data_file_name = 'Re_' + str(int(Re)) + '.npy'\n",
    "        file_path = './ns_data/' + data_file_name                \n",
    "        if os.path.exists(file_path):\n",
    "            raw_data = np.float32(np.load(file_path))\n",
    "            raw_data = np.expand_dims(raw_data, axis = 0)\n",
    "            data_shape = raw_data.shape\n",
    "            norm_r = Re/1000\n",
    "            r_img = norm_r*np.ones(shape = (data_shape[0],data_shape[1],data_shape[2],1))\n",
    "            r_whole.extend(r_img)\n",
    "            data_whole.extend(raw_data)\n",
    "\n",
    "    data_whole = np.concatenate([data_whole], axis=0)\n",
    "    r_whole = np.concatenate([r_whole], axis=0)\n",
    "    return data_whole, r_whole\n",
    "\n",
    "seq_clipped = clip_raw_data()\n",
    "\n"
   ]
  },
  {
   "cell_type": "code",
   "execution_count": 3,
   "metadata": {},
   "outputs": [],
   "source": [
    "# Normalization\n",
    "def data_normalization(input_data,no_of_channel):\n",
    "    norm_data = np.zeros(input_data.shape)\n",
    "    min_val = []\n",
    "    max_val = []\n",
    "    for i in range(no_of_channel):\n",
    "        iter_max_val = np.quantile(input_data[:,:,:,i::3],0.995)\n",
    "        iter_min_val = np.quantile(input_data[:,:,:,i::3],0.005)\n",
    "        norm_data[:,:,:,(i)::no_of_channel] = ((input_data[:,:,:,(i)::no_of_channel] - iter_min_val)) / (iter_max_val - iter_min_val + 1E-9)\n",
    "        min_val.append(iter_min_val)\n",
    "        max_val.append(iter_max_val)\n",
    "    return norm_data, min_val, max_val"
   ]
  },
  {
   "cell_type": "code",
   "execution_count": 4,
   "metadata": {},
   "outputs": [],
   "source": [
    "seq_clipped[0].shape\n",
    "seq_norm = data_normalization(seq_clipped[0], 3)"
   ]
  },
  {
   "cell_type": "code",
   "execution_count": 5,
   "metadata": {},
   "outputs": [
    {
     "name": "stdout",
     "output_type": "stream",
     "text": [
      "[-0.653564119040966, -1.1162888139486313, -4362.601213378905] [1.8618228328227993, 1.1177965223789208, 3100.333607177734]\n"
     ]
    }
   ],
   "source": [
    "print(seq_norm[1], seq_norm[2])\n"
   ]
  },
  {
   "cell_type": "code",
   "execution_count": 7,
   "metadata": {},
   "outputs": [],
   "source": [
    "Re_list = [15,20,30,40,60,80,100,120,140,150,200,250,300,350,400,450,500,550,600,650,700,750,800,850,900,950,1000,2000,3000,4000,5000,6000,7000,8000,9000,10000]\n",
    "train_list = [30,40,80,100,150,200,250,300,400,450,500,600,650,700,800,850,900,950]\n",
    "test_list = [20,60,140,350,550,750,1000]\n",
    "idx = 0\n",
    "train_idx =[]\n",
    "test_idx =[]\n",
    "for Re in Re_list:\n",
    "    if Re in train_list:\n",
    "        train_idx.append(idx)\n",
    "    elif Re in test_list:\n",
    "        test_idx.append(idx)\n",
    "    idx += 1"
   ]
  },
  {
   "cell_type": "code",
   "execution_count": 8,
   "metadata": {},
   "outputs": [
    {
     "name": "stdout",
     "output_type": "stream",
     "text": [
      "[1, 4, 8, 13, 17, 21, 26]\n"
     ]
    }
   ],
   "source": [
    "print(test_idx)"
   ]
  },
  {
   "cell_type": "code",
   "execution_count": 9,
   "metadata": {},
   "outputs": [],
   "source": [
    "train_seq = [seq_norm[0][idx:idx+1,:,:,:] for idx in train_idx]\n",
    "train_re =[seq_clipped[1][idx:idx+1,:,:,:] for idx in train_idx]\n",
    "\n",
    "test_seq = [seq_norm[0][idx:idx+1,:,:,:] for idx in test_idx]\n",
    "test_re =[seq_clipped[1][idx:idx+1,:,:,:] for idx in test_idx]\n"
   ]
  },
  {
   "cell_type": "code",
   "execution_count": 10,
   "metadata": {},
   "outputs": [
    {
     "name": "stdout",
     "output_type": "stream",
     "text": [
      "(7, 128, 256, 117)\n"
     ]
    }
   ],
   "source": [
    "train_seq = np.concatenate(train_seq, axis = 0)\n",
    "train_re = np.concatenate(train_re, axis = 0)\n",
    "\n",
    "test_seq = np.concatenate(test_seq, axis = 0)\n",
    "test_re = np.concatenate(test_re, axis = 0)\n",
    "print(test_seq.shape)"
   ]
  },
  {
   "cell_type": "code",
   "execution_count": 11,
   "metadata": {},
   "outputs": [
    {
     "name": "stdout",
     "output_type": "stream",
     "text": [
      "(18, 128, 256, 1)\n"
     ]
    }
   ],
   "source": [
    "print(train_re.shape)"
   ]
  },
  {
   "cell_type": "code",
   "execution_count": 10,
   "metadata": {},
   "outputs": [],
   "source": [
    "def create_train_data(seq, re, no_of_fields, sequence_length = 2):\n",
    "    shape = seq.shape\n",
    "    num_time_steps = np.int32((shape[-1]-1)/3)\n",
    "    vel_seq_whole = []\n",
    "    re_seq_whole = []\n",
    "    for i in range(shape[0]):\n",
    "        for j in range(num_time_steps-sequence_length+1):\n",
    "            vel_seq_case = np.expand_dims(seq[i, :, :, (j*no_of_fields):(j*no_of_fields+sequence_length*no_of_fields)],axis = 0)\n",
    "            vel_seq_whole.extend(vel_seq_case)\n",
    "            re_seq_whole.extend(re[i:i+1,:,:,:])\n",
    "    vel_seq_whole = np.concatenate([vel_seq_whole], axis=0)\n",
    "    re_seq_whole = np.concatenate([re_seq_whole], axis=0)\n",
    "\n",
    "    return vel_seq_whole,re_seq_whole\n",
    "\n",
    "train_data,train_re_seq = create_train_data(train_seq, train_re, no_of_fields = 3, sequence_length = 11)"
   ]
  },
  {
   "cell_type": "code",
   "execution_count": 12,
   "metadata": {
    "tags": []
   },
   "outputs": [
    {
     "data": {
      "text/plain": [
       "(594, 128, 256, 1)"
      ]
     },
     "execution_count": 12,
     "metadata": {},
     "output_type": "execute_result"
    }
   ],
   "source": [
    "train_re_seq.shape"
   ]
  },
  {
   "cell_type": "code",
   "execution_count": 12,
   "metadata": {},
   "outputs": [],
   "source": [
    "from tensorflow import keras\n",
    "from tensorflow.keras import  layers, regularizers\n",
    "from keras.layers import *\n",
    "import tensorflow as tf\n",
    "from parc import layer\n",
    "\n",
    "from tensorflow.keras.layers import Concatenate, Input\n",
    "from tensorflow.keras.models import Model\n",
    "\n",
    "def differentiator_neural_ode_ns():\n",
    "    # Model initiation\n",
    "    feature_extraction = layer.feature_extraction_unet(input_shape = (128,256), n_out_features = 64, n_base_features = 64, n_channel = 4)\n",
    "    \n",
    "    # Main computation graph\n",
    "    velocity_field = Input(shape=(128,256, 4), dtype = tf.float32)\n",
    "\n",
    "    # Reaction term\n",
    "    dynamic_feature = feature_extraction(velocity_field)\n",
    "    \n",
    "    # Final mapping\n",
    "    velocity_dot = Conv2D(2,1, padding = 'same')(dynamic_feature)\n",
    "    \n",
    "    differentiator = Model(velocity_field, velocity_dot)\n",
    "    return differentiator\n",
    "\n",
    "def poisson_block(input_shape = (128,256),n_base_features = 64):\n",
    "    inputs = keras.Input(shape = (input_shape[0], input_shape[1], 4), dtype = tf.float32)\n",
    "    conv = layer.conv_block_down(inputs,\n",
    "                           feat_dim = n_base_features,\n",
    "                            reps = 1,\n",
    "                            kernel_size = 3,\n",
    "                            mode = 'normal')\n",
    "    conv2 = layer.conv_block_down(conv,\n",
    "                           feat_dim = n_base_features*2,\n",
    "                            reps = 1,\n",
    "                            kernel_size = 3,\n",
    "                            mode = 'normal')\n",
    "    # conv_res = layer.resnet_block(conv, n_base_features, kernel_size = 3, reps = 2, pooling = False)\n",
    "    conv_out = Conv2D(1,1, padding='same')(conv2)\n",
    "    poisson = keras.Model([inputs], conv_out)\n",
    "    return poisson\n",
    " \n",
    "# def integrator_burgers():\n",
    "#     velocity_integrator = layer.integrator_cnn(input_shape = (128,256), n_base_features = 64, n_output=2)\n",
    "\n",
    "#     velocity_prev = keras.layers.Input(shape = (128,256, 2), dtype = tf.float32)\n",
    "#     velocity_dot = keras.layers.Input(shape = (128,256, 2), dtype = tf.float32)\n",
    "\n",
    "#     velocity_next = velocity_integrator([velocity_dot, velocity_prev])\n",
    "#     integrator = keras.Model([velocity_dot, velocity_prev], [velocity_next])\n",
    "#     return integrator\n",
    "\n",
    "class PARCv2_ns(keras.Model):\n",
    "    def __init__(self, n_time_step, step_size, solver = \"rk4\", **kwargs):\n",
    "        super(PARCv2_ns, self).__init__(**kwargs)\n",
    "        self.n_time_step = n_time_step\n",
    "        self.step_size = step_size\n",
    "        self.solver = solver\n",
    "        self.differentiator = differentiator_neural_ode_ns()\n",
    "        self.poisson = poisson_block()\n",
    "\n",
    "    @property\n",
    "    def metrics(self):\n",
    "        return [\n",
    "        self.total_loss_tracker,\n",
    "        ]\n",
    "    \n",
    "    def call(self, input_data):\n",
    "        input_seq = tf.cast(input_data[0],dtype = tf.float32)\n",
    "        reynold_num = tf.cast(input_data[1], dtype = tf.float32)\n",
    "\n",
    "        res = []\n",
    "        res.append(input_seq)\n",
    "        input_seq_current = Concatenate(axis = -1)([input_seq,reynold_num])\n",
    "        for _ in range(self.n_time_step):    \n",
    "            pressure = self.poisson(input_seq_current)\n",
    "            input_seq_current = Concatenate(axis = -1)([input_seq_current[:,:,:,:2], pressure,input_seq_current[:,:,:,3:]])\n",
    "            input_seq_current, update = self.explicit_update(input_seq_current)\n",
    "            res.append(input_seq_current[:,:,:,:3])\n",
    "        output = Concatenate(axis = -1)(res)        \n",
    "        return output\n",
    "\n",
    "    @tf.function\n",
    "    def train_step(self, data):\n",
    "        velocity_init = tf.cast(data[0][0], dtype = tf.float32)\n",
    "        reynold_num = tf.cast(data[0][1], dtype = tf.float32)\n",
    "        velocity_gt = tf.cast(data[1], dtype = tf.float32)\n",
    "\n",
    "        input_seq_current = Concatenate(axis = -1)([velocity_init,reynold_num])\n",
    "        with tf.GradientTape() as tape:\n",
    "            output_snap = []\n",
    "            for _ in range(self.n_time_step):\n",
    "                pressure = self.poisson(input_seq_current)\n",
    "                input_seq_current = Concatenate(axis = -1)([input_seq_current[:,:,:,:2], pressure,input_seq_current[:,:,:,3:]])\n",
    "                input_seq_current = self.explicit_update(input_seq_current)\n",
    "                output_snap.append(input_seq_current[:,:,:,:3])\n",
    "            output = Concatenate(axis = -1)(output_snap)\n",
    "            total_loss = tf.keras.losses.MeanAbsoluteError(reduction = 'sum')(output,velocity_gt) \n",
    "                           \n",
    "        grads = tape.gradient(total_loss, self.trainable_weights)\n",
    "        self.optimizer.apply_gradients(zip(grads, self.trainable_weights))\n",
    "\n",
    "        self.total_loss_tracker.update_state(total_loss)\n",
    "        return {\n",
    "            \"total_loss\": self.total_loss_tracker.result(),\n",
    "        }\n",
    "    \n",
    "    # Update scheme\n",
    "    def explicit_update(self, input_seq_current):\n",
    "        input_seq_current = tf.clip_by_value(input_seq_current, 0, 1)\n",
    "        input_seq_current = self.rk4_update(input_seq_current)\n",
    "        # if self.solver == \"rk4\":\n",
    "        #     input_seq_current, update = self.rk4_update(input_seq_current)\n",
    "        # elif self.solver == 'heun':\n",
    "        #     input_seq_current, update = self.heun_update(input_seq_current)\n",
    "        # else:\n",
    "        #     input_seq_current, update = self.euler_update(input_seq_current)\n",
    "\n",
    "        return input_seq_current\n",
    "\n",
    "    def heun_update(self, input_seq_current):\n",
    "        # Compute update\n",
    "        k1 = self.differentiator(input_seq_current)\n",
    "\n",
    "        # Compute k2       \n",
    "        inp_k2 = input_seq_current[:,:,:,0:2] + self.step_size*k1\n",
    "        inp_k2 = Concatenate(axis = -1)([inp_k2,input_seq_current[:,:,:,2:]])\n",
    "\n",
    "        k2 = self.differentiator(inp_k2)\n",
    "        \n",
    "        update = 1/2*(k1 + k2)\n",
    "        \n",
    "        final_state = input_seq_current[:,:,:,0:2] + self.step_size*update \n",
    "        input_seq_current = Concatenate(axis = -1)([final_state,input_seq_current[:,:,:,2:]])\n",
    "        return input_seq_current\n",
    "    "
   ]
  },
  {
   "cell_type": "markdown",
   "metadata": {},
   "source": [
    "# Training\n"
   ]
  },
  {
   "cell_type": "markdown",
   "metadata": {},
   "source": [
    "### Stage 1: Differentiator training"
   ]
  },
  {
   "cell_type": "code",
   "execution_count": 12,
   "metadata": {},
   "outputs": [
    {
     "name": "stderr",
     "output_type": "stream",
     "text": [
      "2024-01-03 16:02:01.298195: I tensorflow/core/common_runtime/gpu/gpu_device.cc:1636] Created device /job:localhost/replica:0/task:0/device:GPU:0 with 37939 MB memory:  -> device: 0, name: NVIDIA A100-SXM4-40GB, pci bus id: 0000:07:00.0, compute capability: 8.0\n"
     ]
    }
   ],
   "source": [
    "# Create tf.dataset\n",
    "dataset_input = tf.data.Dataset.from_tensor_slices((train_data[:,:,:,:3],train_re_seq))\n",
    "dataset_label = tf.data.Dataset.from_tensor_slices(train_data[:,:,:,3:])\n",
    "dataset = tf.data.Dataset.zip((dataset_input, dataset_label))\n",
    "dataset = dataset.shuffle(buffer_size = 798) \n",
    "dataset = dataset.batch(6)"
   ]
  },
  {
   "cell_type": "code",
   "execution_count": null,
   "metadata": {
    "scrolled": true
   },
   "outputs": [],
   "source": [
    "tf.keras.backend.clear_session()\n",
    "parc = PARCv2_ns(n_time_step = 10, step_size= 1/38, solver = \"heun\")\n",
    "parc.differentiator.load_weights('parc_diff_ns_heun_5.h5')\n",
    "parc.poisson.load_weights('parc_poisson_ns_heun_5.h5')\n",
    "parc.compile(optimizer = tf.keras.optimizers.Adam(learning_rate = 0.00001, beta_1 = 0.9, beta_2 = 0.999))\n",
    "parc.fit(dataset, epochs = 50, shuffle = True)"
   ]
  },
  {
   "cell_type": "code",
   "execution_count": 14,
   "metadata": {},
   "outputs": [],
   "source": [
    "parc.differentiator.save_weights('parc_diff_ns_heun_6.h5')\n",
    "parc.poisson.save_weights('parc_poisson_ns_heun_6.h5')"
   ]
  },
  {
   "cell_type": "markdown",
   "metadata": {},
   "source": [
    "# Validation"
   ]
  },
  {
   "cell_type": "code",
   "execution_count": 17,
   "metadata": {
    "tags": []
   },
   "outputs": [],
   "source": [
    "tf.keras.backend.clear_session()\n",
    "parc = PARCv2_ns(n_time_step = 37, step_size= 1/38, solver = \"heun\", mode = \"differentiator_training\")\n",
    "parc.differentiator.load_weights('parc_diff_ns_heun_6.h5')\n",
    "parc.poisson.load_weights('parc_poisson_ns_heun_6.h5')\n",
    "parc.compile()"
   ]
  },
  {
   "cell_type": "code",
   "execution_count": 18,
   "metadata": {
    "tags": []
   },
   "outputs": [
    {
     "data": {
      "text/plain": [
       "(7, 128, 256, 117)"
      ]
     },
     "execution_count": 18,
     "metadata": {},
     "output_type": "execute_result"
    }
   ],
   "source": [
    "test_seq.shape"
   ]
  },
  {
   "cell_type": "code",
   "execution_count": 19,
   "metadata": {
    "tags": []
   },
   "outputs": [
    {
     "name": "stdout",
     "output_type": "stream",
     "text": [
      "1/1 [==============================] - 10s 10s/step\n",
      "1/1 [==============================] - 0s 134ms/step\n",
      "1/1 [==============================] - 0s 122ms/step\n",
      "1/1 [==============================] - 0s 122ms/step\n",
      "1/1 [==============================] - 0s 122ms/step\n",
      "1/1 [==============================] - 0s 122ms/step\n",
      "1/1 [==============================] - 0s 122ms/step\n"
     ]
    }
   ],
   "source": [
    "pred_whole =[]\n",
    "for idx in range(7):\n",
    "    input_seq_current = tf.cast(test_seq[idx:idx+1,:,:,:3], dtype = tf.float32)\n",
    "    output = parc.predict([input_seq_current,test_re[idx:idx+1,:,:,:]])\n",
    "    pred_whole.append(output)\n",
    "pred = np.concatenate(pred_whole,axis = 0)"
   ]
  },
  {
   "cell_type": "code",
   "execution_count": 26,
   "metadata": {
    "tags": []
   },
   "outputs": [
    {
     "data": {
      "text/plain": [
       "(7, 128, 256, 114)"
      ]
     },
     "execution_count": 26,
     "metadata": {},
     "output_type": "execute_result"
    }
   ],
   "source": [
    "pred.shape"
   ]
  },
  {
   "cell_type": "code",
   "execution_count": 20,
   "metadata": {
    "tags": []
   },
   "outputs": [
    {
     "name": "stdout",
     "output_type": "stream",
     "text": [
      "1.8618228328227993 -0.653564119040966\n",
      "1.1177965223789208 -1.1162888139486313\n",
      "3100.333607177734 -4362.601213378905\n"
     ]
    }
   ],
   "source": [
    "def DeNormalization(y_pred, min_val, max_val, no_of_channel):\n",
    "    denorm_data = np.zeros(y_pred.shape)\n",
    "    \n",
    "    for i in range(no_of_channel):\n",
    "        print(max_val[i], min_val[i])\n",
    "        denorm_data[:,:,:,(i)::no_of_channel] = (y_pred[:,:,:,(i)::no_of_channel] * (max_val[i] - min_val[i])) + min_val[i]\n",
    "    return denorm_data\n",
    "\n",
    "y_pred_denorm = DeNormalization(pred,seq_norm[1], seq_norm[2], no_of_channel = 3)\n",
    "# gt_denorm = DeNormalization(test_seq,seq_norm[1], seq_norm[2], no_of_channel = 3)\n",
    "# print(np.amax(np.sqrt(gt_denorm[3,:,:,0::3]**2 + gt_denorm[3,:,:,1::3]**2)))"
   ]
  },
  {
   "cell_type": "code",
   "execution_count": 21,
   "metadata": {
    "tags": []
   },
   "outputs": [],
   "source": [
    "np.save('./plotting/ns/parc_ns.npy',y_pred_denorm)"
   ]
  }
 ],
 "metadata": {
  "kernelspec": {
   "display_name": "Tensorflow 2.13.0",
   "language": "python",
   "name": "tensorflow-2.13.0"
  },
  "language_info": {
   "codemirror_mode": {
    "name": "ipython",
    "version": 3
   },
   "file_extension": ".py",
   "mimetype": "text/x-python",
   "name": "python",
   "nbconvert_exporter": "python",
   "pygments_lexer": "ipython3",
   "version": "3.10.12"
  }
 },
 "nbformat": 4,
 "nbformat_minor": 4
}
