{
 "cells": [
  {
   "cell_type": "code",
   "execution_count": 1,
   "metadata": {},
   "outputs": [],
   "source": [
    "import torch\n",
    "import torch.nn as nn\n",
    "import numpy as np\n",
    "import matplotlib.pyplot as plt\n",
    "import time\n",
    "import os\n",
    "from RecursiveFNO import RecursiveFNO\n",
    "from glob import glob\n",
    "from torch.utils.data import TensorDataset, DataLoader\n",
    "from neuralop.models.base_model import get_model\n",
    "from configmypy import ConfigPipeline, YamlConfig, ArgparseConfig\n",
    "\n",
    "\n",
    "os.environ['CUDA_VISIBLE_DEVICES'] = '0'\n",
    "torch.manual_seed(66)\n",
    "np.random.seed(66)\n",
    "torch.set_default_dtype(torch.float32)\n",
    "BATCH_SIZE = 1\n",
    "time_steps = 38        # Total time steps per simulation\n",
    "model_select = \"1pde_1mse\""
   ]
  },
  {
   "cell_type": "code",
   "execution_count": 2,
   "metadata": {},
   "outputs": [],
   "source": [
    "def load_checkpoint(model, optimizer, scheduler, save_dir):\n",
    "    '''load model and optimizer'''\n",
    "    checkpoint = torch.load(save_dir)\n",
    "    model.load_state_dict(checkpoint['model_state_dict'])\n",
    "    if (not optimizer is None):\n",
    "        optimizer.load_state_dict(checkpoint['optimizer_state_dict'])\n",
    "        scheduler.load_state_dict(checkpoint['scheduler_state_dict'])\n",
    "    print('Pretrained model loaded!')\n",
    "    return model, optimizer, scheduler"
   ]
  },
  {
   "cell_type": "code",
   "execution_count": 3,
   "metadata": {},
   "outputs": [
    {
     "name": "stdout",
     "output_type": "stream",
     "text": [
      "Pretrained model loaded!\n"
     ]
    }
   ],
   "source": [
    "config_name = \"default\"\n",
    "pipe = ConfigPipeline(\n",
    "    [\n",
    "        YamlConfig(\"ns_pino_config.yaml\", config_name=\"default\", config_folder=\"config\"),\n",
    "    ]\n",
    ")\n",
    "config = pipe.read_conf()\n",
    "config_name = pipe.steps[-1].config_name\n",
    "model_fno = get_model(config).cuda()\n",
    "model = RecursiveFNO(model_fno, time_steps).cuda()\n",
    "model.eval()\n",
    "model, _, _ = load_checkpoint(model, None, None, \"./model/checkpoint1000_\"+model_select+\".pt\")"
   ]
  },
  {
   "cell_type": "code",
   "execution_count": 4,
   "metadata": {},
   "outputs": [],
   "source": [
    "def read_data(datapath, re_list):\n",
    "    vel_seq_whole = []\n",
    "    for vis in re_list:\n",
    "        tmp = np.load(datapath + \"Re_%i.npy\" % vis)\n",
    "        sim_data = tmp.reshape(128, 256, 39, 3)\n",
    "        rho_data_shape = (sim_data.shape[0], sim_data.shape[1], sim_data.shape[2], 1)\n",
    "        rho_data = np.empty(rho_data_shape)\n",
    "        rho_data[:, :, :, :] = vis * 4.0\n",
    "        run_data = np.concatenate([sim_data, rho_data], axis=-1)\n",
    "        # Normalization\n",
    "        run_data[:, :, :, 2] /= (vis * 4.0)\n",
    "        run_data[:, :, :, 3] /= 40000\n",
    "        run_data = np.transpose(run_data, (2, 3, 1, 0))\n",
    "        vel_seq_whole.append(run_data)\n",
    "    return np.array(vel_seq_whole)"
   ]
  },
  {
   "cell_type": "code",
   "execution_count": 5,
   "metadata": {},
   "outputs": [],
   "source": [
    "test_list = [20, 60, 140, 350, 550, 750, 1000]\n",
    "test_seq_clipped = read_data(\"data/\", test_list)\n",
    "test_ic = torch.Tensor(test_seq_clipped[:, 0, :, :, :])\n",
    "test_seq = torch.Tensor(test_seq_clipped[:, 1:, :3, :, :])\n",
    "test_dataset = TensorDataset(test_ic, test_seq)\n",
    "test_dataloader = DataLoader(test_dataset, batch_size=BATCH_SIZE, shuffle=False)"
   ]
  },
  {
   "cell_type": "code",
   "execution_count": 6,
   "metadata": {},
   "outputs": [],
   "source": [
    "with torch.no_grad():\n",
    "    model.eval()\n",
    "    for batch_id, data in enumerate(test_dataloader):\n",
    "        ic, seq = data\n",
    "        ic, seq = ic.cuda(), seq.cuda()\n",
    "        rho = ic[:, 3, 0, 0] * 40000\n",
    "        u0 = ic[:, :3, :, :]\n",
    "        output = model(ic)\n",
    "        output = output[0].transpose(1, 3).detach().cpu().numpy()\n",
    "        fname = \"data/pred_fno/%s/Re_%i.npy\" % (model_select, test_list[batch_id])\n",
    "        np.save(fname, output)"
   ]
  },
  {
   "cell_type": "code",
   "execution_count": null,
   "metadata": {},
   "outputs": [],
   "source": []
  }
 ],
 "metadata": {
  "kernelspec": {
   "display_name": "PyTorch 2.0.1",
   "language": "python",
   "name": "pytorch-2.0.1"
  },
  "language_info": {
   "codemirror_mode": {
    "name": "ipython",
    "version": 3
   },
   "file_extension": ".py",
   "mimetype": "text/x-python",
   "name": "python",
   "nbconvert_exporter": "python",
   "pygments_lexer": "ipython3",
   "version": "3.10.12"
  }
 },
 "nbformat": 4,
 "nbformat_minor": 4
}
