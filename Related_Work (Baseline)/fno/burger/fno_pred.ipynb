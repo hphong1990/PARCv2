{
 "cells": [
  {
   "cell_type": "code",
   "execution_count": null,
   "metadata": {},
   "outputs": [],
   "source": [
    "import torch\n",
    "import torch.nn as nn\n",
    "import numpy as np\n",
    "import matplotlib.pyplot as plt\n",
    "import time\n",
    "import os\n",
    "from RecursiveFNO import RecursiveFNO\n",
    "from glob import glob\n",
    "from torch.utils.data import TensorDataset, DataLoader\n",
    "from neuralop.models.base_model import get_model\n",
    "from configmypy import ConfigPipeline, YamlConfig, ArgparseConfig\n",
    "\n",
    "\n",
    "os.environ['CUDA_VISIBLE_DEVICES'] = '0'\n",
    "torch.manual_seed(66)\n",
    "np.random.seed(66)\n",
    "torch.set_default_dtype(torch.float32)\n",
    "BATCH_SIZE = 1\n",
    "time_steps = 100       # Total time steps per simulation\n",
    "steps = TIME_BATCH_SIZE + 1\n",
    "model_select = \"0pde_1mse\"  # 0pde_1mse for FNO, 1pde_1mse for PIFNO"
   ]
  },
  {
   "cell_type": "code",
   "execution_count": null,
   "metadata": {},
   "outputs": [],
   "source": [
    "def load_checkpoint(model, optimizer, scheduler, save_dir):\n",
    "    '''load model and optimizer'''\n",
    "    checkpoint = torch.load(save_dir)\n",
    "    model.load_state_dict(checkpoint['model_state_dict'])\n",
    "    if (not optimizer is None):\n",
    "        optimizer.load_state_dict(checkpoint['optimizer_state_dict'])\n",
    "        scheduler.load_state_dict(checkpoint['scheduler_state_dict'])\n",
    "    print('Pretrained model loaded!')\n",
    "    return model, optimizer, scheduler"
   ]
  },
  {
   "cell_type": "code",
   "execution_count": null,
   "metadata": {},
   "outputs": [],
   "source": [
    "config_name = \"default\"\n",
    "pipe = ConfigPipeline(\n",
    "    [\n",
    "        YamlConfig(\"burgers_pino_config.yaml\", config_name=\"default\", config_folder=\"config\"),\n",
    "    ]\n",
    ")\n",
    "config = pipe.read_conf()\n",
    "config_name = pipe.steps[-1].config_name\n",
    "model_fno = get_model(config).cuda()\n",
    "model = RecursiveFNO(model_fno, time_steps+1).cuda()\n",
    "model.eval()\n",
    "model, _, _ = load_checkpoint(model, None, None, \"model/checkpoint1000_\" + model_select + \".pt\")"
   ]
  },
  {
   "cell_type": "code",
   "execution_count": null,
   "metadata": {},
   "outputs": [],
   "source": [
    "def read_data(datapath):\n",
    "    vel_seq_whole = []\n",
    "    R = []\n",
    "    a = []\n",
    "    w = []\n",
    "    for each_file in glob(datapath):\n",
    "        vis, aa, ww = os.path.basename(each_file).strip(\".npy\").split(\"_\")[-3:]\n",
    "        R.append(int(vis))\n",
    "        vis = np.float32(vis) / 10000.0\n",
    "        a.append(int(aa))\n",
    "        w.append(int(ww))\n",
    "        sim_data = np.float32(np.load(each_file))\n",
    "        vis_data_shape = (sim_data.shape[0], sim_data.shape[1], sim_data.shape[2], 1)\n",
    "        vis_data = np.empty(vis_data_shape)\n",
    "        vis_data[:, :, :, :] = vis\n",
    "        run_data = np.concatenate([sim_data, vis_data], axis=-1).transpose(2, 3, 1, 0)\n",
    "        run_data = np.expand_dims(run_data, axis=0)\n",
    "        vel_seq_whole.append(run_data)\n",
    "    vel_seq_whole = np.concatenate(vel_seq_whole, axis=0)\n",
    "    return vel_seq_whole, np.array(R), np.array(a), np.array(w)"
   ]
  },
  {
   "cell_type": "code",
   "execution_count": null,
   "metadata": {},
   "outputs": [],
   "source": [
    "for r_tmp in [100, 500, 3000, 6500, 12500, 15000]:\n",
    "    file_reg = \"data/test_data/burgers_test_%i_*.npy\" % r_tmp\n",
    "    test_seq_clipped, r_list, a_list, w_list = read_data(file_reg)\n",
    "    test_ic = torch.Tensor(test_seq_clipped[:, 0, :, :, :])\n",
    "    test_seq = torch.Tensor(test_seq_clipped[:, 1:, :2, :, :])\n",
    "    test_dataset = TensorDataset(test_ic, test_seq)\n",
    "    test_dataloader = DataLoader(test_dataset, batch_size=BATCH_SIZE, shuffle=False)\n",
    "    for batch_id, data in enumerate(test_dataloader):\n",
    "        with torch.no_grad():\n",
    "            ic, seq = data\n",
    "            ic = ic.cuda()\n",
    "            pred = model(ic)\n",
    "            pred = pred[0, :-1, :2, :, :].transpose(1, 3).detach().cpu().numpy()\n",
    "        fname = \"data/pred_fno/%s/burgers_test_%i_%i_%i.npy\" % (model_select,\n",
    "                                                                r_list[batch_id],\n",
    "                                                                a_list[batch_id],\n",
    "                                                                w_list[batch_id])\n",
    "        np.save(fname, pred)"
   ]
  }
 ],
 "metadata": {
  "kernelspec": {
   "display_name": "PyTorch 2.0.1",
   "language": "python",
   "name": "pytorch-2.0.1"
  },
  "language_info": {
   "codemirror_mode": {
    "name": "ipython",
    "version": 3
   },
   "file_extension": ".py",
   "mimetype": "text/x-python",
   "name": "python",
   "nbconvert_exporter": "python",
   "pygments_lexer": "ipython3",
   "version": "3.10.12"
  }
 },
 "nbformat": 4,
 "nbformat_minor": 4
}
