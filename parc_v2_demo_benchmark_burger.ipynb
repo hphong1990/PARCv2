{
 "cells": [
  {
   "cell_type": "code",
   "execution_count": 1,
   "metadata": {},
   "outputs": [
    {
     "name": "stderr",
     "output_type": "stream",
     "text": [
      "2024-01-18 10:46:54.031529: I tensorflow/core/platform/cpu_feature_guard.cc:183] This TensorFlow binary is optimized to use available CPU instructions in performance-critical operations.\n",
      "To enable the following instructions: SSE3 SSE4.1 SSE4.2 AVX, in other operations, rebuild TensorFlow with the appropriate compiler flags.\n"
     ]
    }
   ],
   "source": [
    "import numpy as np\n",
    "import matplotlib.pyplot as plt\n",
    "import tensorflow as tf\n",
    "import os\n",
    "os.chdir(\".\")\n",
    "# from parc.data import EnergeticMatDataPipeLine as EmData\n",
    "from parc import misc, metrics, model,visualization\n",
    "from parc.model import model_burgers\n",
    "from skimage.measure import block_reduce\n"
   ]
  },
  {
   "cell_type": "markdown",
   "metadata": {},
   "source": [
    "# Data pipeline"
   ]
  },
  {
   "cell_type": "code",
   "execution_count": 2,
   "metadata": {},
   "outputs": [],
   "source": [
    "import time\n",
    "import os\n",
    "import numpy as np\n",
    "import skimage\n",
    "from skimage.measure import block_reduce\n",
    "# \n",
    "R_list = [1000, 2500, 5000, 7500, 10000]\n",
    "a_list = [0.5, 0.6, 0.7, 0.8, 0.9]\n",
    "w_list = [0.7, 0.8, 0.9, 1.0]\n",
    "\n",
    "def clip_raw_data(idx_range, sequence_length=2, n_state_var=3, purpose = \"diff_training\"):\n",
    "    vel_seq_whole = []\n",
    "\n",
    "    for R in R_list:\n",
    "        for a in a_list:\n",
    "            for w in w_list:\n",
    "                data_file_name = 'burgers_train_' + str(int(R)) + '_' + str(int(a*10)) + '_' + str(int(w*10)) + '.npy'\n",
    "                file_path = './train_data/' + data_file_name                \n",
    "                if os.path.exists(file_path):\n",
    "                    raw_data = np.float32(np.load(file_path))\n",
    "                    raw_data = np.moveaxis(raw_data,-2,0)\n",
    "                    data_shape = raw_data.shape\n",
    "                    num_time_steps = data_shape[0]\n",
    "                    norm_r = R/15000\n",
    "                    r_img = norm_r*np.ones(shape = (1,data_shape[1],data_shape[2],1))\n",
    "                                      \n",
    "                    vel_seq_case = [np.concatenate(\n",
    "                        [np.concatenate([np.expand_dims(raw_data[(j + k), :, :, :],axis = 0),r_img],axis = -1)\n",
    "                        for k in range(sequence_length)], axis=-1)\n",
    "                        for j in range (num_time_steps-sequence_length+1)] \n",
    "                    vel_seq_whole.extend(vel_seq_case)\n",
    "\n",
    "    vel_seq_whole = np.concatenate(vel_seq_whole, axis=0)\n",
    "    return vel_seq_whole\n",
    "\n",
    "seq_clipped = clip_raw_data((1,100),2)"
   ]
  },
  {
   "cell_type": "markdown",
   "metadata": {},
   "source": [
    "# Training\n"
   ]
  },
  {
   "cell_type": "markdown",
   "metadata": {},
   "source": [
    "### Stage 1: Differentiator training"
   ]
  },
  {
   "cell_type": "code",
   "execution_count": null,
   "metadata": {},
   "outputs": [],
   "source": [
    "# Create tf.dataset\n",
    "dataset_input = tf.data.Dataset.from_tensor_slices(seq_clipped[:,:,:,:3])\n",
    "dataset_label = tf.data.Dataset.from_tensor_slices(seq_clipped[:,:,:,3:])\n",
    "dataset = tf.data.Dataset.zip((dataset_input, dataset_label))\n",
    "dataset = dataset.shuffle(buffer_size = 10000) \n",
    "dataset = dataset.batch(8)"
   ]
  },
  {
   "cell_type": "code",
   "execution_count": 27,
   "metadata": {
    "scrolled": true
   },
   "outputs": [],
   "source": [
    "tf.keras.backend.clear_session()\n",
    "parc = model_burgers.PARCv2_burgers(n_time_step = 1, step_size= 1/100, solver = \"heun\", mode = \"differentiator_training\")\n",
    "parc.differentiator.load_weights('./parc2_diff_burgers_heun_2.h5')\n",
    "parc.compile(optimizer = tf.keras.optimizers.Adam(learning_rate = 0.00005, beta_1 = 0.9, beta_2 = 0.999))\n",
    "parc.fit(dataset, epochs = 50, shuffle = True)"
   ]
  },
  {
   "cell_type": "code",
   "execution_count": null,
   "metadata": {},
   "outputs": [],
   "source": [
    "parc.differentiator.save_weights('parc2_diff_burgers_heun_2.h5')"
   ]
  },
  {
   "cell_type": "markdown",
   "metadata": {},
   "source": [
    "### Stage 2: Data-driven integration training"
   ]
  },
  {
   "cell_type": "code",
   "execution_count": null,
   "metadata": {
    "scrolled": true
   },
   "outputs": [],
   "source": [
    "# Pretrain integrator\n",
    "tf.keras.backend.clear_session()\n",
    "# Create integrator\n",
    "parc = model_burgers.PARCv2_burgers(n_time_step = 1, step_size= 1/100, solver = \"heun\", mode = \"integrator_training\")\n",
    "parc.differentiator.load_weights('./parc2_diff_burgers_heun_2.h5')\n",
    "# parc.integrator.load_weights('./parc2_int_burgers_heun_2.h5')\n",
    "parc.compile(optimizer = tf.keras.optimizers.Adam(learning_rate = 0.00001, beta_1 = 0.9, beta_2 = 0.999))\n",
    "parc.fit(dataset, epochs = 5, shuffle = True)"
   ]
  },
  {
   "cell_type": "code",
   "execution_count": null,
   "metadata": {},
   "outputs": [],
   "source": [
    "parc.integrator.save_weights('parc2_int_burgers_heun_2.h5')"
   ]
  },
  {
   "cell_type": "markdown",
   "metadata": {},
   "source": [
    "# Validation"
   ]
  },
  {
   "cell_type": "code",
   "execution_count": null,
   "metadata": {
    "scrolled": true,
    "tags": []
   },
   "outputs": [],
   "source": [
    "R_list = [100, 500, 3000, 6500, 12500, 15000]\n",
    "a_list = [0.35, 0.40, 0.45, 0.55, 0.65, 0.75, 0.85, 0.95, 1.00]\n",
    "w_list = [0.55, 0.6, 0.65, 0.75, 0.85, 0.95, 1.05]\n",
    "\n",
    "def clip_raw_data_for_validation(idx_range, sequence_length=2, n_state_var=3, purpose = \"diff_training\"):\n",
    "    vel_seq_whole = []\n",
    "\n",
    "    for R in R_list:\n",
    "        for a in a_list:\n",
    "            for w in w_list:\n",
    "                data_file_name = 'burgers_test_' + str(int(R)) + '_' + str(int(a*100)) + '_' + str(int(w*100)) + '.npy'\n",
    "                print(data_file_name)\n",
    "\n",
    "                file_path = '/home/cdy9xh/Research/data/test_data/' + data_file_name\n",
    "                if os.path.exists(file_path):\n",
    "                    raw_data = np.float32(np.load(file_path))\n",
    "                    raw_data = np.moveaxis(raw_data,-2,0)\n",
    "                    data_shape = raw_data.shape\n",
    "                    num_time_steps = data_shape[0]\n",
    "                    norm_r = R/15000\n",
    "                    r_img = norm_r*np.ones(shape = (1,data_shape[1],data_shape[2],1))            \n",
    "                    vel_seq_case = [np.concatenate(\n",
    "                        [np.concatenate([np.expand_dims(raw_data[(j + k), :, :, :],axis = 0),r_img],axis = -1)\n",
    "                        for k in range(sequence_length)], axis=-1)\n",
    "                        for j in range (1)] \n",
    "                    vel_seq_whole.extend(vel_seq_case)\n",
    "    print(len(vel_seq_whole))\n",
    "    vel_seq_whole = np.concatenate(vel_seq_whole, axis=0)\n",
    "\n",
    "    return vel_seq_whole\n",
    "\n",
    "seq_clipped_test = clip_raw_data_for_validation((1,100),100)"
   ]
  },
  {
   "cell_type": "code",
   "execution_count": 40,
   "metadata": {
    "tags": []
   },
   "outputs": [],
   "source": [
    "tf.keras.backend.clear_session()\n",
    "parc = PARCv2_burgers(n_time_step = 99, step_size= 1/100, solver = \"heun\")\n",
    "parc.differentiator.load_weights('parc2_diff_burgers_heun_2.h5')\n",
    "parc.integrator.load_weights('parc2_int_burgers_heun_2.h5')"
   ]
  },
  {
   "cell_type": "code",
   "execution_count": null,
   "metadata": {},
   "outputs": [],
   "source": [
    "parc.build(input_shape = (None,64,64,3) )\n",
    "parc.save('parcv2_burgers.keras')"
   ]
  },
  {
   "cell_type": "code",
   "execution_count": null,
   "metadata": {},
   "outputs": [],
   "source": [
    "loaded_parc = tf.keras.models.load_model('parcv2_burgers.keras')"
   ]
  },
  {
   "cell_type": "code",
   "execution_count": null,
   "metadata": {
    "scrolled": true,
    "tags": []
   },
   "outputs": [],
   "source": [
    "prediction_data = []\n",
    "for j in range(50):\n",
    "    input_seq_current = tf.cast(seq_clipped_test[j:j+1,:,:,:3], dtype = tf.float32)\n",
    "    res = loaded_parc.predict(input_seq_current)\n",
    "    prediction_data.append(res)\n",
    "    print('Finish case ', j)\n",
    "prediction_data = np.concatenate(prediction_data, axis = 0)"
   ]
  },
  {
   "cell_type": "code",
   "execution_count": 38,
   "metadata": {},
   "outputs": [],
   "source": [
    "prediction_data = np.squeeze(prediction_data)"
   ]
  },
  {
   "cell_type": "code",
   "execution_count": 8,
   "metadata": {},
   "outputs": [],
   "source": [
    "np.save('./plotting/burgers/parcv2_burgers.npy',prediction_data)"
   ]
  }
 ],
 "metadata": {
  "kernelspec": {
   "display_name": "Tensorflow 2.13.0",
   "language": "python",
   "name": "tensorflow-2.13.0"
  },
  "language_info": {
   "codemirror_mode": {
    "name": "ipython",
    "version": 3
   },
   "file_extension": ".py",
   "mimetype": "text/x-python",
   "name": "python",
   "nbconvert_exporter": "python",
   "pygments_lexer": "ipython3",
   "version": "3.10.12"
  }
 },
 "nbformat": 4,
 "nbformat_minor": 4
}
