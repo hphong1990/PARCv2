{
 "cells": [
  {
   "cell_type": "code",
   "execution_count": 1,
   "metadata": {},
   "outputs": [],
   "source": [
    "import numpy as np\n",
    "import matplotlib.pyplot as plt\n",
    "import tensorflow as tf\n",
    "import os\n",
    "os.chdir(\".\")\n",
    "from parc.model import model_burgers"
   ]
  },
  {
   "cell_type": "markdown",
   "metadata": {},
   "source": [
    "# Data pipeline"
   ]
  },
  {
   "cell_type": "code",
   "execution_count": 7,
   "metadata": {},
   "outputs": [],
   "source": [
    "R_list = [1000, 2500, 5000, 7500, 10000]\n",
    "a_list = [0.5, 0.6, 0.7, 0.8, 0.9]\n",
    "w_list = [0.7, 0.8, 0.9, 1.0]\n",
    "\n",
    "def clip_raw_data(sequence_length=2):\n",
    "    vel_seq_whole = []\n",
    "    # Looping through the file list\n",
    "    for R in R_list:\n",
    "        for a in a_list:\n",
    "            for w in w_list:\n",
    "                data_file_name = 'burgers_train_' + str(int(R)) + '_' + str(int(a*10)) + '_' + str(int(w*10)) + '.npy'\n",
    "                file_path = './data/burgers/train_data/' + data_file_name                \n",
    "                if os.path.exists(file_path):\n",
    "                    # Load data\n",
    "                    raw_data = np.float32(np.load(file_path))\n",
    "                    # Reorganize tensor shape\n",
    "                    raw_data = np.moveaxis(raw_data,-2,0)\n",
    "                    data_shape = raw_data.shape\n",
    "                    num_time_steps = data_shape[0]\n",
    "                    norm_r = R/15000\n",
    "                    r_img = norm_r*np.ones(shape = (1,data_shape[1],data_shape[2],1))\n",
    "                    \n",
    "                    # Reorganize tensor shape\n",
    "                    for j in range (num_time_steps-sequence_length):\n",
    "                        # Assemble first step\n",
    "                        init_snapshot = np.concatenate([raw_data[j:j+1, :, :, :],r_img],axis = -1)\n",
    "                        # Collect the rest\n",
    "                        following_snapshot = []\n",
    "                        for k in range(sequence_length-1):\n",
    "                            following_snapshot.append(raw_data[(j + k +1):(j + k + 2), :, :, :])\n",
    "                        following_snapshot = np.concatenate(following_snapshot,axis = -1)\n",
    "                        # Assemble all\n",
    "                        vel_seq_case = np.concatenate([init_snapshot,following_snapshot],axis = -1)\n",
    "                        vel_seq_whole.append(vel_seq_case)\n",
    "\n",
    "    vel_seq_whole = np.concatenate(vel_seq_whole, axis=0)\n",
    "    return vel_seq_whole\n",
    "\n",
    "seq_clipped = clip_raw_data(3)"
   ]
  },
  {
   "cell_type": "code",
   "execution_count": null,
   "metadata": {},
   "outputs": [],
   "source": []
  },
  {
   "cell_type": "markdown",
   "metadata": {},
   "source": [
    "# Training\n"
   ]
  },
  {
   "cell_type": "markdown",
   "metadata": {},
   "source": [
    "### Stage 1: Differentiator training"
   ]
  },
  {
   "cell_type": "code",
   "execution_count": 8,
   "metadata": {},
   "outputs": [],
   "source": [
    "# Create tf.dataset\n",
    "dataset_input = tf.data.Dataset.from_tensor_slices(seq_clipped[:,:,:,:3])\n",
    "dataset_label = tf.data.Dataset.from_tensor_slices(seq_clipped[:,:,:,3:])\n",
    "dataset = tf.data.Dataset.zip((dataset_input, dataset_label))\n",
    "dataset = dataset.shuffle(buffer_size = 10000) \n",
    "dataset = dataset.batch(8)"
   ]
  },
  {
   "cell_type": "code",
   "execution_count": null,
   "metadata": {
    "scrolled": true
   },
   "outputs": [],
   "source": [
    "tf.keras.backend.clear_session()\n",
    "parc = model_burgers.PARCv2_burgers(n_time_step = 1, step_size= 1/100, solver = \"heun\", mode = \"differentiator_training\")\n",
    "parc.compile(optimizer = tf.keras.optimizers.Adam(learning_rate = 0.00005, beta_1 = 0.9, beta_2 = 0.999))\n",
    "parc.fit(dataset, epochs = 1, shuffle = True)"
   ]
  },
  {
   "cell_type": "code",
   "execution_count": null,
   "metadata": {},
   "outputs": [],
   "source": [
    "parc.differentiator.save_weights('./pretrained_weights/burgers/parc2_diff_burgers_heun.h5')"
   ]
  },
  {
   "cell_type": "markdown",
   "metadata": {},
   "source": [
    "### Stage 2: Data-driven integration training"
   ]
  },
  {
   "cell_type": "code",
   "execution_count": null,
   "metadata": {
    "scrolled": true
   },
   "outputs": [],
   "source": [
    "# Pretrain integrator\n",
    "tf.keras.backend.clear_session()\n",
    "parc = model_burgers.PARCv2_burgers(n_time_step = 2, step_size= 1/100, solver = \"heun\", mode = \"integrator_training\")\n",
    "parc.differentiator.load_weights('./pretrained_weights/burgers/parc2_diff_burgers_heun.h5')\n",
    "parc.compile(optimizer = tf.keras.optimizers.Adam(learning_rate = 0.00001, beta_1 = 0.9, beta_2 = 0.999))\n",
    "parc.fit(dataset, epochs = 1, shuffle = True)"
   ]
  },
  {
   "cell_type": "code",
   "execution_count": null,
   "metadata": {},
   "outputs": [],
   "source": [
    "parc.integrator.save_weights('./pretrained_weights/burgers/parc2_int_burgers_heun.h5')"
   ]
  },
  {
   "cell_type": "markdown",
   "metadata": {},
   "source": [
    "# Validation"
   ]
  },
  {
   "cell_type": "code",
   "execution_count": 15,
   "metadata": {
    "scrolled": true,
    "tags": []
   },
   "outputs": [],
   "source": [
    "R_list = [100, 500, 3000, 6500, 12500, 15000]\n",
    "a_list = [0.35, 0.40, 0.45, 0.55, 0.65, 0.75, 0.85, 0.95, 1.00]\n",
    "w_list = [0.55, 0.6, 0.65, 0.75, 0.85, 0.95, 1.05]\n",
    "\n",
    "def clip_raw_data_for_validation(sequence_length=2):\n",
    "    vel_seq_whole = []\n",
    "\n",
    "    for R in R_list:\n",
    "        for a in a_list:\n",
    "            for w in w_list:\n",
    "                data_file_name = 'burgers_test_' + str(int(R)) + '_' + str(int(a*100)) + '_' + str(int(w*100)) + '.npy'\n",
    "                file_path = '.././data/burgers/test_data/' + data_file_name\n",
    "                if os.path.exists(file_path):\n",
    "                    raw_data = np.float32(np.load(file_path))\n",
    "                    raw_data = np.moveaxis(raw_data,-2,0)\n",
    "                    data_shape = raw_data.shape\n",
    "                    norm_r = R/15000\n",
    "                    r_img = norm_r*np.ones(shape = (1,data_shape[1],data_shape[2],1))            \n",
    "                    for j in range (1):\n",
    "                        # Assemble first step\n",
    "                        init_snapshot = np.concatenate([raw_data[j:j+1, :, :, :],r_img],axis = -1)\n",
    "                        # Collect the rest\n",
    "                        following_snapshot = []\n",
    "                        for k in range(sequence_length-1):\n",
    "                            following_snapshot.append(raw_data[(j + k +1):(j + k + 2), :, :, :])\n",
    "                        following_snapshot = np.concatenate(following_snapshot,axis = -1)\n",
    "                        # Assemble all\n",
    "                        vel_seq_case = np.concatenate([init_snapshot,following_snapshot],axis = -1)\n",
    "                        vel_seq_whole.append(vel_seq_case)\n",
    "    vel_seq_whole = np.concatenate(vel_seq_whole, axis=0)\n",
    "    return vel_seq_whole\n",
    "\n",
    "seq_clipped_test = clip_raw_data_for_validation(sequence_length = 101)"
   ]
  },
  {
   "cell_type": "code",
   "execution_count": 16,
   "metadata": {},
   "outputs": [
    {
     "data": {
      "text/plain": [
       "(378, 64, 64, 203)"
      ]
     },
     "execution_count": 16,
     "metadata": {},
     "output_type": "execute_result"
    }
   ],
   "source": [
    "seq_clipped_test.shape"
   ]
  },
  {
   "cell_type": "markdown",
   "metadata": {},
   "source": [
    "## Load model"
   ]
  },
  {
   "cell_type": "markdown",
   "metadata": {},
   "source": [
    "### Option 1: from weight files"
   ]
  },
  {
   "cell_type": "code",
   "execution_count": 2,
   "metadata": {
    "tags": []
   },
   "outputs": [],
   "source": [
    "tf.keras.backend.clear_session()\n",
    "parc = model_burgers.PARCv2_burgers(n_time_step = 99, step_size= 1/100, solver = \"heun\")\n",
    "parc.differentiator.load_weights('./pretrained_weights/burgers/parc2_diff_burgers_heun.h5')\n",
    "parc.integrator.load_weights('./pretrained_weights/burgers/parc2_int_burgers_heun.h5')"
   ]
  },
  {
   "cell_type": "markdown",
   "metadata": {},
   "source": [
    "### Option 2: from model files"
   ]
  },
  {
   "cell_type": "code",
   "execution_count": null,
   "metadata": {},
   "outputs": [],
   "source": [
    "loaded_parc = tf.keras.models.load_model('./pretrained_weights/burgers/parcv2_burgers.keras')"
   ]
  },
  {
   "cell_type": "markdown",
   "metadata": {},
   "source": [
    "## Make prediction on the test set"
   ]
  },
  {
   "cell_type": "code",
   "execution_count": null,
   "metadata": {
    "scrolled": true,
    "tags": []
   },
   "outputs": [],
   "source": [
    "prediction_data = []\n",
    "for j in range(50):\n",
    "    input_seq_current = tf.cast(seq_clipped_test[j:j+1,:,:,:3], dtype = tf.float32)\n",
    "    res = loaded_parc.predict(input_seq_current)\n",
    "    prediction_data.append(res)\n",
    "    print('Finish case ', j)\n",
    "prediction_data = np.concatenate(prediction_data, axis = 0)"
   ]
  },
  {
   "cell_type": "code",
   "execution_count": 38,
   "metadata": {},
   "outputs": [],
   "source": [
    "prediction_data = np.squeeze(prediction_data)"
   ]
  },
  {
   "cell_type": "code",
   "execution_count": 8,
   "metadata": {},
   "outputs": [],
   "source": [
    "np.save('./plotting/burgers/parcv2_burgers.npy',prediction_data)"
   ]
  }
 ],
 "metadata": {
  "kernelspec": {
   "display_name": "materiq",
   "language": "python",
   "name": "python3"
  },
  "language_info": {
   "codemirror_mode": {
    "name": "ipython",
    "version": 3
   },
   "file_extension": ".py",
   "mimetype": "text/x-python",
   "name": "python",
   "nbconvert_exporter": "python",
   "pygments_lexer": "ipython3",
   "version": "3.9.17"
  }
 },
 "nbformat": 4,
 "nbformat_minor": 4
}
